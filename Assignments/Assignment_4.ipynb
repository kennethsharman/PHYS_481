{
 "cells": [
  {
   "cell_type": "code",
   "execution_count": 1,
   "metadata": {},
   "outputs": [],
   "source": [
    "# Good sample is either with a large grid/ multiple grids/ grinds run for a ling time\n",
    "# Long term behavior\n",
    "# Some discussion regarding how long it takes to reach steady state"
   ]
  },
  {
   "cell_type": "markdown",
   "metadata": {},
   "source": [
    "## PHYS 481 Assignment 4\n",
    "\n",
    "October 28, 2018\n",
    "\n",
    "Kenneth Sharman (00300185)"
   ]
  },
  {
   "cell_type": "code",
   "execution_count": 2,
   "metadata": {},
   "outputs": [],
   "source": [
    "'''Import standard packages'''\n",
    "import numpy as np\n",
    "import matplotlib.pyplot as plt\n"
   ]
  },
  {
   "cell_type": "markdown",
   "metadata": {},
   "source": [
    "### Introduction\n",
    "\n",
    "BLAH BLAH BLAH"
   ]
  },
  {
   "cell_type": "markdown",
   "metadata": {},
   "source": [
    "#### The Ising Model\n",
    "\n",
    "The Ising model is a theoretical model of a magnet. The magnetization of a material is produced by the combination of the magnet dipoles within the material. If these magnetic dipoles are totally random, then their sum will produce a magnetization near zero. In contrast, if many of them point in the same direction, then the material will have a macroscopic non-zero magnetization.\n",
    "\n",
    "The Ising model is a simplified model in which there are only two directions the dipoles can point; up or down. In quantum mechanics it can be shown that an electron's spin and magnetic moment (discussed below) are proportional to eachother$^1$. Thus, we refer to the dipole directions as $+1$ spin and $-1$ spin, respectively. The material is modeled by a lattice or array. We will deal with lattices in one or two dimensions, however the model can be extended to any number of dimensions. \n",
    "\n",
    "The individual diploes will interact with a magnetic field in such a way that it is energetically favorable for them to line up with the magnetic field. To expand on this, the concepts of dipole moment and potential energy must be discussed.\n",
    "\n",
    "#### Magnetic Dipole Moment and its Potential Energy\n",
    "\n",
    "Recall that the concept of the magetic dipole is easily defined when considering a loop of current. In our study of electromagnetism, the Bio-Savart law establishes that moving charges produce a magnetic field. In the case of a loop of current, a magnetic dipole is produced and we define the magnetic moment as\n",
    "\n",
    "$$\\mu = I \\; A$$\n",
    "\n",
    "Where $\\mu$ is the magnetic dipole moment, $I$ is the current in loop, and $A$ is the area of the loop. We will not be considering this definition in this report, however it makes it easy to conceptualize the magnetic moment. Orbiting electrons in an atom can be viewed as a loop of current, hence every atom has a magnetic dipole moment.\n",
    "\n",
    "The magnetic moment can be considered to be a vector quantity with direction perpendicular to the current loop (using right-hand rule). The torque is given by\n",
    "\n",
    "$$\\vec \\tau = \\vec{\\mu} \\times \\vec{\\text{B}} $$\n",
    "\n",
    "Since the torque tries to line up the magnetic moment with the magnetic field, the lowest energy configuration is when $\\mu$ and $\\text{B}$ point in the same direction. Thus, we can express the potential energy as\n",
    "\n",
    "$$\\text{U} = - \\vec{\\mu} \\cdot \\vec{\\text{B}} = -\\mu \\text{B} \\cos{\\theta} $$\n",
    "\n",
    "Where $\\theta$ represents that angle between the two vectors. Note that the minus sign is essential to ensure that the interactions are ferromagnetic; the energy is minimized when the vectors are aligned.\n",
    "\n",
    "In the highest energy configuration, where the two vectors are pointing in opposite directions, $\\text{U} = \\mu \\text{B}$ and in the lowest configuration (anti-aligned), $U=-\\mu \\text{B}$.\n",
    "\n",
    "#### An Ising Chain\n",
    "The goal of this report is to construct a two-dimensional Ising model, however we must build it up from the basics. First, we consider $N$ magnetic dipoles fixed in place in a linear chain.\n",
    "\n",
    "Since every dipole has two possible states (spin) $S = \\pm 1$, a chain of $N$ dipoles has $2^N$ possible configurations. It is easy to see that even for modest values of $N$ simply calculating the number of possible configurations becomes computationaly expensive. A discussion of statistical mechanics becomes essential to the construction of the model.\n",
    "\n",
    "#### A Probabalistic Approach\n",
    "\n",
    "Consider a system in thermal equilibrium with a heat-sink of temperature T, where the exact state of the system is unknown. At any particular moment the probablity of it occupying state $i$ with energy $E_i$ is given by the Boltzmann formula$^1$\n",
    "\n",
    "$$ p_i = \\frac{e^{-\\beta E_i}}{Z} \\qquad \\text{where} \\qquad Z = \\sum_{i}^{N} e^{- \\beta E_i} $$\n",
    "\n",
    "The quantity beta $\\beta = \\frac{1}{k_B T}$ where $k_B = 8.6173303 \\times 1 0 ^{−5} \\frac{eV}{K}$ is the Boltzmann constant and $T$ is temperature in Kelvin.\n",
    "\n",
    "The quantity $Z$ is known as the partition function, which normalizes the probabilties such that there sum is equal to one. In general it is not known, and quite expensive to calculate. Before we analyze the complexity, the energy states and corresponding probablities are investigated for a one-dimensional Ising chain.\n",
    "\n",
    "#### Question: Write a function which will calculate all of the energy states and probabilities for an arbitrary number of independent dipoles.  Tabulate the results for $N=3$, $\\beta=0.1$ and $B=2$\n",
    "\n",
    "Consider a collection of $N$ independent dipoles with state $S=\\pm 1$ in an external magnetic field $B$.  The energy associated with the entire system is given by  \n",
    "\n",
    "$$ E = - \\mu B \\sum_k S_k $$\n",
    "  \n",
    "This expression for the energy will allow us to calculate the probability associated with each state. For simplicity, we will use magentic moment equal to one, $\\mu = 1 A m^2$. The energy equation is then\n",
    "\n",
    "$$ E = - B \\sum_k S_k $$\n",
    "\n",
    "First, we define a class that can be used to instantiate a one-dimensional Ising chain$^2$."
   ]
  },
  {
   "cell_type": "code",
   "execution_count": 3,
   "metadata": {},
   "outputs": [],
   "source": [
    "'''Import package used to replace iteration method in calc_all_configs'''\n",
    "from itertools import product\n",
    "\n",
    "class IsingChain:\n",
    "    '''\n",
    "    Class used to instantiate a one-dimensional ising chain. Instance variables\n",
    "    include; chain length (N), magentic field (B), and beta (k_B * T). Instance\n",
    "    methods include; calc_energy, calc_all_configs (all possible configurations\n",
    "    of chain length N), calc_all_e (energy of each possible configuration),\n",
    "    calc_probs (probability of each configuration), randomize_state (randomly\n",
    "    select configuration).\n",
    "    '''\n",
    "    def __init__(self, N, B, beta):\n",
    "        '''\n",
    "        Constructor initializes N, B, and beta\n",
    "        Parameters:\n",
    "            N - number of dipoles in chain\n",
    "            B - Magnetic field in eV/(A*m^2)\n",
    "            beta - 1/(k_B * T) with units of 1/eV\n",
    "        '''\n",
    "        self.n_val = N # Length of Ising Chain\n",
    "        self.b_val = B # Magentic Field (eV/Am^2)\n",
    "        self.beta = beta # 1/(k_B * T)\n",
    "\n",
    "        # call function that does initial calculations\n",
    "        self.__init__generate_all_state_data()\n",
    "\n",
    "    def calc_energy(self, a_state):\n",
    "        '''\n",
    "        Calculates energy of chain configuration\n",
    "        Parameters: a_state - ising chain spins\n",
    "        Returns: E = -B * sum of states (eV)\n",
    "        '''\n",
    "        return -self.b_val * np.sum(a_state)\n",
    "\n",
    "    def calc_all_configs(self):\n",
    "        '''\n",
    "        Determines all possible spin-up and spin-down configurations of Ising\n",
    "        Chain of length n_val. Initializes all_states variable with array\n",
    "        containing lists of each state.\n",
    "        '''\n",
    "        # List comprehension used in conjunction with itertools.product which\n",
    "        #is equivalent to nested for-loops. This one line statement iterates\n",
    "        # through all possible configurations of +/-1 repeated N times\n",
    "        self.all_states = np.array([np.array(i) for i in product([1, -1], repeat=self.n_val)])\n",
    "\n",
    "    def calc_all_e(self):\n",
    "        '''\n",
    "        Calculates energies for all configurations found in all_states instance\n",
    "        variable. Initializes e_of_states variable with array of energies.\n",
    "        '''\n",
    "        # For each configuration of spins; calculate E= -B * sum spins\n",
    "        self.e_of_states = np.array([-self.b_val * np.sum(state) for state in self.all_states])\n",
    "\n",
    "    def calc_partition(self):\n",
    "        '''\n",
    "        Calculates the partition function, given energies of all possible\n",
    "        configurations. Initializes Z variable with this normalizing constant.\n",
    "        '''\n",
    "        self.z_val = np.sum([np.exp(-self.beta*e) for e in self.e_of_states])\n",
    "\n",
    "    def calc_probs(self):\n",
    "        '''\n",
    "        Calculates the probability of being in each of the possible\n",
    "        configurations, using Blotzmann formula. Initializes prob_all_states\n",
    "        variable with array of probabilities.\n",
    "        '''\n",
    "        self.prob_all_states = np.array([np.exp(-self.beta*E) \\\n",
    "                                         for E in self.e_of_states]) / self.z_val\n",
    "\n",
    "    def randomize_state(self):\n",
    "        '''\n",
    "        Randomly selects one possible spin configuration using Boltzmann\n",
    "        probabilities. Assigns this spin configuration to state variable and\n",
    "        assigns corresponding energy to e instance variable.\n",
    "        '''\n",
    "        # Randomly select index of possible state\n",
    "        index = np.random.choice(np.arange(len(self.all_states)), p=self.prob_all_states)\n",
    "        self.state = self.all_states[index] # assign spin config to state instance variable\n",
    "        self.e_val = self.calc_energy(self.state)\n",
    "        # calculate and assign energy of state to e instance variable\n",
    "\n",
    "    def __init__generate_all_state_data(self):\n",
    "        '''\n",
    "        Function called from default constructor. Calls all instance functions,\n",
    "        which initializes all spin configurations, corresponding energies,\n",
    "        partition function, corresponding probabilities, and randomizes the\n",
    "        Ising Chain.\n",
    "        '''\n",
    "        self.calc_all_configs()\n",
    "        self.calc_all_e()\n",
    "        self.calc_partition()\n",
    "        self.calc_probs()\n",
    "        self.randomize_state()\n"
   ]
  },
  {
   "cell_type": "markdown",
   "metadata": {},
   "source": [
    "Using this class we can instantiate an Ising chain of length 3, and display all energy states and probabilities using the Pandas package."
   ]
  },
  {
   "cell_type": "code",
   "execution_count": 4,
   "metadata": {},
   "outputs": [],
   "source": [
    "'''Instantiate Ising Chain'''\n",
    "ISING_MODEL = IsingChain(N=3, B=2, beta=0.1)\n"
   ]
  },
  {
   "cell_type": "code",
   "execution_count": 5,
   "metadata": {},
   "outputs": [
    {
     "name": "stdout",
     "output_type": "stream",
     "text": [
      "Energies and Probabilities corresponding to B=2 and beta=0.1\n",
      "   Energy  Probabliity  S1  S2  S3\n",
      "0      -6     0.214586   1   1   1\n",
      "1      -2     0.143841   1   1  -1\n",
      "2      -2     0.143841   1  -1   1\n",
      "3       2     0.096420   1  -1  -1\n",
      "4      -2     0.143841  -1   1   1\n",
      "5       2     0.096420  -1   1  -1\n",
      "6       2     0.096420  -1  -1   1\n",
      "7       6     0.064632  -1  -1  -1\n",
      "\n",
      "Sum of Probabilities =  1.0\n"
     ]
    }
   ],
   "source": [
    "'''Import Pandas package for table creation'''\n",
    "import pandas as pd\n",
    "\n",
    "DF1 = pd.DataFrame({\n",
    "    'S1': [state[0] for state in ISING_MODEL.all_states],\n",
    "    'S2': [state[1] for state in ISING_MODEL.all_states],\n",
    "    'S3': [state[2] for state in ISING_MODEL.all_states],\n",
    "    'Energy': ISING_MODEL.e_of_states,\n",
    "    'Probabliity': ISING_MODEL.prob_all_states\n",
    "})\n",
    "\n",
    "print('Energies and Probabilities corresponding to B=2 and beta=0.1')\n",
    "print(DF1)\n",
    "print('\\nSum of Probabilities = ', np.sum(ISING_MODEL.prob_all_states))\n"
   ]
  },
  {
   "cell_type": "markdown",
   "metadata": {},
   "source": [
    "As a quick test the sum of the probabilities was printed, as we must have a total of 1. The largest probability corresponds to the configuration where each spin is up. The lowest probability corresponds to the configuration where each spin is down. These configurations have the minimum and maximum energy states, respectively. This makes sense, as we expect an increased chance that the dipoles will be aligned with the magnetic field. We can think of this as the dipoles to be \"seeking\" the lowest energy state."
   ]
  },
  {
   "cell_type": "markdown",
   "metadata": {},
   "source": [
    "#### Question: Write a function which will return a Boltzmann random state for an arbitrary number $N$ of independent dipoles.  Plot the time required to produce the result as a function of $N$.  Discuss your results.\n",
    "\n",
    "Using the Ising Chain class defined above we can instantiate a range of chain lengths and use the timeit package to time how long the randomize function takes. Note that the total time could be veiwed to include the instantiation time as well, which is significantly longer, however it will be seen that simply calling the randomize function results in non-linear runtime."
   ]
  },
  {
   "cell_type": "code",
   "execution_count": 6,
   "metadata": {},
   "outputs": [],
   "source": [
    "'''Import timeit package to evaluate runtimes'''\n",
    "import timeit\n",
    "\n",
    "TIME1 = [] # Lists for average runtimes\n",
    "N_VALS = np.arange(2, 20) # Range of N sizes\n",
    "\n",
    "# For each chain length (2-20) evaluate runtime and store in time1 list\n",
    "for n in N_VALS:\n",
    "    model = IsingChain(N=n, B=2, beta=0.1)\n",
    "    TIME1.append(timeit.timeit(model.randomize_state, number=100))\n",
    "    "
   ]
  },
  {
   "cell_type": "markdown",
   "metadata": {},
   "source": [
    "Next, we plot the runtimes against the Ising Chain lengths."
   ]
  },
  {
   "cell_type": "code",
   "execution_count": 7,
   "metadata": {},
   "outputs": [
    {
     "data": {
      "image/png": "[encoded data removed]",
      "text/plain": [
       "<Figure size 1080x504 with 1 Axes>"
      ]
     },
     "metadata": {},
     "output_type": "display_data"
    }
   ],
   "source": [
    "'''Create plot'''\n",
    "plt.figure(figsize=(15, 7)) # Set the plot size\n",
    "\n",
    "# Plot running times\n",
    "plt.plot(N_VALS, TIME1, linewidth=4)\n",
    "\n",
    "# Label Plot\n",
    "plt.xlabel(\"Ising Chain of Length $N$ ()\", fontsize='x-large')\n",
    "plt.ylabel(\"Average Runtime (s)\", fontsize='x-large')\n",
    "plt.title(\"Empirical Investigation of Random State Generation Time for Ising\" \\\n",
    "          \"Chain of Length $N$\", fontsize='xx-large')\n",
    "\n",
    "plt.grid(linestyle='dashed') # Add grid with dashed lines to graph\n",
    "\n",
    "plt.show()\n"
   ]
  },
  {
   "cell_type": "markdown",
   "metadata": {},
   "source": [
    "As previously mentioned, simply calling the randomize function results in non-linear runtime. In fact, it appears to have an exponential relationship with the chain length. Clearly, calculating the Boltzmann probabilities is quite expensive and impractical for larger systems.\n",
    "\n",
    "It has been shown that the Metropolis algorithm (discussed below) can be viewed as an effective alternative approach. The next question deals with the implementation of this algorithm."
   ]
  },
  {
   "cell_type": "markdown",
   "metadata": {},
   "source": [
    "#### Question: Use the metropolis algorithm to generate a sequence of states for a single dipole with T=300K, dE=0.1, 1, 10eV.  Calculate the expected probabilities for each state and compare to the computed results for 1000 iterations.\n",
    "\n",
    "In a simulation of neutron transmission through matter, Nicholas Metropolis invented an algorithm to improve the Monte Carlo calculation of averages. Referred to as the $\\textit{Metropolis algorithm}$, this alogrithm is widely considered to be a cornerstone of computational physics because the sequence of configurations it produces (a $\\textit{Markov Chain}$) accurately simulates the fluctuations that occur during thermal equilibrium$^1$.\n",
    "\n",
    "The algorithm flips the dipole spins in a manner that, on average, produces spin configurations that occur in accordance with the probabilities that can be calculated from the Boltzmann distribution.\n",
    "\n",
    "The Metropolis algorithm is implemented via a number of steps$^1$.\n",
    "\n",
    "1. Start with a random configuration of spins\n",
    "2. Generate a trial configuration of spins by flipping the spin of a randomly selected dipole\n",
    "3. Calculate energy $E_1$ of the trial configuration\n",
    "4. If $E_1\\leq E_0$ accept the trial\n",
    "5. If $E_1\\gt E_0$ accept with relative probablilty $p=e^{-\\frac{\\Delta E}{k_B T}}$\n",
    "\n",
    "Recall that we have defined the energy of a configuration to be\n",
    "$$ E = -B \\sum_k S_k $$\n",
    "\n",
    "We can use IsingChain as a parent class, and define a subclass the implements the functions required to implement this algorithm. "
   ]
  },
  {
   "cell_type": "code",
   "execution_count": 8,
   "metadata": {},
   "outputs": [],
   "source": [
    "'''Extend IsingChain Class'''\n",
    "class SingleDipole(IsingChain):\n",
    "    '''\n",
    "    Subclass of IsingChain. Implements the metropolis algorithm for a single\n",
    "    dipole. Extended methods include generate_trail_configuration (by flipping\n",
    "    single dipole), run_metropolis (accepts or rejects trial and updates state\n",
    "    and e_val), and get_sequence (a list of spin states produced by multiple\n",
    "    iterations of the metropolis algorithm).\n",
    "    '''\n",
    "    def generate_trial_config(self):\n",
    "        '''\n",
    "        Flips the spin of single dipole. Assigns flipped spin to trial_state\n",
    "        and energy to trial_e\n",
    "        '''\n",
    "        self.trial_state = -1 * self.state\n",
    "        self.trial_e = self.calc_energy(self.trial_state)\n",
    "\n",
    "    def run_metropolis(self):\n",
    "        '''\n",
    "        Runs metropolis algorithm on single dipole.\n",
    "        '''\n",
    "        if self.trial_e <= self.e_val: # If E1 <= E0 accept trial state and update state variable\n",
    "            self.state = self.trial_state\n",
    "        else: # If E1 > E0 accept trial with relative probability p= exp(-dE * beta)\n",
    "            p_accept = np.exp(-(self.trial_e - self.e_val) * self.beta)\n",
    "            self.state = np.array([np.random.choice([self.state[0], \\\n",
    "                        self.trial_state[0]], p=[1-p_accept, p_accept])])\n",
    "\n",
    "        self.e_val = self.calc_energy(self.state) # Update energy state\n",
    "\n",
    "    def get_sequence(self, num_iterations):\n",
    "        '''\n",
    "        Runs the metropolis algorithm for num_iterations cycles. Returns an\n",
    "        array of spin configurations after each pass of alogirthm.\n",
    "        '''\n",
    "        spin_array = np.array([]) # Empty array to hold spin configurations\n",
    "\n",
    "        # For each pass; generate trial config, run algorithm, and add resultant spin to array\n",
    "        for _ in range(num_iterations):\n",
    "            self.generate_trial_config()\n",
    "            self.run_metropolis()\n",
    "            spin_array = np.append(spin_array, self.state[0])\n",
    "\n",
    "        return spin_array\n",
    "    "
   ]
  },
  {
   "cell_type": "markdown",
   "metadata": {},
   "source": [
    "Using this subclass, we can define a set of functions that will calculate the mean and standard deviation for the number of aligned dipoles (aligned with magnetic field- spin up) over an arbitrary number of iterations of the metropolis algorithm."
   ]
  },
  {
   "cell_type": "code",
   "execution_count": 9,
   "metadata": {},
   "outputs": [],
   "source": [
    "'''Define function that calculates mean and std deviation of elements in a list'''\n",
    "def list_stats(a_list):\n",
    "    '''\n",
    "    Numpy functions are used to calculate the mean and standard deviation of\n",
    "    parameter array elements\n",
    "    Returns: means, std: Mean and standard deviation\n",
    "    '''\n",
    "    mean = np.round(np.mean(a_list), 1)\n",
    "    std = np.round(np.std(a_list), 1)\n",
    "\n",
    "    return mean, std\n"
   ]
  },
  {
   "cell_type": "markdown",
   "metadata": {},
   "source": [
    "In this question we are given the energy difference. I will take this to be the magnitude of energy difference between spin-up and spin-down, i.e. \n",
    "\n",
    "$$ dE = |\\; E_{+} - E_{-} \\;| $$\n",
    "\n",
    "Since:\n",
    "\n",
    "$$ E = -B \\sum_k S_k \\qquad \\Rightarrow \\qquad E_{+} = -B \\; \\text{,} \\; E_{-} = B $$\n",
    "\n",
    "We have:\n",
    "\n",
    "$$ dE = 2B \\qquad \\Rightarrow \\qquad B = \\frac{dE}{2} $$\n",
    "\n",
    "Therefore, given the energy difference, we can determine the appropriate magnetic field (required to instantiate the IsingChain object). Remember, the only reason the units work out here is because we set the dipole moment $\\mu = 1 A m^2$."
   ]
  },
  {
   "cell_type": "code",
   "execution_count": 10,
   "metadata": {},
   "outputs": [],
   "source": [
    "'''Define function that calculates stats for single dipole using metropolis alogirthm'''\n",
    "def single_dipole_stats(de_val, t_val, iterations=1000, sample_size=10):\n",
    "    '''\n",
    "    Function runs the metropolis algorithm with a single dipole for arbitrary number of\n",
    "    iterations.\n",
    "    Parameters\n",
    "        dE: Difference in energy from spin up to spin down (eV)\n",
    "        T: Temperature (K)\n",
    "        iterations: Runs of algorithm. Default value of 1000\n",
    "        sample_size: Number of times experiment is repeated\n",
    "    Returns: Mean, standard deviation, and Boltzmann porbabilities\n",
    "    '''\n",
    "    list_num_aligned = np.array([]) # Number of spin up dipoles over all iterations\n",
    "\n",
    "    k = 8.6173303*10**(-5) # Boltzmann constant (eV/K)\n",
    "\n",
    "    # Instantiate single dipole with B = dE/2\n",
    "    dip = SingleDipole(N=1, B=(de_val/2), beta=1/(k*t_val))\n",
    "\n",
    "    for _ in range(sample_size):\n",
    "        spin_list = dip.get_sequence(iterations) # Get spin progression over iterations\n",
    "        _, counts = np.unique(spin_list, return_counts=True) # Calc number spins up and down\n",
    "\n",
    "        # If all spins are up then add zero count for spin-down\n",
    "        if len(counts) < 2:\n",
    "            counts = np.insert(counts, 0, 0)\n",
    "\n",
    "        # Add number of aligned spins for this trial to list\n",
    "        list_num_aligned = np.append(list_num_aligned, counts[1])\n",
    "\n",
    "    # Calculate mean and std dev over all trials in sample_size\n",
    "    mean, std = list_stats(list_num_aligned)\n",
    "\n",
    "    return mean, std, dip.prob_all_states\n"
   ]
  },
  {
   "cell_type": "markdown",
   "metadata": {},
   "source": [
    "We have implemented the required functions and can now determine the relative frequency of aligned dipoles over 1000 iterations, for a range of energy differences, using the metropolis algorithm. The results will be compared to probabilities determined using the Boltzmann distribution."
   ]
  },
  {
   "cell_type": "code",
   "execution_count": 11,
   "metadata": {},
   "outputs": [
    {
     "name": "stdout",
     "output_type": "stream",
     "text": [
      "Dipole Subject to dE = 0.1\n",
      "\tMean Number of Aligned Poles: 979.4 \tStandard Devation: 4.7\n",
      "\tMean Percentage of Aligned Poles 97.94 %\n",
      "\tExpected Percent Aligned from Boltzmann Probability = 97.95 %\n",
      "\n",
      "Dipole Subject to dE = 1\n",
      "\tMean Number of Aligned Poles: 1000.0 \tStandard Devation: 0.0\n",
      "\tMean Percentage of Aligned Poles 100.0 %\n",
      "\tExpected Percent Aligned from Boltzmann Probability = 100.0 %\n",
      "\n",
      "Dipole Subject to dE = 10\n",
      "\tMean Number of Aligned Poles: 1000.0 \tStandard Devation: 0.0\n",
      "\tMean Percentage of Aligned Poles 100.0 %\n",
      "\tExpected Percent Aligned from Boltzmann Probability = 100.0 %\n",
      "\n"
     ]
    }
   ],
   "source": [
    "'''Specifiy parameters and calculate the statistics'''\n",
    "ENERGY_DIFFS = [0.1, 1, 10] # Energy differences examined\n",
    "T = 300 # Temperature (K)\n",
    "NUM_ITERS = 1000 # Number of iterations\n",
    "\n",
    "STATS_LIST = [] # Empty list for calculted stats\n",
    "\n",
    "for dE in ENERGY_DIFFS: # For each energy difference\n",
    "    # Get mean, standard deviation and Boltzmann probabilities\n",
    "    mean, std, boltz_prob = single_dipole_stats(dE, T, iterations=NUM_ITERS)\n",
    "    # Add mean, std dev, and Boltzmann probability (for aligned state) to stats_list\n",
    "    STATS_LIST.append((mean, std, boltz_prob[0]*NUM_ITERS))\n",
    "\n",
    "    print('Dipole Subject to dE =', dE)\n",
    "    print('\\tMean Number of Aligned Poles:', mean, '\\tStandard Devation:', std)\n",
    "    print('\\tMean Percentage of Aligned Poles', np.round(mean / NUM_ITERS * 100.0, 2), '%')\n",
    "    print('\\tExpected Percent Aligned from Boltzmann Probability =', \\\n",
    "          np.round(boltz_prob[0] * 100.0, 2), '%\\n')\n",
    "    "
   ]
  },
  {
   "cell_type": "markdown",
   "metadata": {},
   "source": [
    "We can see that the metropolis algorithm does indeed, on average, produce spin configurations that occur in accordance with the probabilities that can be calculated from the Boltzmann distribution. The number of aligned poles are within one standard deviation of the number expected when using the Boltzmann probabilities.\n",
    "\n",
    "We also note that for higher energies it is very unlikely that the dipole will flip to its higher energy state. This makes sense, as transitioning to a higher energy level should be less likely for larger \"jumps\" in the energy levels. Furthur, we can only expect to see dipoles in their high energy state if the magnetic field is relatively low (or temperature is relatively high) which corresponds to smaller differences in energy.\n",
    "\n",
    "Using the metropolis algorithm as a less expensive alternative to computing Boltzmann probabilities, we are now in a position to implement an Ising Chain, with length longer than one, that evolves in accordance with the metropolis algorithm."
   ]
  },
  {
   "cell_type": "markdown",
   "metadata": {},
   "source": [
    "#### Question: Write python code to evolve a system of $N$ dipoles in a ring (wrap-around boundary conditions) using the Metropolis algorithm for arbitrary $N$, $B$, $T$, $J$.\n",
    "\n",
    "Another important feature of many magnetic materials is that the individual dipoles in the material may interact magnetically in such a way that it is energetically favorable for them to line up in the same direction. The magnetic potential due to the interaction of two dipoles is proportional to their dot product, but in the Ising model this simplifies to just the product $S_i S_j$, since the spins are scalars. Then the actual energy of interaction is $-J S_i S_j$, where $J$ is a $\\textit{positive}$ interaction constant$^3$.\n",
    "\n",
    "We will consider the simplified case where this weak coupling term only affects the nearest neighbors. Adding this interaction energy to the energy associated with the magnetic field/ alignment we have:\n",
    "\n",
    " $$ E_i = -J \\sum_j S_i S_j -B \\sum_k S_k  \\qquad j=i+1, i-1 \\qquad k = 0, 1, 2, \\dots, N-1 $$\n",
    "\n",
    "We will define a new class specifically tailored to this task. While the IsingChain class could be extended, omitting the init calculations will drastically speed up the runtime, which will be extremely beneficial when instantiating with a larger number of dipoles."
   ]
  },
  {
   "cell_type": "code",
   "execution_count": 12,
   "metadata": {},
   "outputs": [],
   "source": [
    "'''Define class that implements a system of N dipoles in a ring'''\n",
    "class IsingRing():\n",
    "    '''\n",
    "    Class used to instantiate a one-dimensional, wrap around Ising chain.\n",
    "    Instance methods include; calc_combined_energy (magnetic and interaction\n",
    "    energies), get_sequence (sequence of states generated by metropolis\n",
    "    algorithm), and run_until_equilibrium (step forward by arbitrary number of\n",
    "    metropolis passes)\n",
    "    '''\n",
    "\n",
    "    k = 8.6173303*10**(-5) # Boltzmann constant (eV/K)\n",
    "\n",
    "    def __init__(self, N, B, T, J):\n",
    "        '''\n",
    "        Constructor initializes N, B, T, J variables\n",
    "        Parameters\n",
    "            N: Number if dipoles in Ising Ring\n",
    "            B: Magnetic field (eV/Am^2)\n",
    "            T: Temperature in Kelvin\n",
    "            J: Interaction constant\n",
    "        '''\n",
    "        self.n_val = N # Length of Ising Chain\n",
    "        self.b_val = B # Magentic Field (eV/Am^2)\n",
    "        self.t_val = T # Temperature (K)\n",
    "        self.j_val = J # Interaction Constant\n",
    "\n",
    "        self.__init__randomize_ring() # Randomize spin state\n",
    "\n",
    "    def __init__randomize_ring(self):\n",
    "        '''\n",
    "        Randomize spins of dipoles in Ising Chain. Calculates and initializes energy state\n",
    "        '''\n",
    "        # Randomly select either +1 or -1 to generate ring of length self.n_val\n",
    "        self.state = np.array([np.random.choice([-1, 1]) for i in range(self.n_val)])\n",
    "        self.e_val = self.calc_combined_energy(self.state)\n",
    "\n",
    "    def calc_combined_energy(self, a_state):\n",
    "        '''\n",
    "        Calculates the total energy of a configuration of spins by considering both the\n",
    "        magnetic field and the interaction energy.\n",
    "        Parameters\n",
    "            a_state: Configuration of spins\n",
    "        Returns the total energy of the spin configuration\n",
    "        '''\n",
    "        # Matrix operations used to calculate -J sum S_i S_j for each pair of dipoles\n",
    "        e_j = -self.j_val * np.sum(a_state * (np.roll(a_state, 1) + np.roll(a_state, -1)))\n",
    "        e_b = -self.b_val * np.sum(a_state) # Energy due to magnetic field\n",
    "        return e_j + e_b\n",
    "\n",
    "    def pick_random_dipole(self):\n",
    "        '''\n",
    "        Randomly select an index in the length of the IsingRing\n",
    "        '''\n",
    "        self.random_index = np.random.choice(range(self.n_val))\n",
    "\n",
    "    def generate_trial_config(self):\n",
    "        '''\n",
    "        Generates trial sping configuration for metropolis algorithm\n",
    "        '''\n",
    "        self.pick_random_dipole() # Select random index\n",
    "        self.trial_state = np.copy(self.state) # Copy spin configuration of current state\n",
    "        # Flip spin of random index\n",
    "        self.trial_state[self.random_index] = -self.trial_state[self.random_index]\n",
    "        # Calculate trial configuration energy\n",
    "        self.trial_e = self.calc_combined_energy(self.trial_state)\n",
    "\n",
    "    def run_metropolis(self):\n",
    "        '''\n",
    "        Run a pass of the metropolis algorithm\n",
    "        '''\n",
    "        if self.trial_e <= self.e_val: # If E1 <= E0 accept trial state and update state variable\n",
    "            self.state = self.trial_state\n",
    "        else: # If E1 > E0 accept trial with relative probability p= exp(-dE * beta)\n",
    "            p_accept = np.exp(-(self.trial_e - self.e_val) / (self.k * self.t_val))\n",
    "            choices = [self.state, self.trial_state] # Stores current and trial states in a list\n",
    "            # and randomly select index 0 or 1, corresponding to current or trial state\n",
    "            self.state = choices[np.random.choice([0, 1], p=[1-p_accept, p_accept])]\n",
    "\n",
    "        self.e_val = self.calc_combined_energy(self.state) # Update energy state\n",
    "\n",
    "    def get_sequence(self, num_iterations):\n",
    "        '''\n",
    "        Runs the metropolis algorithm for num_iterations cycles. Returns an\n",
    "        array of spin configurations after each pass of alogirthm.\n",
    "        '''\n",
    "        spin_array = [] # Empty array to hold spin configurations\n",
    "\n",
    "        # For each pass; generate trial config, run algorithm, and add resultant sping to array\n",
    "        for _ in range(num_iterations):\n",
    "            self.generate_trial_config()\n",
    "            self.run_metropolis()\n",
    "            spin_array.append(self.state)\n",
    "        return spin_array\n",
    "\n",
    "    def run_until_equilibrium(self, num_iterations):\n",
    "        '''\n",
    "        Run metropolis algorithm arbitrary number of times to set the\n",
    "        ring in an equilibrium state\n",
    "        '''\n",
    "        for _ in range(num_iterations):\n",
    "            self.generate_trial_config()\n",
    "            self.run_metropolis()\n",
    "            "
   ]
  },
  {
   "cell_type": "markdown",
   "metadata": {},
   "source": [
    "Now it is time to test the output of this class. For a large magnetic field and a low temperture, it is expected that after allowing a random system to reach equilibrium the vast majority of the spins should be aligned with the magnetic field. This raises the quesiton of how many steps of the metropolis algorithm are required to reach equilibrium. Clearly, $2^N$ possible configurations of $N$ particles can be a very large number, so the time required to equilibriate can be very long. For simple testing purposes, it has been shown$^1$ that roughly $10N$ iterations is sufficient to reach apparent equilbrium.\n",
    "\n",
    "With this in mind, we test the simulation for large magnetic field and low temperature:"
   ]
  },
  {
   "cell_type": "code",
   "execution_count": 14,
   "metadata": {},
   "outputs": [
    {
     "name": "stdout",
     "output_type": "stream",
     "text": [
      "[1 1 1 1 1 1 1 1 1 1 1 1 1 1 1 1 1 1 1 1 1 1 1 1 1 1 1 1 1 1]\n"
     ]
    }
   ],
   "source": [
    "'''Test expectation that high B field should align majority of dipoles'''\n",
    "RING = IsingRing(N=30, B=10, T=30, J=1)\n",
    "RING.run_until_equilibrium(num_iterations=300)\n",
    "print(RING.state)\n"
   ]
  },
  {
   "cell_type": "markdown",
   "metadata": {},
   "source": [
    "As expected, running this code repeatedly nearly always results in perfect alignment of the dipoles.\n",
    "\n",
    "To further test the simulation, we will consider two more configurations of the parameters:\n",
    "1. Low B field. High temperature. No interaction between neighbors. It is expected that the occasional dipole will flip into high energy state.\n",
    "\n",
    "2. No B field. Moderate temperature. Some interaction between neighbors. It is expected that the interaction between neighbors will produce \"clumps\" of spin-up and spin-down regions."
   ]
  },
  {
   "cell_type": "code",
   "execution_count": 16,
   "metadata": {},
   "outputs": [
    {
     "data": {
      "image/png": "[encoded data removed]",
      "text/plain": [
       "<Figure size 1080x504 with 2 Axes>"
      ]
     },
     "metadata": {},
     "output_type": "display_data"
    }
   ],
   "source": [
    "'''Create plot'''\n",
    "plt.figure(figsize=(15, 7)) # Set the plot size\n",
    "\n",
    "#Low B field. High temp. No interaction between neighbors.\n",
    "plt.subplot(1, 2, 1)\n",
    "plt.xlabel('Dipole Position ()', fontsize='large')\n",
    "plt.ylabel('Metropolis Iteration ()', fontsize='large')\n",
    "plt.title('1D Ising Model - High Temperature', fontsize='x-large')\n",
    "RING1 = IsingRing(N=75, B=0.01, T=373, J=0) # 100 degree celsius\n",
    "RING1.run_until_equilibrium(num_iterations=750) # 10*N = 750\n",
    "plt.imshow(RING1.get_sequence(50))\n",
    "\n",
    "# High B field. Low temp. Interaction between neighbors. Expect Majority aligned\n",
    "# but interaction may keep some antialigned\n",
    "plt.subplot(1, 2, 2)\n",
    "plt.xlabel('Dipole Position ()', fontsize='large')\n",
    "plt.ylabel('Metropolis Iteration ()', fontsize='large')\n",
    "plt.title('1D Ising Model - No Magnetic Field', fontsize='x-large')\n",
    "RING2 = IsingRing(N=75, B=0, T=300, J=1) # No magnetic field\n",
    "RING2.run_until_equilibrium(num_iterations=750) # 10*N = 750\n",
    "plt.imshow(RING2.get_sequence(50))\n",
    "\n",
    "plt.show()\n"
   ]
  },
  {
   "cell_type": "markdown",
   "metadata": {},
   "source": [
    "The one-dimensional wrap around ring is behaving as expected. Although the random nature of the code yields different results every time, it is expected the the left plot (high temperature) will show the occasional dipole that \"spontaneously\" flips to a high energy state. Further, the right plot has the expected spin-up and spin-down regions, which are produced by the sole interaction energy in the abscence of a magnetic field.\n",
    "\n",
    "We are now in a position where we can apply what we have learned so far, and extend the model to 2-dimensions."
   ]
  },
  {
   "cell_type": "markdown",
   "metadata": {},
   "source": [
    "#### Question: Write python code to implement the Ising model on a 51x49 grid for arbitrary J and B.  Use 200 sweeps to thermalize and assume that the grid is randomized after 20 sweeps."
   ]
  },
  {
   "cell_type": "code",
   "execution_count": null,
   "metadata": {},
   "outputs": [],
   "source": []
  },
  {
   "cell_type": "code",
   "execution_count": null,
   "metadata": {},
   "outputs": [],
   "source": []
  },
  {
   "cell_type": "code",
   "execution_count": null,
   "metadata": {},
   "outputs": [],
   "source": []
  },
  {
   "cell_type": "code",
   "execution_count": null,
   "metadata": {},
   "outputs": [],
   "source": []
  },
  {
   "cell_type": "code",
   "execution_count": null,
   "metadata": {},
   "outputs": [],
   "source": []
  },
  {
   "cell_type": "markdown",
   "metadata": {},
   "source": [
    "### References\n",
    "[1] - Landau R. H. (2015) $\\textit{Computational Physics. Problem Solving with Python}$. Wiley-VCH. Weinheim Germany.\n",
    "\n",
    "[2] - https://docs.python.org/2/library/itertools.html#itertools.product\n",
    "\n",
    "[3] - Newman M. (2013) $\\textit{Computational Physics}$. University of Michigan."
   ]
  },
  {
   "cell_type": "code",
   "execution_count": null,
   "metadata": {},
   "outputs": [],
   "source": []
  }
 ],
 "metadata": {
  "kernelspec": {
   "display_name": "Python 3",
   "language": "python",
   "name": "python3"
  },
  "language_info": {
   "codemirror_mode": {
    "name": "ipython",
    "version": 3
   },
   "file_extension": ".py",
   "mimetype": "text/x-python",
   "name": "python",
   "nbconvert_exporter": "python",
   "pygments_lexer": "ipython3",
   "version": "3.6.3"
  }
 },
 "nbformat": 4,
 "nbformat_minor": 2
}
