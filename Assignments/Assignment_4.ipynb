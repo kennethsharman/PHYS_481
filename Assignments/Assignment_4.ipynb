{
 "cells": [
  {
   "cell_type": "code",
   "execution_count": 1,
   "metadata": {},
   "outputs": [],
   "source": [
    "# Good sample is either with a large grid/ multiple grids/ grinds run for a ling time\n",
    "# Long term behavior\n",
    "\n",
    "# Some discussion regarding how long it takes to reach steady state\n",
    "\n",
    "# Plot the hysteresis curve"
   ]
  },
  {
   "cell_type": "markdown",
   "metadata": {},
   "source": [
    "## PHYS 481 Assignment 4\n",
    "\n",
    "October, 2018\n",
    "\n",
    "Kenneth Sharman (00300185)"
   ]
  },
  {
   "cell_type": "code",
   "execution_count": 2,
   "metadata": {},
   "outputs": [],
   "source": [
    "import numpy as np\n",
    "import matplotlib.pyplot as plt\n",
    "from decimal import *"
   ]
  },
  {
   "cell_type": "markdown",
   "metadata": {},
   "source": [
    "### Introduction\n",
    "\n",
    "BLAH BLAH BLAH"
   ]
  },
  {
   "cell_type": "markdown",
   "metadata": {},
   "source": [
    "#### The Ising Model\n",
    "\n",
    "The Ising model is a theoretical model of a magnet. The magnetization of a material is produced by the combination of the magnet dipoles within the material. If these magnetic dipoles are totally random, then their sum will produce a magnetization near zero. In contrast, if many of them point in the same direction, then the material will have a macroscopic non-zero magnetization.\n",
    "\n",
    "The Ising model is a simplified model in which there are only two directions the dipoles can point; up or down. In quantum mechanics it can be shown that an electron's spin and magnetic moment (discussed below) are proportional to eachother$^1$. Thus, we refer to the dipole directions as $+1$ spin and $-1$ spin, respectively. The material is modeled by a lattice or array. We will deal with lattices in one or two dimensions, however the model can be extended to any number of dimensions. \n",
    "\n",
    "The individual diploes will interact with a magnetic field in such a way that it is energetically favorable for them to line up with the magnetic field. To expand on this, the concepts of dipole moment and potential energy must be discussed.\n",
    "\n",
    "#### Magnetic Dipole Moment and its Potential Energy\n",
    "\n",
    "Recall that the concept of the magetic dipole is easily defined when considering a loop of current. In our study of electromagnetism, the Bio-Savart law establishes that moving charges produce a magnetic field. In the case of a loop of current, a magnetic dipole is produced and we define the magnetic moment as\n",
    "\n",
    "$$\\mu = I \\; A$$\n",
    "\n",
    "Where $\\mu$ is the magnetic dipole moment, $I$ is the current in loop, and $A$ is the area of the loop. We will not be considering this definition in this report, however it makes it easy to conceptualize the magnetic moment. Orbiting electrons in an atom can be viewed as a loop of current, hence every atom as a magnetic dipole moment.\n",
    "\n",
    "The magnetic moment can be considered to be a vector quantity with direction perpendicular to the current loop (using right-hand rule). The torque is given by\n",
    "\n",
    "$$\\vec \\tau = \\vec{\\mu} \\times \\vec{\\text{B}} $$\n",
    "\n",
    "Since the torque tries to line up the magnetic moment with the magnetic field, the lowest energy configuration is when $\\mu$ and $\\text{B}$ point in the same direction. Thus, we can express the potential energy as\n",
    "\n",
    "$$\\text{U} = - \\vec{\\mu} \\cdot \\vec{\\text{B}} = -\\mu \\text{B} \\cos{\\theta} $$\n",
    "\n",
    "Where $\\theta$ represents that angle between the two vectors. Note that the minus sign is essential to ensure that the interactions are ferromagnetic; the energy is minimized when the vectors are aligned.\n",
    "\n",
    "In the highest energy configuration, where the two vectors are pointing in opposite directions, $\\text{U} = \\mu \\text{B}$ and in the lowest configuration (anti-aligned), $U=-\\mu \\text{B}$.\n",
    "\n",
    "#### An Ising Chain\n",
    "The goal of this report is to construct a two-dimensional Ising model, however we must build it up from the basics. First, we consider $N$ magnetic dipoles fixed in place in a linear chain.\n",
    "\n",
    "Since every dipole has two possible states (spin) $S = \\pm 1$, a chain of $N$ dipoles has $2^N$ possible configurations. It is easy to see that even for modest values of $N$ simply calculating the number of possible configurations becomes computationaly expensive. A discussion of statistical mechanics becomes essential to the construction of the model.\n",
    "\n",
    "#### A Probabalistic Approach\n",
    "\n",
    "Consider a system in thermal equilibrium with a heat-sink of temperature T, where the exact state of the system is unknown. At any particular moment the probablity of it occupying state $i$ with energy $E_i$ is given by the Boltzmann formula\n",
    "\n",
    "$$ p_i = \\frac{e^{-\\beta E_i}}{Z} \\qquad \\text{where} \\qquad Z = \\sum_{i}^{N} e^{- \\beta E_i} $$\n",
    "\n",
    "The quantity $Z$ is known as the partition function. In general it is not known, and quite expensive to calculate. Before we analyze the complexity, the energy states and corresponding probablities are investigated for a one-dimensional Ising chain.\n",
    "\n",
    "#### Question: Write a function which will calculate all of the energy states and probabilities for an arbitrary number of independent dipoles.  Tabulate the results for $N=3$, $\\beta=0.1$ and $B=2$\n",
    "\n",
    "Consider a collection of $N$ independent dipoles with state $S=\\pm 1$ in an external magnetic field $B$.  The energy associated with the entire system is given by  \n",
    "\n",
    "  $$ E = -B \\sum_k S_k $$\n",
    "  \n",
    "This expression for the energy will allow us to calculate the probability associated with each state.\n",
    "\n",
    "First, define a function that determines all possible spin configurations for the system$^2$."
   ]
  },
  {
   "cell_type": "code",
   "execution_count": 3,
   "metadata": {},
   "outputs": [],
   "source": [
    "from itertools import product # product function replaces iteration method below\n",
    "\n",
    "class IsingChain:\n",
    "    def __init__(self, N, B, beta):\n",
    "        self.N = N\n",
    "        self.B = B\n",
    "        self.beta = beta\n",
    "        \n",
    "        self.__init__generate_all_state_data()\n",
    "        \n",
    "    def calc_energy(self, a_state):\n",
    "        return -self.B * np.sum(a_state)\n",
    "        \n",
    "    def calc_all_configs(self):\n",
    "        # List comprehension used in conjunction with itertools.product which is equivalent to nested for-loops\n",
    "        # This one line statement iterates through all possible configurations of +/-1 repeated N times\n",
    "        self.all_states = np.array([ np.array(i) for i in product([1,-1], repeat=self.N)])\n",
    "    \n",
    "    def calc_all_e(self):\n",
    "        self.e_of_states = np.array([ -self.B * np.sum(state) for state in self.all_states])\n",
    "        \n",
    "    def calc_partition(self):\n",
    "        self.Z = np.sum( [ np.exp(-self.beta*e) for e in self.e_of_states ] )\n",
    "        \n",
    "    def calc_probs(self):\n",
    "        self.prob_all_states = np.array( [ np.exp(-self.beta*E) for E in self.e_of_states] ) / self.Z\n",
    "        \n",
    "    def randomize_state(self):\n",
    "        index = np.random.choice(np.arange( len(self.all_states) ), p=self.prob_all_states)\n",
    "        self.state = self.all_states[index]\n",
    "        self.e = self.calc_energy(self.state)\n",
    "        \n",
    "    def __init__generate_all_state_data(self):\n",
    "        self.calc_all_configs()\n",
    "        self.calc_all_e()\n",
    "        self.calc_partition()\n",
    "        self.calc_probs()\n",
    "        self.randomize_state()"
   ]
  },
  {
   "cell_type": "code",
   "execution_count": 4,
   "metadata": {},
   "outputs": [],
   "source": [
    "ising_model = IsingChain(N=3, B=2, beta=0.1)"
   ]
  },
  {
   "cell_type": "code",
   "execution_count": 5,
   "metadata": {},
   "outputs": [
    {
     "name": "stdout",
     "output_type": "stream",
     "text": [
      "Energies and Probabilities corresponding to B=2 and beta=0.1\n",
      "   Energy  Probabliity  S1  S2  S3\n",
      "0      -6     0.214586   1   1   1\n",
      "1      -2     0.143841   1   1  -1\n",
      "2      -2     0.143841   1  -1   1\n",
      "3       2     0.096420   1  -1  -1\n",
      "4      -2     0.143841  -1   1   1\n",
      "5       2     0.096420  -1   1  -1\n",
      "6       2     0.096420  -1  -1   1\n",
      "7       6     0.064632  -1  -1  -1\n",
      "\n",
      "Sum of Probabilities =  1.0\n"
     ]
    }
   ],
   "source": [
    "import pandas as pd\n",
    "\n",
    "df1 = pd.DataFrame({\n",
    "    'S1': [ state[0] for state in ising_model.all_states ],\n",
    "    'S2': [ state[1] for state in ising_model.all_states ],\n",
    "    'S3': [ state[2] for state in ising_model.all_states ],\n",
    "    'Energy': ising_model.e_of_states,\n",
    "    'Probabliity': ising_model.prob_all_states\n",
    "})\n",
    "\n",
    "print('Energies and Probabilities corresponding to B=2 and beta=0.1')\n",
    "print(df1)\n",
    "print('\\nSum of Probabilities = ', np.sum(ising_model.prob_all_states))"
   ]
  },
  {
   "cell_type": "markdown",
   "metadata": {},
   "source": [
    "#### Question: Write a function which will return a Boltzmann random state for an arbitrary number $N$ of independent dipoles.  Plot the time required to produce the result as a function of $N$.  Discuss your results."
   ]
  },
  {
   "cell_type": "code",
   "execution_count": 6,
   "metadata": {},
   "outputs": [
    {
     "name": "stdout",
     "output_type": "stream",
     "text": [
      "[-1  1 -1]\n"
     ]
    }
   ],
   "source": [
    "print( ising_model.state )"
   ]
  },
  {
   "cell_type": "code",
   "execution_count": 7,
   "metadata": {},
   "outputs": [],
   "source": [
    "import timeit\n",
    "\n",
    "time1 = [] # Lists for average runtimes\n",
    "n_vals = np.arange(2, 20) # Range of N sizes\n",
    "\n",
    "for n in n_vals:\n",
    "    model = IsingChain(N=n, B=2, beta=0.1)\n",
    "    time1.append( timeit.timeit(model.randomize_state, number=100) )"
   ]
  },
  {
   "cell_type": "code",
   "execution_count": 8,
   "metadata": {},
   "outputs": [
    {
     "data": {
      "image/png": "[encoded data removed]",
      "text/plain": [
       "<Figure size 1080x504 with 1 Axes>"
      ]
     },
     "metadata": {},
     "output_type": "display_data"
    }
   ],
   "source": [
    "plt.figure(figsize=(15,7)) # Set the plot size\n",
    "\n",
    "# Plot running times\n",
    "plt.plot(n_vals, time1, linewidth=4)\n",
    "\n",
    "# Label Plot\n",
    "plt.xlabel(\"Ising Chain of Length $N$ ()\", fontsize='x-large')\n",
    "plt.ylabel(\"Average Runtime (s)\", fontsize='x-large')\n",
    "plt.title(\"Empirical Investigation of Random State Generation Time for Ising Chain of Length $N$\", fontsize='xx-large')\n",
    "\n",
    "plt.grid(linestyle='dashed') # Add grid with dashed lines to graph\n",
    "\n",
    "plt.show()"
   ]
  },
  {
   "cell_type": "markdown",
   "metadata": {},
   "source": [
    "#### Question: Use the metropolis algorithm to generate a sequence of states for a single dipole with T=300K, dE=0.1, 1, 10eV.  Calculate the expected probabilities for each state and compare to the computed results for 1000 iterations.\n",
    "\n",
    "In their simulation of neutron transmission through matter Metropolis, invented an algorithm to improve the Monte Carlo calculation of averages. This $\\textit{Metropolis algorithm}$ is now a cornerstone of cmputational physics because the sequence of configurations it produces (a $\\textit{Markov Chain}$) accurately simulates the fluctuations that occur during thermal equilibrium.\n",
    "\n",
    "The algorithm randomly changes the individual spins such that, on average, the probablilty of a configuration occurring follows a Boltzmann distribution.\n",
    "\n",
    "The Metropolis algorithm is implemented via a number of steps. We start with a fixed temperature and an initial spin configuration, and apply the algorithm until a thermal equilibrium is reached. Continued application of the alogirthm generates the statistical fluctuations about equilibrium from which we deduce the $\\textit{T}$ dependence of the thermodynamic quantities.\n",
    "\n",
    "1. Start with an arbitrary spin configuration\n",
    "2. Generate a trial configuration by flipping the spin of a randomly selected particle\n",
    "3. Calculate energy $E_1$ of the trial configuration\n",
    "4. If $E_1\\leq E_0$ accept the trial\n",
    "5. If $E_1\\gt E_0$ accept with relative probablilty $p=e^{-\\frac{\\Delta E}{T}}$\n",
    "\n",
    "$$ E = -B \\sum_k S_k $$"
   ]
  },
  {
   "cell_type": "code",
   "execution_count": 9,
   "metadata": {},
   "outputs": [],
   "source": [
    "class single_dipole(IsingChain):\n",
    "    \n",
    "    def generate_trial_config(self):\n",
    "        self.trial_state = -1 * self.state\n",
    "        self.trial_e = self.calc_energy(self.trial_state)\n",
    "        \n",
    "    def run_metropolis(self):\n",
    "        if self.trial_e <= self.e:\n",
    "            self.state = self.trial_state\n",
    "        else:\n",
    "            #p_accept = np.minimum(1, np.exp(-self.dE * self.beta))\n",
    "            p_accept = np.exp( -(self.trial_e - self.e) * self.beta )\n",
    "            self.state = np.array( [ np.random.choice( [self.state[0], self.trial_state[0]], p=[1-p_accept, p_accept] ) ] )\n",
    "        \n",
    "        self.e = self.calc_energy(self.state)\n",
    "\n",
    "    def get_sequence(self, N): \n",
    "        spin_list = np.array( [] )\n",
    "        \n",
    "        for n in range(N):\n",
    "            self.generate_trial_config()\n",
    "            self.run_metropolis()\n",
    "            spin_list = np.append(spin_list, self.state[0])\n",
    "        \n",
    "        return spin_list"
   ]
  },
  {
   "cell_type": "code",
   "execution_count": 10,
   "metadata": {},
   "outputs": [
    {
     "name": "stdout",
     "output_type": "stream",
     "text": [
      "Dipole Subject to dE = 0.1\n",
      "\tMean Number of Aligned Poles: 976.7 \tStandard Devation: 2.9\n",
      "\tMean Percentage of Aligned Poles 97.67 %\n",
      "\tExpected Percent Aligned from Boltzmann Probability = 97.95 %\n",
      "\n",
      "Dipole Subject to dE = 1\n",
      "\tMean Number of Aligned Poles: 1000.0 \tStandard Devation: 0.0\n",
      "\tMean Percentage of Aligned Poles 100.0 %\n",
      "\tExpected Percent Aligned from Boltzmann Probability = 100.0 %\n",
      "\n",
      "Dipole Subject to dE = 10\n",
      "\tMean Number of Aligned Poles: 1000.0 \tStandard Devation: 0.0\n",
      "\tMean Percentage of Aligned Poles 100.0 %\n",
      "\tExpected Percent Aligned from Boltzmann Probability = 100.0 %\n",
      "\n"
     ]
    }
   ],
   "source": [
    "def list_stats(a_list):\n",
    "    mean = np.round( np.mean(a_list), 1 )\n",
    "    std = np.round( np.std(a_list), 1 )\n",
    "    \n",
    "    return mean, std\n",
    "\n",
    "def single_dipole_stats(dE, iterations=1000, sample_size=10):\n",
    "    list_num_aligned = np.array( [] )\n",
    "    \n",
    "    k = 8.6173303*10**(-5)\n",
    "    T = 300\n",
    "    #k = 1\n",
    "    #T = 3\n",
    "    \n",
    "    dip = single_dipole(N=1, B=(dE/2), beta=1/(k*T))\n",
    "    \n",
    "    for sammple in range(sample_size):\n",
    "        spin_list = dip.get_sequence(iterations)\n",
    "        spins, counts = np.unique(spin_list, return_counts=True)\n",
    "        \n",
    "        if len(counts) <2:\n",
    "            counts = np.insert(counts, 0,0)\n",
    "            \n",
    "        list_num_aligned = np.append(list_num_aligned, counts[1])\n",
    "        \n",
    "        mean, std = list_stats(list_num_aligned)\n",
    "    \n",
    "    return mean, std, dip.prob_all_states\n",
    "\n",
    "        \n",
    "dEs = [0.1, 1, 10]\n",
    "num_iterations = 1000\n",
    "\n",
    "stats_list = []\n",
    "for dE in dEs:\n",
    "    dE_stats = single_dipole_stats(dE, iterations = num_iterations)\n",
    "    mean, std, boltz_prob = dE_stats[0], dE_stats[1], dE_stats[2]\n",
    "    stats_list.append( (mean, std, boltz_prob[0]*num_iterations) )\n",
    "    \n",
    "    print('Dipole Subject to dE =', dE)\n",
    "    print('\\tMean Number of Aligned Poles:', mean, '\\tStandard Devation:', std)\n",
    "    print('\\tMean Percentage of Aligned Poles', np.round( mean / num_iterations * 100.0, 2 ), '%' )\n",
    "    print('\\tExpected Percent Aligned from Boltzmann Probability =', np.round(boltz_prob[0] * 100.0, 2), '%\\n' )"
   ]
  },
  {
   "cell_type": "code",
   "execution_count": 11,
   "metadata": {},
   "outputs": [
    {
     "data": {
      "image/png": "[encoded data removed]",
      "text/plain": [
       "<Figure size 1080x504 with 1 Axes>"
      ]
     },
     "metadata": {},
     "output_type": "display_data"
    }
   ],
   "source": [
    "\n",
    "mean_list = [ stat[0] for stat in stats_list ]\n",
    "std_list = [ stat[1] for stat in stats_list ]\n",
    "boltz_list = [ stat[2] for stat in stats_list ]\n",
    "\n",
    "plt.figure(figsize=(15,7)) # Set the plot size\n",
    "ax = plt.subplot()\n",
    "\n",
    "t = 2 # Number of datasets\n",
    "d = 3 # Number of sets of bars\n",
    "w = 0.8 # Width of each bar\n",
    "\n",
    "bar1 = [t*element + w*1 for element in range(d)]\n",
    "bar2 = store2_x = [t*element + w*2 for element in range(d)]\n",
    "\n",
    "plt.bar(bar1, mean_list, yerr=std_list, capsize=10)\n",
    "plt.bar(bar2, boltz_list)\n",
    "\n",
    "ax.set_ylim([450, 1000])\n",
    "\n",
    "plt.show()\n"
   ]
  },
  {
   "cell_type": "markdown",
   "metadata": {},
   "source": [
    "Each dipole will generate a (small) magnetic field that may influence other dipoles.  We can explore this possibility by arranging a number of binary spins $S_k$ in a row (or a ring) and then introduce a weak coupling term\n",
    "\n",
    " $$ E_i = -J \\,S_{i-1} S_i - J \\,S_{i+1} S_k\n",
    "  = -J \\sum_j S_i S_j  \\qquad j=i+1, i-1\n",
    " $$\n",
    "that can only affect the nearest neighbors.\n",
    "\n",
    "#### Question: Write python code to evolve a system of $N$ dipoles in a ring (wrap-around boundary conditions) using the Metropolis algorithm for arbitrary $N$, $B$, $T$, $J$."
   ]
  },
  {
   "cell_type": "code",
   "execution_count": 12,
   "metadata": {},
   "outputs": [
    {
     "name": "stdout",
     "output_type": "stream",
     "text": [
      "[1]\n"
     ]
    }
   ],
   "source": [
    "test_arr = np.array( [1,] )\n",
    "test_arr = np.roll( test_arr, -1 )\n",
    "print(test_arr)"
   ]
  },
  {
   "cell_type": "code",
   "execution_count": 13,
   "metadata": {},
   "outputs": [
    {
     "name": "stdout",
     "output_type": "stream",
     "text": [
      "[-1  1 -1]\n",
      "[ 1 -1  1]\n"
     ]
    }
   ],
   "source": [
    "print( ising_model.state )\n",
    "ising_model.randomize_state()\n",
    "print( ising_model.state )"
   ]
  },
  {
   "cell_type": "code",
   "execution_count": null,
   "metadata": {},
   "outputs": [],
   "source": []
  },
  {
   "cell_type": "code",
   "execution_count": null,
   "metadata": {},
   "outputs": [],
   "source": []
  },
  {
   "cell_type": "markdown",
   "metadata": {},
   "source": [
    "### References\n",
    "[1] - Landau R. H. (2015) $\\textit{Computational Physics. Problem Solving with Python}$. Wiley-VCH. Weinheim Germany.\n",
    "\n",
    "[2] - https://docs.python.org/2/library/itertools.html#itertools.product"
   ]
  },
  {
   "cell_type": "code",
   "execution_count": 14,
   "metadata": {},
   "outputs": [
    {
     "name": "stdout",
     "output_type": "stream",
     "text": [
      "1\n"
     ]
    }
   ],
   "source": [
    "class vehicle:\n",
    "    def __init__(self, num):\n",
    "        self.var = num\n",
    "    def get_silly(self):\n",
    "        return 'testing'\n",
    "\n",
    "v1 = vehicle(1)\n",
    "print(v1.var)"
   ]
  },
  {
   "cell_type": "code",
   "execution_count": 15,
   "metadata": {},
   "outputs": [
    {
     "name": "stdout",
     "output_type": "stream",
     "text": [
      "20\n",
      "100000\n"
     ]
    }
   ],
   "source": [
    "class car(vehicle):\n",
    "    def set_miles(self, miles):\n",
    "        self.kliks = miles\n",
    "    def get_miles(self):\n",
    "        return self.kliks\n",
    "    \n",
    "c1 = car(20)\n",
    "print(c1.var)\n",
    "\n",
    "c1.set_miles(100000)\n",
    "\n",
    "print( c1.get_miles() )"
   ]
  },
  {
   "cell_type": "code",
   "execution_count": 16,
   "metadata": {},
   "outputs": [
    {
     "name": "stdout",
     "output_type": "stream",
     "text": [
      "testing\n"
     ]
    }
   ],
   "source": [
    "print( c1.get_silly() )"
   ]
  },
  {
   "cell_type": "code",
   "execution_count": 22,
   "metadata": {},
   "outputs": [
    {
     "name": "stdout",
     "output_type": "stream",
     "text": [
      "nan\n"
     ]
    },
    {
     "name": "stderr",
     "output_type": "stream",
     "text": [
      "C:\\Users\\kenne\\pythonfolder\\Miniconda3\\lib\\site-packages\\ipykernel_launcher.py:4: RuntimeWarning: invalid value encountered in true_divide\n",
      "  after removing the cwd from sys.path.\n"
     ]
    }
   ],
   "source": [
    "from scipy.special import factorial\n",
    "\n",
    "\n",
    "num = factorial(365)/factorial(335)\n",
    "\n",
    "print( num )"
   ]
  },
  {
   "cell_type": "code",
   "execution_count": null,
   "metadata": {},
   "outputs": [],
   "source": []
  }
 ],
 "metadata": {
  "kernelspec": {
   "display_name": "Python 3",
   "language": "python",
   "name": "python3"
  },
  "language_info": {
   "codemirror_mode": {
    "name": "ipython",
    "version": 3
   },
   "file_extension": ".py",
   "mimetype": "text/x-python",
   "name": "python",
   "nbconvert_exporter": "python",
   "pygments_lexer": "ipython3",
   "version": "3.6.3"
  }
 },
 "nbformat": 4,
 "nbformat_minor": 2
}
