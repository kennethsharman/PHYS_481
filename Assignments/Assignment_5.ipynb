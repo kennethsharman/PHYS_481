{
 "cells": [
  {
   "cell_type": "code",
   "execution_count": 1,
   "metadata": {},
   "outputs": [],
   "source": [
    "import numpy as np\n",
    "import matplotlib.pyplot as plt"
   ]
  },
  {
   "cell_type": "markdown",
   "metadata": {},
   "source": [
    "## PHYS 481 Assignment 5\n",
    "\n",
    "November 22, 2018\n",
    "\n",
    "Kenneth Sharman (00300185)"
   ]
  },
  {
   "cell_type": "markdown",
   "metadata": {},
   "source": [
    "### Introduction\n",
    "\n",
    "BLAH BLAH BLAH"
   ]
  },
  {
   "cell_type": "markdown",
   "metadata": {},
   "source": [
    "A one-dimensional wave can be modelled by the differential equation\n",
    "$$ \\frac{\\partial^2 u}{\\partial t^2} = c^2 \\frac{\\partial^2 u}{\\partial x^2} $$\n",
    "Suppose that we have the initial conditions,\n",
    "$$ u(x,0) = A \\sin \\Big( \\frac{\\pi}{L}mx \\Big) \\qquad x \\in [0,L]$$\n",
    "$$ \\frac{\\partial}{\\partial t} u(x,0) = 0 \\qquad x \\in [0,L] $$\n",
    "and that the medium in which the wave in propagating is stationary at the endpoints\n",
    "$$ u(0,t) = 0 \\qquad \\text{and} \\qquad u(L,t) = 0 \\qquad t \\in (0,T] $$\n",
    "The solution to this differential equation is\n",
    "$$ u_e(x,t) = A \\sin \\Big(  \\frac{\\pi}{L}mx \\Big) \\cos \\Big(  \\frac{\\pi}{L}mct \\Big) $$\n",
    "\n",
    "#### Discretizing the Domain\n",
    "Both the temporal domain $[0,T]$ and the spatial domain $[0,L]$ can represented by a finite number of mesh points, and implemented using numpy arrays. A two-dimensional meshgrid can be defined using these arrays.\n",
    "\n",
    "The second-order derivatives in the wave equation can be replaced by the following difference equations\n",
    "$$ \\frac{\\partial^2}{dt^2} u(x_i,t_n) \\approx \\frac{{u_i}^{n+1} - 2 {u_i}^n + {u_i}^{n-1} }{\\Delta t^2} $$\n",
    "$$ \\frac{\\partial^2}{\\partial x^2}u(x_i,t_n) \\approx \\frac{{u_{i+1}}^n -2 {u_i}^n + {u_{i-1}}^n }{\\Delta x^2} $$\n",
    "The wave equation can therefore be written as a finite difference equation with the form\n",
    "$$ \\frac{{u_i}^{n+1} - 2 {u_i}^n + {u_i}^{n-1} }{\\Delta t^2} = c^2 \\frac{{u_{i+1}}^n -2 {u_i}^n + {u_{i-1}}^n }{\\Delta x^2} $$\n",
    "Note that this equation will only be satisfied in the interior points of the two-dimensional domain since the nearest neighbors of the previous generation are required.\n",
    "Expressing the second intial condition in terms of a finite difference equation gives\n",
    "$$ \\frac{\\partial}{\\partial t} u(x_i,0) \\approx \\frac{{u_i}^{1} - {u_i}^{-1}}{2 \\Delta t} $$\n",
    "and the other initial condition imposes the condition\n",
    "$$ {u_i}^0 = A\\sin\\Big( \\frac{\\pi}{L} m x_i \\Big) \\qquad i=0,\\dots,N_x $$\n",
    "\n",
    "#### Formulating the recursive algorithm\n",
    "Assume that ${u_i}^n$ and ${u_i}^{n-1}$ are known for $i=0,\\dots,N_x$. We must solve for ${u_i}^{n+1}$ by rearranging the finite difference equation\n",
    "$$ {u_i}^{n+1} = -{u_i}^{n-1} + 2{u_i}^{n} + C^2 ({u_{i+1}}^{n} -2{u_i}^{n} + {u_{i-1}}^{n} ) \\qquad [1]$$\n",
    "where the parameter $C$ is known as the $\\textit{Courant number}$\n",
    "$$ C = c \\frac{\\Delta t}{\\Delta x} $$\n",
    "\n",
    "If we wish to begin this recursive algorithm at ${u_i}^{2}$ the above equation tells us that we need both ${u_i}^{0}$ and ${u_i}^{1}$. The initial conditions give the former and the latter can be determined by combining the initial conditions with equation 1.\n",
    "$$ {u_i}^{1} = {u_i}^{0} - \\frac{1}{2} C^2 ({u_{i+1}}^{0} -2{u_i}^{0} + {u_{i-1}}^{0} ) $$\n"
   ]
  },
  {
   "cell_type": "markdown",
   "metadata": {},
   "source": [
    "### Question 1: Explain wavelength and period for $\\sin(kx)\\cos(\\omega t)$\n",
    "\n",
    "For a sine wave of the form $\\sin(kx)$ we usually think of $k=\\frac{2\\pi}{T}$ where $T$ is the period. However, in this case the wave is a function of distance. This means that instead of a period we refer to the wavelength $\\lambda$, hence $$k=\\frac{2\\pi}{\\lambda} \\qquad \\Longrightarrow \\qquad \\lambda = \\frac{2\\pi}{k}$$\n",
    "The wavelength is the spatial period of a periodic wave and represents the distance over which the wave's shape repeats [1].\n",
    "\n",
    "For a cosine wave of the form $\\cos(\\omega t)$ we do have a temporal period, which we will denote as $P$.\n",
    "$$ \\omega = \\frac{2\\pi}{P} \\qquad \\Longrightarrow \\qquad P = \\frac{2\\pi}{\\omega} $$\n",
    "\n",
    "The analytic solution to the above differential equation is\n",
    "$$ u_e(x,t) = A\\sin\\Big( \\frac{\\pi}{L}mx \\Big) \\cos\\Big( \\frac{\\pi}{L}mct \\Big) $$\n",
    "Using the above work to determine the wavelength\n",
    "$$ k = \\frac{\\pi m}{L} \\qquad \\Longrightarrow \\qquad \\lambda = \\frac{2L}{m} $$\n",
    "and the period\n",
    "$$ \\omega = \\frac{\\pi m c}{L} \\qquad \\Longrightarrow \\qquad P = \\frac{2L}{mc} $$\n",
    "Knowning these values with help us with the analysis in this report."
   ]
  },
  {
   "cell_type": "code",
   "execution_count": 15,
   "metadata": {},
   "outputs": [],
   "source": [
    "class OneDWave:\n",
    "    def __init__(self, L, T, A, m, c):\n",
    "        self.L, self.T = L, T\n",
    "        self.x = np.linspace(0, L, 100)\n",
    "        self.t = np.linspace(0, T, 100)\n",
    "        self.Nx, self.Nt = len(self.x)-1, len(self.t)-1\n",
    "        self.dx, self.dt = self.x[1]-self.x[0], self.t[1]-self.t[0]\n",
    "        self.A, self.m, self.C2 = A, m, (c*self.dt/self.dx)**2\n",
    "        \n",
    "        self.__init__generations()\n",
    "    \n",
    "    def initial_cond(self, x):\n",
    "        return self.A * np.sin((np.pi/self.L)*self.m*x)\n",
    "    \n",
    "    def __init__generations(self):\n",
    "        self.u, self.u_n, self.u_nm1 = np.zeros(len(self.x)), np.zeros(len(self.x)), np.zeros(len(self.x))\n",
    "        #self.u_n = np.array([self.initial_cond(i) for i in self.x])\n",
    "        self.u_n = self.initial_cond(self.x[:])\n",
    "        self.u[1:-1] = self.u_n[1:-1] - 0.5*self.C2*(self.u_n[2:]-2*self.u_n[1:-1]+self.u_n[:-2])\n",
    "        self.u_nm1[:], self.u_n[:] = self.u_n, self.u\n",
    "        \n",
    "    def step(self):\n",
    "        # Update all inner mesh points at time t[n+1]\n",
    "        self.u[1:-1] = -self.u_nm1[1:-1] + 2*self.u_n[1:-1] - self.C2*(self.u_n[2:]-2*self.u_n[1:-1]+self.u_n[:-2])\n",
    "        self.u_nm1[:], self.u_n[:] = self.u_n, self.u\n",
    "            \n",
    "    def iterate_step(self):\n",
    "        for n in range(1, self.Nt):\n",
    "            self.step()"
   ]
  },
  {
   "cell_type": "code",
   "execution_count": 18,
   "metadata": {},
   "outputs": [],
   "source": [
    "test = OneDWave(500,80,1,1,1)\n",
    "test.iterate_step()\n",
    "#print(test.u)\n",
    "#print(test.u_n)\n",
    "#print(test.u_nm1)"
   ]
  },
  {
   "cell_type": "code",
   "execution_count": null,
   "metadata": {},
   "outputs": [],
   "source": []
  },
  {
   "cell_type": "code",
   "execution_count": null,
   "metadata": {},
   "outputs": [],
   "source": []
  },
  {
   "cell_type": "markdown",
   "metadata": {},
   "source": [
    "### References\n",
    "\n",
    "[1] - https://en.wikipedia.org/wiki/Wavelength"
   ]
  },
  {
   "cell_type": "code",
   "execution_count": null,
   "metadata": {},
   "outputs": [],
   "source": []
  }
 ],
 "metadata": {
  "kernelspec": {
   "display_name": "Python 3",
   "language": "python",
   "name": "python3"
  },
  "language_info": {
   "codemirror_mode": {
    "name": "ipython",
    "version": 3
   },
   "file_extension": ".py",
   "mimetype": "text/x-python",
   "name": "python",
   "nbconvert_exporter": "python",
   "pygments_lexer": "ipython3",
   "version": "3.6.3"
  }
 },
 "nbformat": 4,
 "nbformat_minor": 2
}
