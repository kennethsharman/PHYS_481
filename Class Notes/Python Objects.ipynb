{
 "cells": [
  {
   "cell_type": "code",
   "execution_count": 25,
   "metadata": {},
   "outputs": [],
   "source": [
    "class person:\n",
    "    def __init__(self):\n",
    "        self.firstname = 'NA'\n",
    "        self.lastname = 'NA'\n",
    "    \n",
    "    def set_name(self, fname, lname):\n",
    "        \n",
    "        if not isinstance(fname, str) or not isinstance(lname, str):\n",
    "            raise ValueError('First and last name must be a string')\n",
    "        else:\n",
    "            self.firstname = fname\n",
    "            self.lastname = lname\n",
    "        \n",
    "    def get_fname(self):\n",
    "        return self.firstname\n",
    "    def get_lname(self):\n",
    "        return self.lastname"
   ]
  },
  {
   "cell_type": "code",
   "execution_count": 27,
   "metadata": {},
   "outputs": [
    {
     "name": "stdout",
     "output_type": "stream",
     "text": [
      "Ken\n",
      "Sharman\n"
     ]
    }
   ],
   "source": [
    "Me = person()\n",
    "\n",
    "Me.set_name('Ken', 'Sharman')\n",
    "\n",
    "print(Me.get_fname())\n",
    "print(Me.get_lname())"
   ]
  },
  {
   "cell_type": "code",
   "execution_count": 8,
   "metadata": {},
   "outputs": [
    {
     "name": "stdout",
     "output_type": "stream",
     "text": [
      "Craig\n",
      "Michie\n"
     ]
    }
   ],
   "source": [
    "You = person()\n",
    "\n",
    "You.set_name('Craig', 'Michie')\n",
    "\n",
    "print(You.get_fname())\n",
    "print(You.get_lname())"
   ]
  },
  {
   "cell_type": "code",
   "execution_count": null,
   "metadata": {},
   "outputs": [],
   "source": []
  }
 ],
 "metadata": {
  "kernelspec": {
   "display_name": "Python 3",
   "language": "python",
   "name": "python3"
  },
  "language_info": {
   "codemirror_mode": {
    "name": "ipython",
    "version": 3
   },
   "file_extension": ".py",
   "mimetype": "text/x-python",
   "name": "python",
   "nbconvert_exporter": "python",
   "pygments_lexer": "ipython3",
   "version": "3.7.0"
  }
 },
 "nbformat": 4,
 "nbformat_minor": 2
}
