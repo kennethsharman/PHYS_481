{
 "cells": [
  {
   "cell_type": "markdown",
   "metadata": {},
   "source": [
    "# Phys481 Fall 2017\n",
    "# Assignment #1: Arnold's cat map\n",
    "## A. U. Thor (UCID) and A. N. Other (UCID)\n",
    "\n",
    "\n"
   ]
  },
  {
   "cell_type": "code",
   "execution_count": 1,
   "metadata": {
    "collapsed": true
   },
   "outputs": [],
   "source": [
    "# load libraries for numerical methods and plotting\n",
    "#\n",
    "import numpy as np\n",
    "import matplotlib.pyplot as plt\n",
    "%matplotlib inline"
   ]
  },
  {
   "cell_type": "markdown",
   "metadata": {},
   "source": [
    "## Introduction\n",
    "This report does not contain answers to the questions from the first class of Physics481 Fall 2017.  It does provide a preliminary guide to the kind of layout and contents which will be expected on subsequent assigments.\n",
    "\n",
    "Students should work individually or in pairs to produce Jupyter notebooks containing answers to the five questions.  These notebooks should be submitted on D2L to the appropriate dropbox.  "
   ]
  },
  {
   "cell_type": "code",
   "execution_count": 2,
   "metadata": {},
   "outputs": [
    {
     "name": "stdout",
     "output_type": "stream",
     "text": [
      "3\n"
     ]
    }
   ],
   "source": [
    "# This is a code block \n",
    "#\n",
    "x = 3\n",
    "print(x)"
   ]
  },
  {
   "cell_type": "markdown",
   "metadata": {},
   "source": [
    "## Python docstrings\n",
    "\n",
    "Each non-trivial function should have a python docstring which provides a brief description of what the function does.  For more complicated functions it may be useful to specify details about the expected input and output values.\n",
    "\n",
    "Many different \"standards\" for docstring contents have been developed\n",
    "\n",
    " https://www.python.org/dev/peps/pep-0257/\n",
    " https://google.github.io/styleguide/pyguide.html\n",
    " https://thomas-cokelaer.info/tutorials/sphinx/docstring_python.html\n",
    " \n",
    "For now, just provide a sentence or two."
   ]
  },
  {
   "cell_type": "code",
   "execution_count": 3,
   "metadata": {
    "collapsed": true
   },
   "outputs": [],
   "source": [
    "def myfunc(x):\n",
    "    \"\"\" this is a simple docstring  \"\"\"\n",
    "    y = x * 4\n",
    "    return y"
   ]
  },
  {
   "cell_type": "code",
   "execution_count": 4,
   "metadata": {},
   "outputs": [
    {
     "name": "stdout",
     "output_type": "stream",
     "text": [
      "['__annotations__', '__call__', '__class__', '__closure__', '__code__', '__defaults__', '__delattr__', '__dict__', '__dir__', '__doc__', '__eq__', '__format__', '__ge__', '__get__', '__getattribute__', '__globals__', '__gt__', '__hash__', '__init__', '__kwdefaults__', '__le__', '__lt__', '__module__', '__name__', '__ne__', '__new__', '__qualname__', '__reduce__', '__reduce_ex__', '__repr__', '__setattr__', '__sizeof__', '__str__', '__subclasshook__']\n"
     ]
    }
   ],
   "source": [
    "# look at the elements contained in \"myfunc\"\n",
    "print( dir(myfunc) )"
   ]
  },
  {
   "cell_type": "code",
   "execution_count": 5,
   "metadata": {},
   "outputs": [
    {
     "data": {
      "text/plain": [
       "' this is a simple docstring  '"
      ]
     },
     "execution_count": 5,
     "metadata": {},
     "output_type": "execute_result"
    }
   ],
   "source": [
    "# The docstring text is stored in an attribute called \"__doc__\" that can be accessed by other documentation tools.\n",
    "#\n",
    "myfunc.__doc__ "
   ]
  },
  {
   "cell_type": "code",
   "execution_count": 6,
   "metadata": {},
   "outputs": [
    {
     "name": "stdout",
     "output_type": "stream",
     "text": [
      "Help on function myfunc in module __main__:\n",
      "\n",
      "myfunc(x)\n",
      "    this is a simple docstring\n",
      "\n"
     ]
    }
   ],
   "source": [
    "help(myfunc)"
   ]
  },
  {
   "cell_type": "code",
   "execution_count": 7,
   "metadata": {
    "collapsed": true
   },
   "outputs": [],
   "source": [
    "?myfunc"
   ]
  },
  {
   "cell_type": "markdown",
   "metadata": {
    "collapsed": true
   },
   "source": [
    "## Tables\n",
    "\n",
    "Moderate sized chunks of data may be usefully presented in a table.  The \"markdown\" format is often easiest for simple tables, but you can always fall back to using HTML tables."
   ]
  },
  {
   "cell_type": "markdown",
   "metadata": {},
   "source": [
    "This is a markdown table\n",
    "\n",
    "| First Header  | Second Header |\n",
    "| ------------- | ------------- |\n",
    "| Content Cell  | Content Cell  |\n",
    "| Content Cell  | Content Cell  |"
   ]
  },
  {
   "cell_type": "markdown",
   "metadata": {},
   "source": [
    "This is an HTML table\n",
    "\n",
    "<table>\n",
    "<tr><td> </td><th>column 1</th><th>column 2</th></tr>\n",
    "<tr><th>row 1</th><td>data 1,1</td><td>data 1,2</td></tr>\n",
    "<tr><th>row 2</th><td>data 2,1</td><td>data 2,2</td></tr>\n",
    "</table>"
   ]
  },
  {
   "cell_type": "markdown",
   "metadata": {},
   "source": [
    "## Plots\n",
    "\n",
    "A good plot should be clear, complete, but not cluttered.\n",
    "\n",
    "Titles and axis labels are (almost) always required.  Plot symbols, line-styles and colors can be used to distinguish between multiple quantities on the same plot.\n",
    "\n",
    "Histograms, scatter plots, contours, and shaded surface plots may also be useful."
   ]
  },
  {
   "cell_type": "code",
   "execution_count": 8,
   "metadata": {},
   "outputs": [
    {
     "data": {
      "image/png": "[encoded data removed]",
      "text/plain": [
       "<matplotlib.figure.Figure at 0x7fe7c8d4f748>"
      ]
     },
     "metadata": {},
     "output_type": "display_data"
    }
   ],
   "source": [
    "# Plot example\n",
    "plt.plot([0,1], [0,1], label='speed')\n",
    "plt.plot([0,1], [1,2], label='acceleration')\n",
    "plt.title('Plot title')\n",
    "plt.xlabel('x-axis [units]')\n",
    "plt.ylabel('y-axis [units]')\n",
    "plt.legend(loc=0)\n",
    "plt.grid('on')"
   ]
  },
  {
   "cell_type": "markdown",
   "metadata": {},
   "source": [
    "The \"subplots\" command can be useful when dealing with a set of related plots."
   ]
  },
  {
   "cell_type": "code",
   "execution_count": 9,
   "metadata": {},
   "outputs": [
    {
     "data": {
      "text/plain": [
       "2"
      ]
     },
     "execution_count": 9,
     "metadata": {},
     "output_type": "execute_result"
    },
    {
     "data": {
      "image/png": "[encoded data removed]",
      "text/plain": [
       "<matplotlib.figure.Figure at 0x7fe7c8d4f588>"
      ]
     },
     "metadata": {},
     "output_type": "display_data"
    }
   ],
   "source": [
    "fig, axes = plt.subplots(nrows=2,ncols=2, sharex=True, sharey=True)\n",
    "len(axes)"
   ]
  },
  {
   "cell_type": "markdown",
   "metadata": {},
   "source": [
    "However, it is also possible to create a confusing mosaic of postage stamp plots that don't communicate any information at all."
   ]
  },
  {
   "cell_type": "code",
   "execution_count": 10,
   "metadata": {
    "scrolled": true
   },
   "outputs": [
    {
     "data": {
      "text/plain": [
       "9"
      ]
     },
     "execution_count": 10,
     "metadata": {},
     "output_type": "execute_result"
    },
    {
     "data": {
      "image/png": "[encoded data removed]",
      "text/plain": [
       "<matplotlib.figure.Figure at 0x7fe7c8d4f358>"
      ]
     },
     "metadata": {},
     "output_type": "display_data"
    }
   ],
   "source": [
    "fig, axes = plt.subplots(nrows=9,ncols=9, sharex=True, sharey=True)\n",
    "len(axes)"
   ]
  },
  {
   "cell_type": "markdown",
   "metadata": {},
   "source": [
    "## Equations\n",
    "\n",
    "Mathematics can be expressed using $\\LaTeX$.\n",
    "\n",
    "A single pair of dollar signs will produce inline math such as $\\alpha$ or $3 \\times 4$.\n",
    "\n",
    "Double dollar signs will generate stand-alone equations\n",
    "\n",
    "  $$ x_i = y_i^3 $$\n",
    "\n",
    "As with code, try to avoid long sequences of nothing but math.  Insert comments to explain what is being done and why."
   ]
  },
  {
   "cell_type": "markdown",
   "metadata": {},
   "source": [
    "## Discussion/Conclusions/Summary\n",
    "\n",
    "What did you do, how did you do it, why does it matter?"
   ]
  }
 ],
 "metadata": {
  "anaconda-cloud": {},
  "kernelspec": {
   "display_name": "Python 3",
   "language": "python",
   "name": "python3"
  },
  "language_info": {
   "codemirror_mode": {
    "name": "ipython",
    "version": 3
   },
   "file_extension": ".py",
   "mimetype": "text/x-python",
   "name": "python",
   "nbconvert_exporter": "python",
   "pygments_lexer": "ipython3",
   "version": "3.6.3"
  }
 },
 "nbformat": 4,
 "nbformat_minor": 2
}
