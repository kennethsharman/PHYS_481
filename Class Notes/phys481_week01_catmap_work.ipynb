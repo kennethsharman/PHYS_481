{
 "cells": [
  {
   "cell_type": "markdown",
   "metadata": {},
   "source": [
    "# PHYS481 Assignment \\#1\n",
    "\n",
    "## Brian Jackel\n",
    "\n",
    "This Jupyter notebook contains answers to questions posed during the first week of physics 481 Fall 2018.\n",
    "This assigment is primarily intended as a review of basic Python programming."
   ]
  },
  {
   "cell_type": "code",
   "execution_count": 1,
   "metadata": {},
   "outputs": [],
   "source": [
    "# There are several packages which get used so frequently that\n",
    "# we should just include them automatically.\n",
    "#\n",
    "import numpy as np\n",
    "\n",
    "# tools for plotting with \"magic\" (%) ipython configuration\n",
    "#\n",
    "import matplotlib.pyplot as plt\n",
    "%matplotlib inline"
   ]
  },
  {
   "cell_type": "markdown",
   "metadata": {},
   "source": [
    "### Question 1: What are the differences between lists and tuples?\n",
    "\n",
    "Tuples are immutable and cannot be changed once they are created.  Lists are mutable, so list elements can be inserted, removed, or modified. "
   ]
  },
  {
   "cell_type": "code",
   "execution_count": 2,
   "metadata": {},
   "outputs": [],
   "source": [
    "a = [0, 1]   # square braces for a list\n",
    "b = (2, 3)   # round braces for a tuple"
   ]
  },
  {
   "cell_type": "code",
   "execution_count": 3,
   "metadata": {},
   "outputs": [
    {
     "name": "stdout",
     "output_type": "stream",
     "text": [
      "tuple and list:  {'__str__', '__reduce__', '__contains__', '__iter__', '__eq__', '__format__', '__rmul__', '__sizeof__', '__repr__', '__getattribute__', '__mul__', '__len__', '__le__', '__add__', 'count', '__subclasshook__', '__delattr__', '__dir__', '__class__', '__doc__', '__init__', '__reduce_ex__', '__init_subclass__', '__lt__', '__gt__', '__setattr__', '__ge__', '__getitem__', '__hash__', '__ne__', 'index', '__new__'}\n",
      "\n",
      "tuple only:  {'__getnewargs__'}\n",
      "\n",
      "list only:  {'__setitem__', 'extend', 'sort', '__imul__', '__iadd__', 'insert', 'remove', 'append', 'clear', 'pop', 'reverse', '__delitem__', 'copy', '__reversed__'}\n"
     ]
    }
   ],
   "source": [
    "# Use \"set\" operations to determine which methods are common to both lists and tuples.\n",
    "#\n",
    "#\n",
    "print('tuple and list: ', set( dir(()) ) & set( dir([]) ) )\n",
    "print('\\ntuple only: ', set( dir(()) ) - set( dir([]) ) )\n",
    "print('\\nlist only: ',  set( dir([]) ) - set( dir(()) ) )"
   ]
  },
  {
   "cell_type": "markdown",
   "metadata": {},
   "source": [
    "Use the \\_\\_sizeof\\_\\_ method to show that an empty tuple requires roughly half the memory of an empty list."
   ]
  },
  {
   "cell_type": "code",
   "execution_count": 4,
   "metadata": {},
   "outputs": [
    {
     "name": "stdout",
     "output_type": "stream",
     "text": [
      "Empty tuple, list:  24 40\n",
      "Small tuple, list:  28 48\n"
     ]
    }
   ],
   "source": [
    "print('Empty tuple, list: ',().__sizeof__(), [].__sizeof__() )\n",
    "print('Small tuple, list: ',(1).__sizeof__(), [1].__sizeof__() ) "
   ]
  },
  {
   "cell_type": "markdown",
   "metadata": {},
   "source": [
    "Creating a small tuple is *much* faster than making the equivalent list."
   ]
  },
  {
   "cell_type": "code",
   "execution_count": 5,
   "metadata": {},
   "outputs": [
    {
     "name": "stdout",
     "output_type": "stream",
     "text": [
      "411 ns ± 10.8 ns per loop (mean ± std. dev. of 7 runs, 1000000 loops each)\n",
      "2.14 µs ± 33.6 ns per loop (mean ± std. dev. of 7 runs, 100000 loops each)\n"
     ]
    }
   ],
   "source": [
    "%timeit (i for i in range(99))\n",
    "%timeit [i for i in range(99)]"
   ]
  },
  {
   "cell_type": "code",
   "execution_count": 6,
   "metadata": {},
   "outputs": [
    {
     "name": "stdout",
     "output_type": "stream",
     "text": [
      "  1           0 LOAD_CONST               2 ((10, 'abc'))\n",
      "              2 RETURN_VALUE\n",
      "\n",
      "\n",
      "  1           0 LOAD_CONST               0 (10)\n",
      "              2 LOAD_CONST               1 ('abc')\n",
      "              4 BUILD_LIST               2\n",
      "              6 RETURN_VALUE\n"
     ]
    }
   ],
   "source": [
    "# It can be interesting to look at how Python commands are compiled to low-level byte-codes.\n",
    "# (See also \".pyc\" files)\n",
    "\n",
    "from dis import dis\n",
    "dis(compile(\"(10, 'abc')\", '', 'eval'))\n",
    "print('\\n')\n",
    "dis(compile(\"[10, 'abc']\", '', 'eval'))"
   ]
  },
  {
   "cell_type": "markdown",
   "metadata": {},
   "source": [
    "### Question 2\n",
    "\n",
    "In earlier versions of Python the default integer type was a fixed size (64-bits), making it somewhat more challenging to calculate 52! (factorial).  Now it is trivial:"
   ]
  },
  {
   "cell_type": "code",
   "execution_count": 7,
   "metadata": {},
   "outputs": [
    {
     "data": {
      "text/plain": [
       "80658175170943878571660636856403766975289505440883277824000000000000"
      ]
     },
     "execution_count": 7,
     "metadata": {},
     "output_type": "execute_result"
    }
   ],
   "source": [
    "import math\n",
    "math.factorial(52)"
   ]
  },
  {
   "cell_type": "markdown",
   "metadata": {},
   "source": [
    "For completeness, we could try writing our own functions and compare the run times."
   ]
  },
  {
   "cell_type": "code",
   "execution_count": 8,
   "metadata": {},
   "outputs": [],
   "source": [
    "def recursive_factorial(n):\n",
    "    \"\"\" calculate n! recursively (slow)\n",
    "    \"\"\"\n",
    "    if n <= 1:\n",
    "        return 1\n",
    "    \n",
    "    return n*recursive_factorial(n-1)\n",
    "\n",
    "assert( recursive_factorial(52) == math.factorial(52) )"
   ]
  },
  {
   "cell_type": "code",
   "execution_count": 9,
   "metadata": {},
   "outputs": [],
   "source": [
    "def simple_factorial(n):\n",
    "    \"\"\" calculate n! in a loop\n",
    "    \"\"\"\n",
    "    result = 1\n",
    "    for i in range(1,n+1):\n",
    "        result = result*i\n",
    "        \n",
    "    return result\n",
    "\n",
    "def optimized_simple_factorial(n):\n",
    "    \"\"\" calculate n! in a loop\n",
    "    try to avoid unnecessary work\n",
    "    \"\"\"\n",
    "    result = int(n)\n",
    "    for i in range(2,n):\n",
    "        result = result * i\n",
    "        \n",
    "    return result\n",
    "\n",
    "assert( simple_factorial(52) == math.factorial(52) )\n",
    "assert( optimized_simple_factorial(52) == math.factorial(52) )"
   ]
  },
  {
   "cell_type": "code",
   "execution_count": 10,
   "metadata": {},
   "outputs": [
    {
     "name": "stdout",
     "output_type": "stream",
     "text": [
      "411 ns ± 26.8 ns per loop (mean ± std. dev. of 7 runs, 1000000 loops each)\n",
      "2.29 µs ± 22 ns per loop (mean ± std. dev. of 7 runs, 100000 loops each)\n",
      "2.26 µs ± 39.8 ns per loop (mean ± std. dev. of 7 runs, 100000 loops each)\n",
      "5.79 µs ± 129 ns per loop (mean ± std. dev. of 7 runs, 100000 loops each)\n"
     ]
    }
   ],
   "source": [
    "%timeit math.factorial(52)\n",
    "%timeit simple_factorial(52)\n",
    "%timeit optimized_simple_factorial(52)   #!! Suprise !!   Why does this take longer than \"simple_factorial\" ??\n",
    "%timeit recursive_factorial(52)"
   ]
  },
  {
   "cell_type": "markdown",
   "metadata": {},
   "source": [
    "## 2) Overhand shuffle\n",
    "\n",
    "There appears to be some ambiguity regarding how exactly to perform an overhand shuffle.  For the purposes of this report, it shall be defined as follows:\n",
    " (1) a \"block\" of $N$ cards is taken from the top of the deck and is used as the basis for a new shuffled deck\n",
    " (2) a second block of $N$ cards is taken from the top of the original deck and placed on top of the new deck\n",
    " (3) step (2) is repeated until all the cards are on the new deck"
   ]
  },
  {
   "cell_type": "code",
   "execution_count": 11,
   "metadata": {},
   "outputs": [
    {
     "name": "stdout",
     "output_type": "stream",
     "text": [
      "[48, 49, 50, 51, 40, 41, 42, 43, 44, 45, 46, 47, 32, 33, 34, 35, 36, 37, 38, 39, 24, 25, 26, 27, 28, 29, 30, 31, 16, 17, 18, 19, 20, 21, 22, 23, 8, 9, 10, 11, 12, 13, 14, 15, 0, 1, 2, 3, 4, 5, 6, 7]\n"
     ]
    }
   ],
   "source": [
    "def overhand_shuffle(deck, blocksize=8):\n",
    "    result = []\n",
    "    while len(deck)>0:\n",
    "        blocksize = np.min( [blocksize, len(deck) ])\n",
    "        block = list( deck[0:blocksize] )\n",
    "        block.extend(result)\n",
    "        result = block[:]\n",
    "        deck = deck[blocksize:]\n",
    "    \n",
    "    return result\n",
    "    \n",
    "    \n",
    "deck = np.arange(52)    \n",
    "deck = overhand_shuffle(deck, 8)\n",
    "print(deck)"
   ]
  },
  {
   "cell_type": "code",
   "execution_count": 12,
   "metadata": {},
   "outputs": [
    {
     "name": "stdout",
     "output_type": "stream",
     "text": [
      "1 [48, 49, 50, 51, 40, 41, 42, 43, 44] ... [3, 4, 5, 6, 7]\n",
      "2 [4, 5, 6, 7, 12, 13, 14, 15, 0] ... [51, 40, 41, 42, 43]\n",
      "3 [40, 41, 42, 43, 32, 33, 34, 35, 48] ... [7, 12, 13, 14, 15]\n",
      "4 [12, 13, 14, 15, 20, 21, 22, 23, 4] ... [43, 32, 33, 34, 35]\n",
      "5 [32, 33, 34, 35, 24, 25, 26, 27, 40] ... [15, 20, 21, 22, 23]\n",
      "6 [20, 21, 22, 23, 28, 29, 30, 31, 12] ... [35, 24, 25, 26, 27]\n",
      "7 [24, 25, 26, 27, 16, 17, 18, 19, 32] ... [23, 28, 29, 30, 31]\n",
      "8 [28, 29, 30, 31, 36, 37, 38, 39, 20] ... [27, 16, 17, 18, 19]\n",
      "9 [16, 17, 18, 19, 8, 9, 10, 11, 24] ... [31, 36, 37, 38, 39]\n",
      "10 [36, 37, 38, 39, 44, 45, 46, 47, 28] ... [19, 8, 9, 10, 11]\n",
      "11 [8, 9, 10, 11, 0, 1, 2, 3, 16] ... [39, 44, 45, 46, 47]\n",
      "12 [44, 45, 46, 47, 48, 49, 50, 51, 36] ... [11, 0, 1, 2, 3]\n",
      "13 [0, 1, 2, 3, 4, 5, 6, 7, 8] ... [47, 48, 49, 50, 51]\n"
     ]
    }
   ],
   "source": [
    "deck = np.arange(52)\n",
    "for indx in range(1,14):\n",
    "    deck = overhand_shuffle(deck)\n",
    "    print(indx, deck[0:9],'...',deck[-5:])"
   ]
  },
  {
   "cell_type": "markdown",
   "metadata": {},
   "source": [
    "## 3) Repeated riffle shuffles\n",
    "\n",
    "A sequence of 7 perfect riffle shuffles will apparently sort the deck so that the first half contains all the even cards in order followed by all the odd cards in order.  One more iteration will return the deck to its original configuration.\n",
    "\n",
    "In practice, the riffle shuffle actually seems to randomize the deck fairly well.  This is presumably due to some combination of factors:\n",
    "#) the deck isn't split exactly in half\n",
    "#) the first card may be from either the left or right hand\n",
    "#) instead of perfectly alternating single cards between left and right, there may be gaps or multiple cards "
   ]
  },
  {
   "cell_type": "code",
   "execution_count": 13,
   "metadata": {},
   "outputs": [
    {
     "name": "stdout",
     "output_type": "stream",
     "text": [
      "[0, 26, 1, 27, 2, 28, 3, 29, 4, 30, 5, 31, 6, 32, 7, 33, 8, 34, 9, 35, 10, 36, 11, 37, 12, 38, 13, 39, 14, 40, 15, 41, 16, 42, 17, 43, 18, 44, 19, 45, 20, 46, 21, 47, 22, 48, 23, 49, 24, 50, 25, 51]\n"
     ]
    }
   ],
   "source": [
    "def riffle_shuffle(deck):\n",
    "    \"\"\" This function changes the order of a sequence \n",
    "    by dividing it into two sections and merging them\n",
    "    like shuffling a deck of cards.\n",
    "    \"\"\"\n",
    "       \n",
    "    ncards = len(deck)\n",
    "    assert( (ncards %2) == 0 )\n",
    "    #assert( ncards == 52 )\n",
    "    \n",
    "    nhalf = ncards//2\n",
    "    half0 = deck[0:nhalf]\n",
    "    half1 = deck[nhalf:]\n",
    "   \n",
    "    result = []\n",
    "    for indx in range( nhalf ):\n",
    "        result.append( half0[indx] )\n",
    "        result.append( half1[indx] )\n",
    "        \n",
    "\n",
    "    return result\n",
    "        \n",
    "deck = range(52)[:]\n",
    "deck = riffle_shuffle(deck)\n",
    "print(deck)\n",
    "\n",
    "assert( deck[0:4] == [0,26,1,27] ) "
   ]
  },
  {
   "cell_type": "code",
   "execution_count": 14,
   "metadata": {},
   "outputs": [
    {
     "name": "stdout",
     "output_type": "stream",
     "text": [
      "1 [0, 26, 1, 27, 2, 28, 3, 29, 4] ... [49, 24, 50, 25, 51]\n",
      "2 [0, 13, 26, 39, 1, 14, 27, 40, 2] ... [50, 12, 25, 38, 51]\n",
      "3 [0, 32, 13, 45, 26, 7, 39, 20, 1] ... [25, 6, 38, 19, 51]\n",
      "4 [0, 16, 32, 48, 13, 29, 45, 10, 26] ... [38, 3, 19, 35, 51]\n",
      "5 [0, 8, 16, 24, 32, 40, 48, 5, 13] ... [19, 27, 35, 43, 51]\n",
      "6 [0, 4, 8, 12, 16, 20, 24, 28, 32] ... [35, 39, 43, 47, 51]\n",
      "7 [0, 2, 4, 6, 8, 10, 12, 14, 16] ... [43, 45, 47, 49, 51]\n",
      "8 [0, 1, 2, 3, 4, 5, 6, 7, 8] ... [47, 48, 49, 50, 51]\n"
     ]
    }
   ],
   "source": [
    "deck = np.arange(52)\n",
    "for indx in range(1,9):\n",
    "    deck = riffle_shuffle(deck)\n",
    "    print(indx, deck[0:9],'...',deck[-5:])    "
   ]
  },
  {
   "cell_type": "markdown",
   "metadata": {},
   "source": [
    "## 4) Compare the computation time required for the two different implementations of catmap."
   ]
  },
  {
   "cell_type": "code",
   "execution_count": 15,
   "metadata": {},
   "outputs": [],
   "source": [
    "def catmap1(square):\n",
    "    \"\"\"Apply Arnold's cat map to a square NxN numpy array\n",
    "    using loops to modify pixels one at a time.\n",
    "    \"\"\"\n",
    "    \n",
    "    nx,ny = square.shape[0:2]\n",
    "    assert (nx == ny & ny > 1)\n",
    "    \n",
    "    result = square.copy()\n",
    "    for x in range(nx):\n",
    "        for y in range(ny):\n",
    "            xx = x + y\n",
    "            yy = x + 2*y\n",
    "            result[x,y] = square[xx % nx, yy % ny]\n",
    "            \n",
    "    return result"
   ]
  },
  {
   "cell_type": "code",
   "execution_count": 16,
   "metadata": {},
   "outputs": [],
   "source": [
    "def catmap2(square):\n",
    "    \"\"\"\n",
    "    Apply Arnold's cat map to a square NxN numpy array \n",
    "    using array indexing.\n",
    "    \"\"\"\n",
    "    \n",
    "    nx,ny = square.shape[0:2]\n",
    "    assert (nx == ny & ny > 1)\n",
    "    \n",
    "    x, y = np.arange(nx), np.arange(ny)\n",
    "    xx, yy = np.meshgrid(x, y, sparse=False, indexing='ij')\n",
    "    \n",
    "    xx = xx + yy\n",
    "    yy = yy + xx\n",
    "    \n",
    "    return square[xx % nx, yy % ny]  "
   ]
  },
  {
   "cell_type": "code",
   "execution_count": 18,
   "metadata": {},
   "outputs": [
    {
     "name": "stdout",
     "output_type": "stream",
     "text": [
      "catmap1:  0.0023956973143298217\n",
      "catmap2:  0.00024793364784934306\n"
     ]
    }
   ],
   "source": [
    "# Use system clock to measure time delays\n",
    "#\n",
    "import time\n",
    "\n",
    "n = 99\n",
    "square = np.arange(n*n).reshape([n,n])\n",
    "\n",
    "t0 = time.time()\n",
    "for i in range(99):\n",
    "    test = catmap1(square)\n",
    "t1 = time.time()    \n",
    "print('catmap1: ', (t1-t0)/99.0 )\n",
    "\n",
    "t0 = time.time()\n",
    "for i in range(99):\n",
    "    test = catmap2(square)\n",
    "t1 = time.time()    \n",
    "print('catmap2: ', (t1-t0)/99.0 )"
   ]
  },
  {
   "cell_type": "code",
   "execution_count": 19,
   "metadata": {},
   "outputs": [
    {
     "name": "stdout",
     "output_type": "stream",
     "text": [
      "<function catmap1 at 0x7f568a20b8c8> 0.002432864121716432\n",
      "<function catmap2 at 0x7f5689f44950> 0.00023214744799064869\n"
     ]
    }
   ],
   "source": [
    "# factor repeated code into a function\n",
    "#\n",
    "def mytimeit(func, *args):\n",
    "    t0 = time.time()\n",
    "    for i in range(99):\n",
    "        test = func(*args)\n",
    "    t1 = time.time()\n",
    "    return (t1-t0)/99.0\n",
    "\n",
    "for func in [catmap1, catmap2]:\n",
    "    print( str(func), mytimeit(func,square) )"
   ]
  },
  {
   "cell_type": "code",
   "execution_count": 21,
   "metadata": {},
   "outputs": [
    {
     "name": "stdout",
     "output_type": "stream",
     "text": [
      "catmap1 0.0024420059088504677\n",
      "catmap2 0.00024235368979097616\n"
     ]
    }
   ],
   "source": [
    "catmap1.name = 'catmap1'\n",
    "catmap2.name = 'catmap2'\n",
    "for func in [catmap1, catmap2]:\n",
    "    print( func.name, mytimeit(func,square) )"
   ]
  },
  {
   "cell_type": "code",
   "execution_count": 22,
   "metadata": {},
   "outputs": [
    {
     "name": "stdout",
     "output_type": "stream",
     "text": [
      "2.22 ms ± 30.7 µs per loop (mean ± std. dev. of 7 runs, 100 loops each)\n",
      "236 µs ± 2.14 µs per loop (mean ± std. dev. of 7 runs, 1000 loops each)\n"
     ]
    }
   ],
   "source": [
    "# Use built-in timing routines.  The percent sign (%) is \n",
    "# a \"magic\" command in ipython and jupyter that provides\n",
    "# a convenient interface to the \"timeit\" module.\n",
    "#\n",
    "%timeit test = catmap1(square)  # 25.5 ms per loop\n",
    "%timeit test = catmap2(square)  # 1.82 ms per loop"
   ]
  },
  {
   "cell_type": "code",
   "execution_count": 23,
   "metadata": {},
   "outputs": [
    {
     "name": "stdout",
     "output_type": "stream",
     "text": [
      "48\n"
     ]
    }
   ],
   "source": [
    "def cycle_count(n, maxloops=999):\n",
    "    \n",
    "    square0 = np.arange(n*n).reshape(n,n)\n",
    "    square = catmap2( square0.copy() )\n",
    "    count = 1\n",
    "    while np.any(square != square0):\n",
    "        count += 1\n",
    "        square = catmap2(square)\n",
    "        if count > maxloops: break\n",
    "            \n",
    "    return count\n",
    "    \n",
    "    \n",
    "test = cycle_count(64)\n",
    "print(test)\n",
    "\n",
    "#\n",
    "#"
   ]
  },
  {
   "cell_type": "code",
   "execution_count": 24,
   "metadata": {},
   "outputs": [],
   "source": [
    "nsquare = range(2, 256)\n",
    "count = [ cycle_count(n) for n in nsquare ]"
   ]
  },
  {
   "cell_type": "code",
   "execution_count": 25,
   "metadata": {},
   "outputs": [
    {
     "name": "stderr",
     "output_type": "stream",
     "text": [
      "/home/bjackel/anaconda3/lib/python3.6/site-packages/matplotlib/cbook/deprecation.py:107: MatplotlibDeprecationWarning: Passing one of 'on', 'true', 'off', 'false' as a boolean is deprecated; use an actual boolean (True/False) instead.\n",
      "  warnings.warn(message, mplDeprecation, stacklevel=1)\n"
     ]
    },
    {
     "data": {
      "image/png": "[encoded data removed]",
      "text/plain": [
       "<Figure size 432x288 with 1 Axes>"
      ]
     },
     "metadata": {},
     "output_type": "display_data"
    }
   ],
   "source": [
    "plt.plot( nsquare, count )\n",
    "plt.title(\"Arnold's cat map\")\n",
    "plt.xlabel('square dimensions')\n",
    "plt.ylabel('cycle iterations')\n",
    "plt.grid('on')"
   ]
  },
  {
   "cell_type": "markdown",
   "metadata": {},
   "source": [
    "## Summary\n",
    "Trying to randomly shuffle cards with a deterministic algorithm does not seem to be very effective."
   ]
  },
  {
   "cell_type": "markdown",
   "metadata": {},
   "source": [
    "## 6) Optional - how does the catmap period depend on pixel?"
   ]
  },
  {
   "cell_type": "code",
   "execution_count": 26,
   "metadata": {},
   "outputs": [
    {
     "name": "stdout",
     "output_type": "stream",
     "text": [
      "3==3\n",
      "inf==inf\n"
     ]
    }
   ],
   "source": [
    "### NaN is not a number\n",
    "\n",
    "#if np.all(square == square0): print('perfect match')\n",
    "\n",
    "if (3 == 3): print('3==3')\n",
    "if (np.inf == np.inf): print('inf==inf')\n",
    "if (np.nan == np.nan): print('nan=nan')"
   ]
  },
  {
   "cell_type": "code",
   "execution_count": 27,
   "metadata": {},
   "outputs": [],
   "source": [
    "def catmap_cycles(nsquare, maxsteps=999):\n",
    "    \"\"\"\n",
    "    Determine the periodicity for each pixel of\n",
    "    Arnold's cat map.\n",
    "    \"\"\"\n",
    "    \n",
    "    nx = ny = nsquare\n",
    "    assert (nx == ny & ny > 1)\n",
    "    \n",
    "    x, y = np.arange(nx), np.arange(ny)\n",
    "    xx, yy = np.meshgrid(x, y, sparse=False, indexing='ij')\n",
    "    \n",
    "    xx0, yy0 = xx[:], yy[:]\n",
    "    \n",
    "    count = np.zeros( [nx,ny], dtype=np.int )\n",
    "    for n in range(1,maxsteps):\n",
    "        xx = ( xx + yy ) % nx\n",
    "        yy = ( yy + xx ) % ny\n",
    "        match = (xx == xx0) & (yy == yy0)\n",
    "        count[match & (count==0)] = n\n",
    "    \n",
    "    return count\n",
    "\n",
    "test = catmap_cycles(4)"
   ]
  },
  {
   "cell_type": "code",
   "execution_count": 28,
   "metadata": {},
   "outputs": [
    {
     "name": "stdout",
     "output_type": "stream",
     "text": [
      "[[ 1 12 12  4 12 12  4 12 12]\n",
      " [12 12 12 12 12 12 12 12 12]\n",
      " [12 12 12 12 12 12 12 12 12]\n",
      " [ 4 12 12  4 12 12  4 12 12]\n",
      " [12 12 12 12 12 12 12 12 12]\n",
      " [12 12 12 12 12 12 12 12 12]\n",
      " [ 4 12 12  4 12 12  4 12 12]\n",
      " [12 12 12 12 12 12 12 12 12]\n",
      " [12 12 12 12 12 12 12 12 12]]\n"
     ]
    }
   ],
   "source": [
    "print( catmap_cycles(9) )"
   ]
  },
  {
   "cell_type": "code",
   "execution_count": 29,
   "metadata": {},
   "outputs": [
    {
     "name": "stdout",
     "output_type": "stream",
     "text": [
      "[[ 1 30 10 30 10  3 10 30 10 30]\n",
      " [30 30 30  6 30 30 30 30  6 30]\n",
      " [10  6 10 30 10 30  2 30 10 30]\n",
      " [30 30 30 30  6 30 30 30 30  6]\n",
      " [10 30  2 30 10 30 10  6 10 30]\n",
      " [ 3 30 30 30 30  3 30 30 30 30]\n",
      " [10 30 10  6 10 30 10 30  2 30]\n",
      " [30  6 30 30 30 30  6 30 30 30]\n",
      " [10 30 10 30  2 30 10 30 10  6]\n",
      " [30 30  6 30 30 30 30  6 30 30]]\n"
     ]
    }
   ],
   "source": [
    "print( catmap_cycles(10) )"
   ]
  },
  {
   "cell_type": "markdown",
   "metadata": {},
   "source": [
    "The upper left corner (0,0) always has a limit cycle of 1.\n",
    "\n",
    "For the two cases N=9 and N=10 the lower right corner (N-1,N-1) always has the largest limit cycle.\n",
    "\n",
    "Numerical experiments confirm this pattern continues up to N=49.  This does *not* prove anything, but does suggest that it might be worth a closer look."
   ]
  },
  {
   "cell_type": "code",
   "execution_count": 30,
   "metadata": {},
   "outputs": [
    {
     "name": "stdout",
     "output_type": "stream",
     "text": [
      "2 [1 3] True\n",
      "3 [1 4] True\n",
      "4 [1 3] True\n",
      "5 [ 1  2 10] True\n",
      "6 [ 1  3  4 12] True\n",
      "7 [1 8] True\n",
      "8 [1 3 6] True\n",
      "9 [ 1  4 12] True\n",
      "10 [ 1  2  3  6 10 30] True\n",
      "11 [1 5] True\n",
      "12 [ 1  3  4 12] True\n",
      "13 [ 1 14] True\n",
      "14 [ 1  3  8 24] True\n",
      "15 [ 1  2  4 10 20] True\n",
      "16 [ 1  3  6 12] True\n",
      "17 [ 1 18] True\n",
      "18 [ 1  3  4 12] True\n",
      "19 [1 9] True\n",
      "20 [ 1  2  3  6 10 30] True\n",
      "21 [1 4 8] True\n",
      "22 [ 1  3  5 15] True\n",
      "23 [ 1 24] True\n",
      "24 [ 1  3  4  6 12] True\n",
      "25 [ 1  2 10 50] True\n",
      "26 [ 1  3 14 42] True\n",
      "27 [ 1  4 12 36] True\n",
      "28 [ 1  3  8 24] True\n",
      "29 [1 7] True\n",
      "30 [ 1  2  3  4  6 10 12 20 30 60] True\n",
      "31 [ 1 15] True\n",
      "32 [ 1  3  6 12 24] True\n",
      "33 [ 1  4  5 20] True\n",
      "34 [ 1  3 18] True\n",
      "35 [ 1  2  8 10 40] True\n",
      "36 [ 1  3  4 12] True\n",
      "37 [ 1 38] True\n",
      "38 [1 3 9] True\n",
      "39 [ 1  4 14 28] True\n",
      "40 [ 1  2  3  6 10 30] True\n",
      "41 [ 1 20] True\n",
      "42 [ 1  3  4  8 12 24] True\n",
      "43 [ 1 44] True\n",
      "44 [ 1  3  5 15] True\n",
      "45 [ 1  2  4 10 12 20 60] True\n",
      "46 [ 1  3 24] True\n",
      "47 [ 1 16] True\n",
      "48 [ 1  3  4  6 12] True\n",
      "49 [ 1  8 56] True\n",
      "50 [  1   2   3   6  10  30  50 150] True\n"
     ]
    }
   ],
   "source": [
    "for n in range(2,51):\n",
    "    test = catmap_cycles(n)\n",
    "    nunique = np.unique(test)\n",
    "    print(n, nunique, test[-1,-1]==nunique[-1] )"
   ]
  },
  {
   "cell_type": "code",
   "execution_count": 31,
   "metadata": {},
   "outputs": [
    {
     "data": {
      "text/plain": [
       "<matplotlib.image.AxesImage at 0x7f568634a7f0>"
      ]
     },
     "execution_count": 31,
     "metadata": {},
     "output_type": "execute_result"
    },
    {
     "data": {
      "image/png": "[encoded data removed]",
      "text/plain": [
       "<Figure size 432x288 with 1 Axes>"
      ]
     },
     "metadata": {},
     "output_type": "display_data"
    }
   ],
   "source": [
    "plt.imshow( catmap_cycles(50) )"
   ]
  },
  {
   "cell_type": "markdown",
   "metadata": {},
   "source": [
    "### timeit is not magic\n",
    "\n",
    "It can be very convenient to work interactively with the \"magic\" form of timeit \n",
    "\n",
    "    %timeit  do_something\n",
    "    \n",
    "but it can also be very tedious to gather results from different trials and compare them quantitatively.\n",
    "\n",
    "Loading the `timeit` package allows us to automate multiple timing runs."
   ]
  },
  {
   "cell_type": "code",
   "execution_count": 32,
   "metadata": {},
   "outputs": [
    {
     "name": "stdout",
     "output_type": "stream",
     "text": [
      "0.36908522504381835\n",
      "0.3798169519286603\n"
     ]
    }
   ],
   "source": [
    "import timeit as tmt\n",
    "\n",
    "t = tmt.timeit(stmt='math.factorial(52)', setup='import math')\n",
    "print(t)\n",
    "\n",
    "t = tmt.timeit(stmt='math.factorial(52)', globals=globals())\n",
    "print(t)"
   ]
  },
  {
   "cell_type": "code",
   "execution_count": 33,
   "metadata": {},
   "outputs": [
    {
     "name": "stdout",
     "output_type": "stream",
     "text": [
      "3\n"
     ]
    }
   ],
   "source": [
    "x = 3\n",
    "print( globals()['x'] )"
   ]
  }
 ],
 "metadata": {
  "kernelspec": {
   "display_name": "Python 3",
   "language": "python",
   "name": "python3"
  },
  "language_info": {
   "codemirror_mode": {
    "name": "ipython",
    "version": 3
   },
   "file_extension": ".py",
   "mimetype": "text/x-python",
   "name": "python",
   "nbconvert_exporter": "python",
   "pygments_lexer": "ipython3",
   "version": "3.6.5"
  }
 },
 "nbformat": 4,
 "nbformat_minor": 2
}
