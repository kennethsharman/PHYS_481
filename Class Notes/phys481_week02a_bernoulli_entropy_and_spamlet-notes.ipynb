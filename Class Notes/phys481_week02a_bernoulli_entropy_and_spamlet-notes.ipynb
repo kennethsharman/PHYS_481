{
 "cells": [
  {
   "cell_type": "markdown",
   "metadata": {},
   "source": [
    "# Bernoulli, entropy and spamlet  \n",
    "## PHYS 481 Week 2"
   ]
  },
  {
   "cell_type": "code",
   "execution_count": 1,
   "metadata": {},
   "outputs": [],
   "source": [
    "# load modules for math and plotting\n",
    "import numpy as np\n",
    "import matplotlib.pyplot as plt\n",
    "%matplotlib inline"
   ]
  },
  {
   "cell_type": "markdown",
   "metadata": {},
   "source": [
    "## Probability\n",
    "\n",
    "A random Bernoulli (binary) process has only two possible outcomes; these are often labelled as True | False or 0 | 1.\n",
    "One well-known example of such a process is flipping a coin to obtain either heads (H) or tails (T).\n",
    "The probability of getting a given outcome $i$ is usually represented as $p_i$.  By definition,\n",
    "the total probability of all possible outcomes must add up to one\n",
    "\n",
    " $$ \\sum p_i = p_H + p_T = 1 $$\n",
    "\n",
    "In other words: only one outcome can occur, and one outcome must occur.  \n",
    "\n",
    "For a perfectly \"fair\" coin the probabilities are equal\n",
    "\n",
    " $$ p_H = p_T = 0.5 $$"
   ]
  },
  {
   "cell_type": "markdown",
   "metadata": {},
   "source": [
    "## numpy.random\n",
    "\n",
    "Many useful tools for generating random numbers are located in the \"numpy.random\" module.  This can be loaded independently\n",
    "\n",
    "      import numpy.random as nprand\n",
    "    \n",
    "or used as part of numpy.  For example, we can generate 9 random numbers that should be distributed uniformly between 0 (inclusive) and 1.0 (exclusive)."
   ]
  },
  {
   "cell_type": "code",
   "execution_count": 2,
   "metadata": {},
   "outputs": [
    {
     "data": {
      "text/plain": [
       "array([0.65689387, 0.06807591, 0.97263168, 0.86756959, 0.15221386,\n",
       "       0.32433569, 0.61818468, 0.99828505, 0.85114436])"
      ]
     },
     "execution_count": 2,
     "metadata": {},
     "output_type": "execute_result"
    }
   ],
   "source": [
    "# Create an array of the given shape and populate it with \n",
    "#random samples from a uniform distribution over [0, 1).\n",
    "np.random.rand(9)"
   ]
  },
  {
   "cell_type": "markdown",
   "metadata": {},
   "source": [
    "Other distributions (ie. binomial, Gaussian) can be simulated by starting with a uniform distribution and applying an appropriate transformation of variables.  The numpy.random module also includes many convenient routines for obtaining random numbers from many useful distributions.   Although the Bernoulli distribution is not provided explicitly, there are several methods which can be used to produce binary random numbers.\n",
    "\n",
    "One approach is to start with floating point uniform random values and map them onto 0 and 1 as follows"
   ]
  },
  {
   "cell_type": "code",
   "execution_count": 3,
   "metadata": {},
   "outputs": [
    {
     "name": "stdout",
     "output_type": "stream",
     "text": [
      "[False False  True False  True  True  True False False]\n"
     ]
    }
   ],
   "source": [
    "print( np.random.rand(9) > 0.5 )"
   ]
  },
  {
   "cell_type": "markdown",
   "metadata": {},
   "source": [
    "### Discussion\n",
    "Should we instead use a slightly different comparison operator?"
   ]
  },
  {
   "cell_type": "code",
   "execution_count": 4,
   "metadata": {},
   "outputs": [
    {
     "name": "stdout",
     "output_type": "stream",
     "text": [
      "[ True False False False  True  True  True False  True]\n"
     ]
    }
   ],
   "source": [
    "print( np.random.rand(9) >= 0.5 )"
   ]
  },
  {
   "cell_type": "markdown",
   "metadata": {},
   "source": [
    "Another approach is to use the \"randint\" function.  Remember that information about python modules and functions can be found in several different ways eg.\n",
    "\n",
    "    help(numpy.randint)\n",
    "    ?(numpy.randint)\n",
    "    dir(numpy.randint)\n",
    "\n",
    "        Help on package numpy.random in numpy:\n",
    "\n",
    "        NAME\n",
    "            numpy.random\n",
    "\n",
    "        DESCRIPTION\n",
    "            ========================\n",
    "            Random Number Generation\n",
    "            ========================"
   ]
  },
  {
   "cell_type": "code",
   "execution_count": 5,
   "metadata": {},
   "outputs": [
    {
     "name": "stdout",
     "output_type": "stream",
     "text": [
      "[0 0 0 0 0 0 0 0 0] <==== only zeros\n",
      "[1 0 1 1 1 1 0 1 1]\n",
      "[1 1 0 1 1 0 1 1 1]\n"
     ]
    }
   ],
   "source": [
    "#Return random integers from `low` (inclusive) to `high` (exclusive).\n",
    "\n",
    "# Calling \"randint\" with low=0 and high=1 does not produce a random\n",
    "# sequence of 1's and 0's.\n",
    "#\n",
    "print( np.random.randint(low=0, high=1, size=9 ), '<==== only zeros' )\n",
    "\n",
    "# Instead, the function is written to follow the python convention\n",
    "# where the upper limit is excluded.\n",
    "#\n",
    "print( np.random.randint(low=0, high=2, size=9 ) )\n",
    "\n",
    "#\n",
    "#\n",
    "print( np.random.randint(2, size=9 ) )"
   ]
  },
  {
   "cell_type": "markdown",
   "metadata": {},
   "source": [
    "I think a case could be made that this calling convention violates the \"Principle of Least Astonishment\"\n",
    "\n",
    "      https://en.wikipedia.org/wiki/Principle_of_least_astonishment\n",
    "\n",
    "which is basically that a system should behave in a manner consistent with how users are likely to expect it to behave; that is, users should not be astonished at the way it behaves.\n",
    "\n",
    "On the other hand, one could also argue that the exclusive upper bound is very pythonic.  Also note that other languages also use the exclusive upper bound ie.\n",
    "\n",
    "      https://stackoverflow.com/questions/363681/how-do-i-generate-random-integers-within-a-specific-range-in-java?rq=1\n",
    "\n",
    "\n",
    "In Java 1.7 or later, the standard way to do this is as follows:\n",
    "\n",
    "import java.util.concurrent.ThreadLocalRandom;\n",
    "\n",
    "    // nextInt is normally exclusive of the top value,\n",
    "    // so add 1 to make it inclusive\n",
    "    int randomNum = ThreadLocalRandom.current().nextInt(min, max + 1);"
   ]
  },
  {
   "cell_type": "markdown",
   "metadata": {},
   "source": [
    "Conclusion: ensure that your expectations are consistent with your tools.\n",
    "\n",
    "Note: There is a numpy.random.random_integers function that behaves the other way.  Sadly, it appears to be deprecated and may not be supported in future versions of numpy."
   ]
  },
  {
   "cell_type": "code",
   "execution_count": 6,
   "metadata": {},
   "outputs": [
    {
     "name": "stdout",
     "output_type": "stream",
     "text": [
      "[1 1 1 0 0 0 1 0 1]\n"
     ]
    },
    {
     "name": "stderr",
     "output_type": "stream",
     "text": [
      "C:\\Users\\kenne\\Miniconda3\\lib\\site-packages\\ipykernel_launcher.py:2: DeprecationWarning: This function is deprecated. Please call randint(0, 1 + 1) instead\n",
      "  \n"
     ]
    }
   ],
   "source": [
    "# Return random integers of type np.int from the “discrete uniform” distribution in the closed interval [low, high]\n",
    "print( np.random.random_integers(low=0, high=1, size=9 ) )"
   ]
  },
  {
   "cell_type": "markdown",
   "metadata": {},
   "source": [
    "Perhaps the best alternative is provided by numpy.random.choice which has a clear calling convention and can be used for more general applications."
   ]
  },
  {
   "cell_type": "code",
   "execution_count": 7,
   "metadata": {},
   "outputs": [
    {
     "name": "stdout",
     "output_type": "stream",
     "text": [
      "[1 1 1 0 1 0 0 1 1]\n",
      "['maybe' 'maybe' 'yes' 'yes' 'yes' 'maybe' 'yes' 'maybe' 'maybe']\n"
     ]
    }
   ],
   "source": [
    "print( np.random.choice([0,1], size=9, p=[0.5, 0.5] ) )\n",
    "print( np.random.choice(['yes', 'maybe', 'no'], size=9, p=[0.25, 0.5, 0.25] ) )"
   ]
  },
  {
   "cell_type": "markdown",
   "metadata": {},
   "source": [
    "## Entropy and Information\n",
    "\n",
    "A sequence of numbers may be considered random if each successive observation is ``surprising'' or communicates additional information beyond what the previous ones provided.  After seeing the first few symbols (values) in this sequence\n",
    " $$\\{0,0,0,0,0,0,0,0 \\ldots\\}$$\n",
    "we can easily guess the next one, but this sequence\n",
    " $$\\{0,1,0,0,1,1,0,1 \\ldots\\}$$\n",
    "is apparently unpredictable.\n",
    "\n",
    "A quantitative definition of entropy introduced by Shannon[1948]\n",
    "$$  H = -\\sum_{i=1}^n p_i \\; log{p_i} $$\n",
    "has a familiar physical analog in statistical mechanics and allows us to determine the maximum amount of information that can be transmitted over a noisy digital communication channel.\n",
    "\n"
   ]
  },
  {
   "cell_type": "markdown",
   "metadata": {},
   "source": [
    "### Gibbs entropy formula\n",
    "\n",
    "    https://en.wikipedia.org/wiki/Entropy_(statistical_thermodynamics)\n",
    "    \n",
    "The macroscopic state of a system is characterized by a distribution on the microstates. The entropy of this distribution is given by the Gibbs entropy formula, named after J. Willard Gibbs. For a classical system (i.e., a collection of classical particles) with a discrete set of microstates, if $E_{i}$ is the energy of microstate i, and $p_{i}$ is the probability that it occurs during the system's fluctuations, then the entropy of the system is\n",
    "\n",
    "$$S=-k_{{\\text{B}}}\\,\\sum _{i}p_{i}\\ln \\,p_{i}$$\n",
    "\n",
    "This S is almost universally called simply the entropy. It can also be called the statistical entropy or the thermodynamic entropy without changing the meaning. Note the above expression of the statistical entropy is a discretized version of Shannon entropy. The von Neumann entropy formula is an extension of the Gibbs entropy formula to the quantum mechanical case."
   ]
  },
  {
   "cell_type": "markdown",
   "metadata": {},
   "source": [
    "The logarithm is often taken with base 2\n",
    "$$  H = -\\sum_{i=1}^n p_i \\; log_2{p_i} = -\\frac{1}{\\ln 2} \\,\\sum_{i=1}^n p_i \\; \\ln{p_i} $$\n",
    "to produce a result in terms of bits per symbol. Some properties of the entropy are\n",
    "\n",
    "1) $H(p_1,\\ldots,p_N)$ is a concave function of the $p_i$. \n",
    "\n",
    "2) for a given $N$, the uniform distribution $p_i=1/N$ has the maximum entropy $H$. \n",
    "\n",
    "3) $H(p_1,\\ldots,p_N)$ is zero if and only if one of the $p_i=1$.  In other words, if there is only one possible outcome then there is no new information provided by observing that event. \n",
    "\n",
    "\n",
    "A Bernoulli (binary) process has two discrete outcomes (eg. true and false) that occur with probability $p$ and $q=1-p$.  The entropy of this process\n",
    "\n",
    "$$  H(p) = -p\\,\\log(p) - q\\,\\log(q) = -p\\,\\log(p) - (1-p)\\,\\log(1-p) $$\n",
    "has a maximum of 1 bit per outcome\n",
    "\n",
    " $$  {{\\partial H(p)}\\over{\\partial p}} = -\\left[ \\log p + {p \\over p} - \\log[1-p] - {{1-p}\\over{1-p}} \\right] \n",
    "  = -\\log p + \\log(1-p) = 0 $$\n",
    "\n",
    "$$  \\exp\\left(\\log p\\right) = \\exp\\left(\\log(1-p)\\right)  \\qquad\\Rightarrow\\qquad p=1-p $$\n",
    "\n",
    "at $p=q=0.5$ where the outcome of this system is least predictable.  As shown in the following example the entropy is zero at the endpoints $p=q=0$ where the outcome is totally predictable."
   ]
  },
  {
   "cell_type": "code",
   "execution_count": 8,
   "metadata": {},
   "outputs": [
    {
     "name": "stderr",
     "output_type": "stream",
     "text": [
      "C:\\Users\\kenne\\Miniconda3\\lib\\site-packages\\ipykernel_launcher.py:5: RuntimeWarning: divide by zero encountered in log\n",
      "  \"\"\"\n",
      "C:\\Users\\kenne\\Miniconda3\\lib\\site-packages\\ipykernel_launcher.py:5: RuntimeWarning: invalid value encountered in multiply\n",
      "  \"\"\"\n"
     ]
    },
    {
     "data": {
      "text/plain": [
       "Text(0.5,1,'Bernoulli process')"
      ]
     },
     "execution_count": 8,
     "metadata": {},
     "output_type": "execute_result"
    },
    {
     "data": {
      "image/png": "[encoded data removed]",
      "text/plain": [
       "<Figure size 432x288 with 1 Axes>"
      ]
     },
     "metadata": {
      "needs_background": "light"
     },
     "output_type": "display_data"
    }
   ],
   "source": [
    "import numpy as np\n",
    "import matplotlib.pyplot as plt\n",
    "%matplotlib inline\n",
    "p = np.arange(0.00, 1.00, 0.001)\n",
    "H = -p*np.log(p) - (1-p)*np.log(1-p)\n",
    "plt.plot(p,H/np.log(2.0))\n",
    "plt.xlabel('probability')\n",
    "plt.ylabel('Entropy  [bits]')\n",
    "plt.title('Bernoulli process')"
   ]
  },
  {
   "cell_type": "markdown",
   "metadata": {},
   "source": [
    "## Monkey Shakespeare\n",
    "\n",
    "<img src=\"http://static02.mediaite.com/themarysue/uploads//2014/04/19580483_af3de93fca_o.jpg\">\n",
    "\n",
    "https://en.wikipedia.org/wiki/Infinite_monkey_theorem\n",
    "\n",
    "The infinite monkey theorem states that a monkey hitting keys at random on a typewriter keyboard for an infinite amount of time will almost surely type a given text, such as the complete works of William Shakespeare. In fact the monkey would almost surely type every possible finite text an infinite number of times. However, the probability of a universe full of monkeys typing a complete work such as Shakespeare's Hamlet is so tiny that the chance of it occurring during a period of time hundreds of thousands of orders of magnitude longer than the age of the universe is extremely low (but technically not zero).\n",
    "\n",
    "In this context, \"almost surely\" is a mathematical term with a precise meaning, and the \"monkey\" is not an actual monkey, but a metaphor for an abstract device that produces an endless random sequence of letters and symbols. One of the earliest instances of the use of the \"monkey metaphor\" is that of French mathematician Émile Borel in 1913,[1] but the first instance may be even earlier.\n",
    "\n",
    "Variants of the theorem include multiple and even infinitely many typists, and the target text varies between an entire library and a single sentence. Jorge Luis Borges traced the history of this idea from Aristotle's On Generation and Corruption and Cicero's De natura deorum (On the Nature of the Gods), through Blaise Pascal and Jonathan Swift, up to modern statements with their iconic simians and typewriters. In the early 20th century, Borel and Arthur Eddington used the theorem to illustrate the timescales implicit in the foundations of statistical mechanics.\n",
    "\n",
    "\n",
    "<img src=\"http://minnov8.com/site/wp-content/uploads/2013/11/monkey-cartoon.jpg\">"
   ]
  },
  {
   "cell_type": "code",
   "execution_count": 9,
   "metadata": {},
   "outputs": [
    {
     "name": "stdout",
     "output_type": "stream",
     "text": [
      "Full quote:  To be, or not to be? That is the question—\n",
      "TYPE OF FULL_QUOTE: <class 'str'>\n",
      "Simplified quote:  to be or not to be that is the question\n",
      "Length of simplified quote:  39\n",
      "Unique characters:   abehinoqrstu\n",
      "Number of unique characters:  13\n",
      "Number of 13 character combinations of 27 characters:  4052555153018976267\n",
      "Probability of typing \"to be...\" at random:  2.4675790019909876e-19\n",
      "Entropy [bits per key] 4.754887502163469\n"
     ]
    }
   ],
   "source": [
    "# Start with the classic quote,\n",
    "#\n",
    "full_quote = 'To be, or not to be? That is the question—'\n",
    "print('Full quote: ',full_quote)\n",
    "print('TYPE OF FULL_QUOTE:', type(full_quote))\n",
    "\n",
    "# Simplify by stripping punctuation and converting to lower case.\n",
    "charlist = [c.lower() for c in full_quote if c.isalpha() or c==' ']\n",
    "print('Simplified quote: ', ''.join(charlist) )\n",
    "print('Length of simplified quote: ', len(charlist) )\n",
    "\n",
    "# Get a list of the unique characters along with \"lookup\" index\n",
    "# where each element points to the corresponding unique character.\n",
    "#\n",
    "uchars, uindx, ucounts= np.unique(charlist, return_inverse=True, return_counts=True)\n",
    "print('Unique characters: ', ''.join( uchars ) )\n",
    "print('Number of unique characters: ', len(uchars) )\n",
    "\n",
    "print('Number of 13 character combinations of 27 characters: ', 27**13)\n",
    "print('Probability of typing \"to be...\" at random: ', 27**-13)\n",
    "\n",
    "\"\"\"\n",
    "What is the entropy (in bits per symbol) for a uniform 27-key typewriter?\n",
    "\"\"\"\n",
    "p27 = 1.0/27.0 * np.ones(27)\n",
    "print('Entropy [bits per key]', -np.sum(np.log(p27) * p27 )/ np.log(2) )"
   ]
  },
  {
   "cell_type": "code",
   "execution_count": 12,
   "metadata": {},
   "outputs": [],
   "source": [
    "# So how long will it take a monkey to type Hamlet?\n",
    "\n",
    "# Don't pull the same file every time!\n",
    "#\n",
    "import urllib.request\n",
    "url = r'http://www.gutenberg.org/files/1524/1524-0.txt'\n",
    "bytedata = urllib.request.urlopen( url ).read()\n",
    "\n",
    "# Get a local copy with browser or \"wget\" command."
   ]
  },
  {
   "cell_type": "code",
   "execution_count": 13,
   "metadata": {},
   "outputs": [
    {
     "name": "stdout",
     "output_type": "stream",
     "text": [
      "roject Gutenberg EBook of Hamlet, by William Shakespeare\r\n",
      "\r\n",
      "This eBook is for the use of anyone \n"
     ]
    }
   ],
   "source": [
    "# Note that the file contains a preamble about the text (metadata).\n",
    "# A more careful analysis might remove all this, but for simplicity \n",
    "# we will ignore this detail.\n",
    "#\n",
    "#bytedata[0:9].decode('ascii')\n",
    "print( bytedata[3:99].decode('ascii') )"
   ]
  },
  {
   "cell_type": "code",
   "execution_count": 21,
   "metadata": {},
   "outputs": [
    {
     "name": "stdout",
     "output_type": "stream",
     "text": [
      "<class 'bytes'>\n"
     ]
    }
   ],
   "source": [
    "import urllib.request\n",
    "url = r'http://www.gutenberg.org/cache/epub/1524/pg1524.txt'\n",
    "url = r'http://www.gutenberg.org/files/1524/1524-0.txt'\n",
    "with urllib.request.urlopen( url ) as response:\n",
    "    data = response.read()\n",
    "print(type(data))\n",
    "#print(html) #html.decode()"
   ]
  },
  {
   "cell_type": "code",
   "execution_count": 22,
   "metadata": {},
   "outputs": [
    {
     "name": "stdout",
     "output_type": "stream",
     "text": [
      "Length of simplified Hamlet:  181758\n",
      "data1 \r\n",
      "type <class 'list'>\n",
      "{'p': 2461, 'r': 9139, 'o': 12856, 'j': 200, 'e': 17565, 'c': 3410, 't': 14065, ' ': 31747, 'g': 2849, 'u': 4983, 'n': 9739, 'b': 2110, 'k': 1415, 'f': 3124, 'h': 9245, 'a': 11324, 'm': 4644, 'l': 6862, 'y': 3554, 'w': 3425, 'i': 10005, 's': 9449, 'd': 5675, 'v': 1347, 'x': 206, 'æ': 1, 'q': 230, 'z': 127, 'à': 1}\n"
     ]
    }
   ],
   "source": [
    "# Change bytes to characters\n",
    "# +ignore the first 4 \"magic\" bytes (file type)\n",
    "# +ignore everything except a-z and spaces\n",
    "# +change all letters to lower case\n",
    "data = bytedata.decode() #'utf-8')\n",
    "charlist = [c.lower() for c in data if c.isalpha() or c==' ']\n",
    "print('Length of simplified Hamlet: ', len(charlist) )\n",
    "print('data1', data[0])\n",
    "print('type', type(charlist))\n",
    "\n",
    "# This is one way to count how many times each letter occurs.\n",
    "# Using numpy might be faster, but this is easy to understand.\n",
    "#\n",
    "catalog = {}\n",
    "for symbol in charlist:\n",
    "    \n",
    "    if symbol in catalog:\n",
    "        catalog[symbol] += 1  #increment\n",
    "    else:\n",
    "        catalog[symbol] = 1  # initialize\n",
    "        \n",
    "print( catalog ) "
   ]
  },
  {
   "cell_type": "markdown",
   "metadata": {},
   "source": [
    "### Question \\#1: what is the entropy of \"simplified Hamlet\" (Spamlet)?\n",
    "    \n",
    "### Question \\#2: what is the probability that a monkey with a uniform random selection of 27-keys would produce Spamlet?  In other words, how many different sequences with 167774 characters are there?\n",
    "\n",
    "$$ 27^{167774} $$\n",
    "\n",
    "### Question \\#3: how does the probability change if the chance of hitting any given key was not 1/27, but the same as the distribution of Spamlet?\n",
    "\n",
    "### Question \\#4: determine the joint probability of each 2-key sequence eg. 'aa', 'ab', 'ac' from Spamlet.  How does the probability of producing Spamlet change if the monkey hits keys according to this distribution?\n",
    "\n",
    "### Question \\#5: write a program to generate sequences of text that sound somewhat like Shakespeare.  See for inspiration http://www.elsewhere.org/journal/pomo/ "
   ]
  },
  {
   "cell_type": "code",
   "execution_count": null,
   "metadata": {},
   "outputs": [],
   "source": [
    "random_seed = np.random.seed(seed=1)\n",
    "print( random_seed )\n",
    "print( np.random.choice([0,1], size=9, p=[0.5, 0.5] ) )\n",
    "print( np.random.choice([0,1], size=9, p=[0.5, 0.5] ) )\n",
    "\n",
    "np.random.seed(seed=1)\n",
    "print( np.random.choice([0,1], size=9, p=[0.5, 0.5] ) )"
   ]
  },
  {
   "cell_type": "markdown",
   "metadata": {},
   "source": [
    "Biggest entropy when the system is more random\n",
    "\n",
    "If always heads the entropy is zero\n",
    "\n",
    "#3 for example hitting e, i \n",
    "\n",
    "Consider words rather than just letters. for example prob of getting 'be' after 'to'\n",
    "\n"
   ]
  },
  {
   "cell_type": "markdown",
   "metadata": {},
   "source": []
  },
  {
   "cell_type": "code",
   "execution_count": 1,
   "metadata": {},
   "outputs": [],
   "source": [
    "# fit a polynomial model and an expoential model\n",
    "# plot square --> if straight line"
   ]
  },
  {
   "cell_type": "code",
   "execution_count": null,
   "metadata": {},
   "outputs": [],
   "source": []
  }
 ],
 "metadata": {
  "anaconda-cloud": {},
  "kernelspec": {
   "display_name": "Python 3",
   "language": "python",
   "name": "python3"
  },
  "language_info": {
   "codemirror_mode": {
    "name": "ipython",
    "version": 3
   },
   "file_extension": ".py",
   "mimetype": "text/x-python",
   "name": "python",
   "nbconvert_exporter": "python",
   "pygments_lexer": "ipython3",
   "version": "3.6.3"
  }
 },
 "nbformat": 4,
 "nbformat_minor": 1
}
