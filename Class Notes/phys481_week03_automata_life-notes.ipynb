{
 "cells": [
  {
   "cell_type": "markdown",
   "metadata": {},
   "source": [
    "# Automata and Life\n",
    "Physics 481 Fall 2017 Week 3\n",
    "\n",
    "au·tom·a·ton\n",
    "ôˈtämədən,ôˈtäməˌtän\n",
    "noun\n",
    "plural noun: automata\n",
    "\n",
    " +a moving mechanical device made in imitation of a human being.\n",
    "synonyms:\trobot, android, cyborg, droid, bot\n",
    "\"assembly-line automatons\"\n",
    "\n",
    " +a machine that performs a function according to a predetermined set of coded instructions, especially one capable of a range of programmed responses to different circumstances.\n",
    "used in similes and comparisons to refer to a person who seems to act in a mechanical or unemotional way."
   ]
  },
  {
   "cell_type": "markdown",
   "metadata": {},
   "source": [
    "## Cellular automata\n",
    "\n",
    "Read at least the first link:\n",
    "\n",
    "    https://en.wikipedia.org/wiki/Cellular_automaton\n",
    "\n",
    "    http://natureofcode.com/book/chapter-7-cellular-automata\n",
    "    \n",
    "    https://en.wikipedia.org/wiki/Finite-state_machine    \n",
    "\n",
    "    https://plato.stanford.edu/entries/cellular-automata/index.html\n",
    "\n",
    "\n",
    "in order to understand how to calculate and classify basic 1-dimensional automata.\n",
    "\n",
    "Write a program to generate a sequence for $N=64$ grid cells and an arbitrary rule eg.\n",
    "\n",
    "    ncells = 64\n",
    "    state = np.zeros(ncells, dtype=np.int8 ) \n",
    "    state[ncells//2] = 1  # initialize one cell near the middle\n",
    "  \n",
    "    nsteps = 999\n",
    "    for i in range(1,nsteps):\n",
    "        state = cellular_step( state, rule=18)\n",
    "\n",
    "Determine which 5 rules appear to be most random by estimating steady-state entropy after many steps.\n",
    "\n",
    "Write a function to generate a pseudorandom sequence 64-bit integer based on a cellular automaton using the highest entropy rule.\n",
    "  \n",
    "Optional: read more about other examples and applications of cellular automata:  \n",
    "  \n",
    "    https://en.wikipedia.org/wiki/Nagel%E2%80%93Schreckenberg_model\n",
    "  \n",
    "    http://mathworld.wolfram.com/WireWorld.html  \n",
    "  \n",
    "  "
   ]
  },
  {
   "cell_type": "code",
   "execution_count": 2,
   "metadata": {},
   "outputs": [],
   "source": [
    "import numpy as np\n",
    "import matplotlib.pyplot as plt\n",
    "%matplotlib inline\n",
    "\n"
   ]
  },
  {
   "cell_type": "markdown",
   "metadata": {},
   "source": [
    "### decimal to binary\n",
    "\n",
    "There are several different ways of converting a decimal integer into a binary value.  Perhaps the most obvious is \"np.unpackbits\" which returns a list of 0's and 1's.  The \"np.binary_repr\" function returns a string, as does \"str.format\" and the built-in \"bin\" function (although more work may be required to ensure leading 0's).\n",
    "\n",
    "In the unlikely event that this operation is a computational bottleneck, we should probably use the \"bin\" method.  \n",
    "\n",
    "Note: converting a string to a list of individual characters can be done with something like this:\n",
    "\n",
    "        blist = []*len(s)\n",
    "        for i,b in enumerate(s):\n",
    "            blist[-i] = b\n",
    "\n",
    "or:\n",
    "\n",
    "        blist = []\n",
    "        for b in s[::-1]:\n",
    "            blist.append(b)\n",
    "\n",
    "or:\n",
    "\n",
    "        blist = [b for b in s][::-1] "
   ]
  },
  {
   "cell_type": "code",
   "execution_count": 3,
   "metadata": {},
   "outputs": [
    {
     "name": "stdout",
     "output_type": "stream",
     "text": [
      "[0 1 1 0 1 1 1 0]\n",
      "425 µs ± 3.28 µs per loop (mean ± std. dev. of 7 runs, 1000 loops each)\n"
     ]
    }
   ],
   "source": [
    "rule_number = 110\n",
    "dec2bin = lambda x: np.unpackbits( np.uint8(x) )\n",
    "print( dec2bin(rule_number) ) \n",
    "#%timeit [dec2bin(rule_number) for rule_number in range(256)]"
   ]
  },
  {
   "cell_type": "code",
   "execution_count": 4,
   "metadata": {},
   "outputs": [
    {
     "name": "stdout",
     "output_type": "stream",
     "text": [
      "01101110\n",
      "262 µs ± 6.1 µs per loop (mean ± std. dev. of 7 runs, 1000 loops each)\n"
     ]
    }
   ],
   "source": [
    "dec2bin = lambda x: np.binary_repr(x, width=8)\n",
    "print( dec2bin(rule_number) ) \n",
    "#%timeit [dec2bin(rule_number) for rule_number in range(256)]"
   ]
  },
  {
   "cell_type": "code",
   "execution_count": 5,
   "metadata": {},
   "outputs": [
    {
     "name": "stdout",
     "output_type": "stream",
     "text": [
      "01101110\n",
      "115 µs ± 1.95 µs per loop (mean ± std. dev. of 7 runs, 10000 loops each)\n"
     ]
    }
   ],
   "source": [
    "dec2bin = lambda x: '{:08b}'.format(x)\n",
    "print( dec2bin(rule_number) ) \n",
    "#%timeit [dec2bin(rule_number) for rule_number in range(256)]"
   ]
  },
  {
   "cell_type": "code",
   "execution_count": 6,
   "metadata": {},
   "outputs": [
    {
     "name": "stdout",
     "output_type": "stream",
     "text": [
      "0b1101110\n",
      "49.9 µs ± 2.26 µs per loop (mean ± std. dev. of 7 runs, 10000 loops each)\n"
     ]
    }
   ],
   "source": [
    "dec2bin = lambda x:  bin(rule_number)\n",
    "print( dec2bin(rule_number) ) \n",
    "#%timeit [dec2bin(rule_number) for rule_number in range(256)]"
   ]
  },
  {
   "cell_type": "code",
   "execution_count": 7,
   "metadata": {},
   "outputs": [
    {
     "name": "stdout",
     "output_type": "stream",
     "text": [
      "01101110\n",
      "103 µs ± 2.84 µs per loop (mean ± std. dev. of 7 runs, 10000 loops each)\n"
     ]
    }
   ],
   "source": [
    "dec2bin = lambda x:  bin(rule_number)[2:].zfill(8)\n",
    "print( dec2bin(rule_number) ) \n",
    "#%timeit [dec2bin(rule_number) for rule_number in range(256)]"
   ]
  },
  {
   "cell_type": "markdown",
   "metadata": {},
   "source": [
    "### 3-bit lookup\n",
    "\n",
    "A 1-dimensional CA requires that we use 3-bits (left,middle,right) to look up the result for a given rule.\n",
    "\n",
    "One way is to use a \"dict\" indexed by a tuple containing the three bits.  Another would be to convert the tuple into an integer in the range 0-7 and use that to index a list. The simplest and fastest approach is based on numpy array indexing, which is discussed in more detail below."
   ]
  },
  {
   "cell_type": "code",
   "execution_count": 9,
   "metadata": {},
   "outputs": [
    {
     "name": "stdout",
     "output_type": "stream",
     "text": [
      "[0 1 1 0 1 1 1 0]\n",
      "602 ns ± 9.46 ns per loop (mean ± std. dev. of 7 runs, 1000000 loops each)\n",
      "[0, 1, 1, 0, 1, 1, 1, 0]\n"
     ]
    }
   ],
   "source": [
    "blist = np.unpackbits( np.uint8(rule_number) )\n",
    "print(blist)\n",
    "\n",
    "truple = [(0,0,0), (0,0,1), (0,1,0), (0,1,1), (1,0,0), (1,0,1), (1,1,0), (1,1,1)]\n",
    "\n",
    "# we can generate an index to go with each value of a loop\n",
    "#\n",
    "lookup_dict = {}\n",
    "for indx,lmr in zip(range(8),truple):\n",
    "    lookup_dict[lmr] = blist[indx]\n",
    "\n",
    "# or use enumerate to do the same thing automatically\n",
    "#\n",
    "lookup_dict = {}\n",
    "for indx,lmr in enumerate(truple):\n",
    "    lookup_dict[lmr] = blist[indx]\n",
    "\n",
    "\n",
    "%timeit x = [ lookup_dict[i] for i in truple]\n",
    "print([ lookup_dict[i] for i in truple] )"
   ]
  },
  {
   "cell_type": "code",
   "execution_count": 11,
   "metadata": {},
   "outputs": [
    {
     "name": "stdout",
     "output_type": "stream",
     "text": [
      "848 ns ± 43.5 ns per loop (mean ± std. dev. of 7 runs, 1000000 loops each)\n"
     ]
    }
   ],
   "source": [
    "blist = np.unpackbits( np.uint8(rule_number) )\n",
    "\n",
    "lookup_list = [None]*8\n",
    "for indx in range(8):\n",
    "    lookup_list[indx] = blist[indx]\n",
    "    \n",
    "%timeit [lookup_list[i] for i in range(8)]"
   ]
  },
  {
   "cell_type": "code",
   "execution_count": 12,
   "metadata": {},
   "outputs": [
    {
     "name": "stdout",
     "output_type": "stream",
     "text": [
      "2.51 µs ± 220 ns per loop (mean ± std. dev. of 7 runs, 100000 loops each)\n",
      "2.43 µs ± 30.3 ns per loop (mean ± std. dev. of 7 runs, 100000 loops each)\n",
      "1.01 µs ± 44.2 ns per loop (mean ± std. dev. of 7 runs, 1000000 loops each)\n"
     ]
    }
   ],
   "source": [
    "blist = np.unpackbits( np.uint8(rule_number) )\n",
    "lookup_array = np.array( blist, dtype=np.uint8 )\n",
    "indx = np.arange(8,dtype=np.int)\n",
    "\n",
    "%timeit x = [blist[i] for i in indx]\n",
    "%timeit x = [lookup_array[i] for i in indx]\n",
    "%timeit x = lookup_array[indx]"
   ]
  },
  {
   "cell_type": "markdown",
   "metadata": {},
   "source": [
    "### numpy array indexing\n",
    "\n",
    "We can select individual elements from a list, or a range of elements\n",
    "\n",
    "    list( [1,2,3,3] ) [1:3]\n",
    "    \n",
    "The same is true for Numpy arrays.  However, there are other ways to select elements.  A list or array of index values will result in a new array that is the same size as the index.  Each element will be the corresponding element of the original array. "
   ]
  },
  {
   "cell_type": "code",
   "execution_count": 13,
   "metadata": {},
   "outputs": [
    {
     "name": "stdout",
     "output_type": "stream",
     "text": [
      "range(0, 9)\n",
      "0\n",
      "[0 1 2 3 4 5 6 7 8]\n",
      "0\n",
      "[0 2]\n",
      "[0 2 6 7]\n",
      "[0 2 0 4 0 6 0 8]\n"
     ]
    }
   ],
   "source": [
    "x = range(9) ; print(x)\n",
    "print(x[0])\n",
    "# print(x[0,2])\n",
    "# print(x[ [0,2] ])\n",
    "\n",
    "x = np.array(range(9)) ; print(x)\n",
    "print(x[0])\n",
    "#print(x[0,2])\n",
    "print(x[ [0,2] ])\n",
    "print(x[ [0,2,6,7] ])\n",
    "print(x[ [0,2,0,4,0,6,0,8] ])"
   ]
  },
  {
   "cell_type": "markdown",
   "metadata": {},
   "source": [
    "## Example cellular_step"
   ]
  },
  {
   "cell_type": "code",
   "execution_count": 14,
   "metadata": {},
   "outputs": [],
   "source": [
    "def cellular_step(value, rule_number=110):\n",
    "    \n",
    "    lookup = np.unpackbits( np.uint8(rule_number) )[::-1]\n",
    "    triple = np.roll(value,+1)*4 + value*2 + np.roll(value,-1)\n",
    "    \n",
    "    return lookup[triple]"
   ]
  },
  {
   "cell_type": "code",
   "execution_count": 15,
   "metadata": {},
   "outputs": [
    {
     "data": {
      "text/plain": [
       "<matplotlib.image.AxesImage at 0x183df0b98d0>"
      ]
     },
     "execution_count": 15,
     "metadata": {},
     "output_type": "execute_result"
    },
    {
     "data": {
      "image/png": "[encoded data removed]",
      "text/plain": [
       "<Figure size 432x288 with 1 Axes>"
      ]
     },
     "metadata": {
      "needs_background": "light"
     },
     "output_type": "display_data"
    }
   ],
   "source": [
    "value = np.zeros(320, dtype=np.int8)\n",
    "value[ len(value)//2 ] = 1\n",
    "\n",
    "nsteps = 360\n",
    "grid = np.ndarray( [nsteps, len(value)], dtype=np.int8)\n",
    "for n in range(nsteps):\n",
    "    value = cellular_step(value, rule_number=60)\n",
    "    grid[n,:] = value\n",
    "    \n",
    "plt.imshow(grid)"
   ]
  },
  {
   "cell_type": "code",
   "execution_count": 16,
   "metadata": {},
   "outputs": [
    {
     "name": "stdout",
     "output_type": "stream",
     "text": [
      " "
     ]
    }
   ],
   "source": [
    "nsteps = 9999\n",
    "%prun for n in range(nsteps): value = cellular_step(value, rule_number=60)"
   ]
  },
  {
   "cell_type": "markdown",
   "metadata": {},
   "source": [
    "## The game of life\n",
    "\n",
    "Read this Wikipedia page: https://en.wikipedia.org/wiki/Conway%27s_Game_of_Life\n",
    "\n",
    "Read the python file in D2L: phys481_game-of-life.py\n",
    "and work your way through different implementations of the algorithm in stepper0, stepper1...\n",
    "and play around with the results.\n",
    "\n",
    "Examine the steady-state (long time) behaviour for an initial configuration with 1/2 the cells randomly turned on ($p=0.5$).\n",
    "Calculate mean & standard deviation for at least 3 runs to estimate uncertainty.\n",
    "\n",
    "Examine the steady-state behaviour for a range of initial random densities ranging from $p=0$ to $p=1$."
   ]
  },
  {
   "cell_type": "markdown",
   "metadata": {},
   "source": [
    "# import resources\n",
    "\n",
    "The \"import\" command loads collections of code that are not part of the core python distribution.  We have used this to obtain plotting tools from matplotlib.pyplot and numerical tools from numpy.\n",
    "\n",
    "For example, assume that the file \"phys481_game_of_life.py\" contains the python code as listed below.  Calling the import command will execute all the code in that file exactly as if we ran it from a Jupyter cell.  This can be used to define functions without taking up pages of space."
   ]
  },
  {
   "cell_type": "code",
   "execution_count": 122,
   "metadata": {},
   "outputs": [],
   "source": [
    "import phys481_game_of_life"
   ]
  },
  {
   "cell_type": "code",
   "execution_count": 123,
   "metadata": {},
   "outputs": [
    {
     "name": "stdout",
     "output_type": "stream",
     "text": [
      "Check agreement between different algorithms\n",
      "<function stepper0 at 0x7fc5a348aea0> True\n",
      "<function stepper1 at 0x7fc5a348ac80> True\n",
      "<function stepper2 at 0x7fc5a348abf8> True\n",
      "<function stepper3 at 0x7fc5a348ab70> True\n",
      "<function stepper4 at 0x7fc5a348a9d8> True\n",
      "Compare speed of different algorithms (lower is better)\n",
      "  0.01909 stepper4\n",
      "  0.02042 stepper3\n",
      "  0.02079 stepper2\n",
      "  0.54507 stepper1\n",
      "  0.83978 stepper0\n"
     ]
    }
   ],
   "source": [
    "# %load phys481_game-of-life.py\n",
    "\"\"\"\n",
    "Created on Mon Oct 31 17:53:50 2016\n",
    "\n",
    "@author: bjackel\n",
    "\"\"\"\n",
    "\n",
    "\"\"\"\n",
    "# example with animation\n",
    "grid = np.random.rand(401,501) > 0.5\n",
    "p = plt.matshow(grid)\n",
    "grid = life_generation_stepper(grid,nsteps=10000,plot=p)\n",
    "\"\"\"\n",
    "\n",
    "import numpy as np\n",
    "import matplotlib.pyplot as plt\n",
    "\n",
    "\n",
    "def life_generation_stepper(grid, nsteps=1, plot=None):\n",
    "    \n",
    "    # get most recently used plotting window\n",
    "    fig = list(map(plt.figure, plt.get_fignums()))[-1]\n",
    "\n",
    "    nx, ny = grid.shape\n",
    "    x, y = np.meshgrid( np.arange(nx), np.arange(ny), indexing='ij' )\n",
    "    xx = np.array([x+1, x-1, x+0, x+0, x+1, x-1, x+1, x-1]) % nx\n",
    "    yy = np.array([y+0, y+0, y+1, y-1, y+1, y-1, y-1, y+1]) % ny\n",
    "\n",
    "    for nstep in range(nsteps):\n",
    "        nnear = np.sum( grid[xx,yy] , axis=0 )\n",
    "        \n",
    "        grid[(nnear < 2) | (nnear > 3)] = 0\n",
    "        grid[nnear==3] = 1\n",
    "\n",
    "        if plot is not None:\n",
    "            plot.set_data(grid)\n",
    "            plot.axes.set_title(str(nstep))\n",
    "            fig.canvas.draw() ; fig.canvas.flush_events() #update plot window\n",
    "   \n",
    "    return grid\n",
    "\n",
    "    \n",
    "def stepper0(grid, nsteps=1, plot=None):\n",
    "    \"\"\"\n",
    "    One step in Conway's game of life with wrap-around edges.\n",
    "    \n",
    "    Loop over all pixels in grid, and over all neighbors (very slow)\n",
    "    \"\"\"\n",
    "    \n",
    "    nx, ny = grid.shape\n",
    "    xx, yy =  np.arange(nx), np.arange(ny) \n",
    "    newgrid = grid.copy()\n",
    "    \n",
    "    for x in xx:\n",
    "        for y in yy:\n",
    "            \n",
    "            nnear = 0  # count number of neighbors\n",
    "            \n",
    "            for dx in [-1,0,1]:\n",
    "                for dy in [-1,0,1]:\n",
    "                    if (dx!=0 or dy!=0):  # don't include the cell itself\n",
    "                        nnear += grid[ (x+dx)%nx, (y+dy)%ny ]\n",
    "\n",
    "            # dead cells with three live neighbours become live cells\n",
    "            if (grid[x,y] == 0):\n",
    "                if nnear == 3:\n",
    "                    newgrid[x,y]=1\n",
    "\n",
    "            # live cells with fewer than two or more than 3 live neighbors die\n",
    "            else:\n",
    "                if nnear < 2:\n",
    "                    newgrid[x,y]=0\n",
    "                if nnear >3 :\n",
    "                    newgrid[x,y]=0\n",
    "                                                            \n",
    "    return newgrid\n",
    "    \n",
    "\n",
    "def stepper1(grid, nsteps=1, plot=None):\n",
    "    \"\"\"\n",
    "    One step in Conway's game of life with wrap-around edges.\n",
    "    \n",
    "    Loop over all pixels in grid, and then add all 8 neighbours (slow)\n",
    "    \"\"\"\n",
    "    nx, ny = grid.shape\n",
    "    xx, yy =  np.arange(nx), np.arange(ny) \n",
    "    newgrid = grid.copy()\n",
    "    \n",
    "    dx = np.array( [1, -1, 0, 0, 1, -1, 1, -1] )\n",
    "    dy = np.array( [0, 0, 1, -1, 1, -1, -1, 1] )\n",
    "               \n",
    "    for x in xx:\n",
    "        for y in yy:\n",
    "            \n",
    "            nnear = np.sum( grid[ (x+dx)%nx, (y+dy)%ny ] )\n",
    "    \n",
    "            if (nnear < 2) or (nnear > 3): \n",
    "                newgrid[x,y] = 0\n",
    "            elif (nnear == 3):\n",
    "                newgrid[x,y] = 1\n",
    "                                            \n",
    "    return newgrid    \n",
    "    \n",
    "\n",
    "def stepper2(grid, nsteps=1, plot=None):\n",
    "    \"\"\"\n",
    "    One step in Conway's game of life with wrap-around edges.\n",
    "    \n",
    "    Loop over all neighbor shifts, adding an entire grid  (fast)\n",
    "    \"\"\"\n",
    "    \n",
    "    nx, ny = grid.shape\n",
    "    xx, yy = np.meshgrid( np.arange(nx), np.arange(ny), indexing='ij' )\n",
    "\n",
    "    nnear = 0\n",
    "    newgrid = grid.copy()\n",
    "\n",
    "    for dx in [-1,0,1]:\n",
    "        for dy in [-1,0,1]:\n",
    "            if (dx==0 and dy==0): continue\n",
    "            nnear += grid[ (xx+dx)%nx,(yy+dy)%ny ]\n",
    "    \n",
    "    newgrid[(grid>0) & (nnear<2)] = 0\n",
    "    newgrid[(grid>0) & (nnear>3)] = 0\n",
    "    newgrid[(grid==0) & (nnear==3)] = 1\n",
    "   \n",
    "    return newgrid\n",
    "\n",
    "\n",
    "def stepper3(grid, nsteps=1, plot=None):\n",
    "    \"\"\"\n",
    "    One step in Conway's game of life with wrap-around edges.\n",
    "    \n",
    "    Try cleaning up the neighbour loops (faster?)\n",
    "    \"\"\"\n",
    "    nx, ny = grid.shape\n",
    "    xx, yy = np.meshgrid( np.arange(nx), np.arange(ny), indexing='ij' )\n",
    "    dxy = [(1,0), (-1,0), (0,1), (0,-1), (1,1), (-1,-1), (1,-1), (-1,1) ]\n",
    "    \n",
    "    newgrid = grid.copy()           \n",
    "    nnear = 0\n",
    "    \n",
    "    for dx,dy in dxy:\n",
    "        nnear += grid[(xx+dx)%nx,(yy+dy)%ny] \n",
    "    \n",
    "    newgrid[nnear < 2] = 0  \n",
    "    newgrid[nnear > 3] = 0\n",
    "    newgrid[nnear==3] = 1\n",
    "   \n",
    "    return newgrid\n",
    "\n",
    "\n",
    "def stepper4(grid, nsteps=1, plot=None):\n",
    "    \"\"\"\n",
    "    One step in Conway's game of life with wrap-around edges.\n",
    "    \n",
    "    -move more calculations outside loop (fastest?)\n",
    "    -reuse input grid for output\n",
    "    \"\"\"\n",
    "    nx, ny = grid.shape\n",
    "    x, y = np.meshgrid( np.arange(nx), np.arange(ny), indexing='ij' )\n",
    "    \n",
    "    xx = np.array([x+1, x-1, x+0, x+0, x+1, x-1, x+1, x-1]) % nx\n",
    "    yy = np.array([y+0, y+0, y+1, y-1, y+1, y-1, y-1, y+1]) % ny\n",
    "\n",
    "    # grid[xx,yy].shape = 8,nx,ny  <= add up neighbours \n",
    "    # note: numpy will automatically convert boolean to integer before summing\n",
    "    nnear = np.sum( grid[xx,yy] , axis=0 )\n",
    "        \n",
    "    grid[(nnear < 2) | (nnear > 3)] = 0\n",
    "    grid[nnear==3] = 1\n",
    "\n",
    "    return grid\n",
    "    \n",
    "    \n",
    "      \n",
    "# the code below will not run if this file is \"included\"\n",
    "#\n",
    "if __name__ == '__main__':\n",
    "\n",
    "    print('Check agreement between different algorithms')\n",
    "    grid = np.random.rand(31,21) >= 0.5  # don't use a square grid\n",
    "    newgrid = stepper0(grid, nsteps=1)\n",
    "    stepfunclist = [stepper0, stepper1, stepper2, stepper3, stepper4]\n",
    "    \n",
    "    for stepfunc in stepfunclist:\n",
    "        test = stepfunc(grid)\n",
    "        print( str(stepfunc), np.all(test == newgrid) )\n",
    "        \n",
    "    \n",
    "    print('Compare speed of different algorithms (lower is better)')\n",
    "    import timeit\n",
    "    times = {}\n",
    "    for stepfunc in stepfunclist:\n",
    "        command = 'ng = {}(g)'.format(stepfunc.__name__)\n",
    "        setup = 'from __main__ import {}; import numpy as np; g=(np.random.rand(31,21)>=0.5)'.format(stepfunc.__name__)\n",
    "        times[stepfunc.__name__] = timeit.timeit(command,setup=setup, number=100)\n",
    "    #t = timeit.timeit('ng = stepper0(grid)', setup='from __main__ import stepper0; import numpy as np; grid=np.random.rand(31,21)>=0.5', number=100)\n",
    "    timeinfo = [ '{:9.5f} {}'.format(t,n) for (n,t) in times.items() ]\n",
    "    print( '\\n'.join( sorted(timeinfo) ) )\n",
    "    \n",
    "#newgrid = life_generation_stepper(grid, nsteps=1)\n",
    "#p=plt.imshow(grid, interpolation='nearest')    \n",
    "#p = plt.matshow(grid)\n",
    "#newgrid = life_generation_stepper2(grid, nsteps=100, plot=p)\n",
    "#p = plt.imshow(grid)\n",
    "    "
   ]
  },
  {
   "cell_type": "markdown",
   "metadata": {
    "collapsed": true
   },
   "source": [
    "## \\_\\_name\\_\\_ == \\_\\_main\\_\\_\n",
    "\n",
    "Calling \"import\" will automatically execute everything in a python file.  Sometimes this is inconvenient.  For example, when writing and debugging a library we might want to run some tests or generate some plots to confirm that everything is working correctly.  However, some other user may want to import our library without running our diagnostic code.\n",
    "\n",
    "One way to accomplish this might be to have some comments containing the test code.  We could uncomment it whenever we want to check that everything is okay, then turn it back into a comment when we were done.  This is a bit tedious and could cause problems if the code was imported while we were working on it.\n",
    "\n",
    "One solution is to check whether the file is being run directly or as part of an import command.  This can be done by looking at the \\_\\_name\\_\\_ system variable which will only be set to \\_\\_main\\_\\_ if the file is *not* being imported."
   ]
  },
  {
   "cell_type": "code",
   "execution_count": 1,
   "metadata": {},
   "outputs": [
    {
     "name": "stdout",
     "output_type": "stream",
     "text": [
      "__main__\n"
     ]
    }
   ],
   "source": [
    "print( __name__ )"
   ]
  },
  {
   "cell_type": "code",
   "execution_count": 1,
   "metadata": {},
   "outputs": [],
   "source": [
    "#from pygments import highlight\n",
    "#from pygments.lexers import PythonLexer\n",
    "#from pygments.formatters import HtmlFormatter\n",
    "#import IPython\n",
    "\n",
    "#with open('phys481_game-of-life.py') as f:\n",
    "#    code = f.read()\n",
    "\n",
    "#formatter = HtmlFormatter()\n",
    "#IPython.display.HTML('<style type=\"text/css\">{}</style>{}'.format(\n",
    "#    formatter.get_style_defs('.highlight'),\n",
    "#    highlight(code, PythonLexer(), formatter)))"
   ]
  },
  {
   "cell_type": "code",
   "execution_count": null,
   "metadata": {
    "collapsed": true
   },
   "outputs": [],
   "source": [
    "source code\n",
    "\n",
    "https://github.com/numpy/numpy/blob/8ed1770a8ca968388eacd5d96b8068b272fb47b7/numpy/core/src/multiarray/compiled_base.c"
   ]
  },
  {
   "cell_type": "code",
   "execution_count": null,
   "metadata": {},
   "outputs": [],
   "source": []
  }
 ],
 "metadata": {
  "anaconda-cloud": {},
  "kernelspec": {
   "display_name": "Python 3",
   "language": "python",
   "name": "python3"
  },
  "language_info": {
   "codemirror_mode": {
    "name": "ipython",
    "version": 3
   },
   "file_extension": ".py",
   "mimetype": "text/x-python",
   "name": "python",
   "nbconvert_exporter": "python",
   "pygments_lexer": "ipython3",
   "version": "3.6.3"
  }
 },
 "nbformat": 4,
 "nbformat_minor": 1
}
