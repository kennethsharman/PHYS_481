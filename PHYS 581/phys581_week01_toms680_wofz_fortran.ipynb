{
 "cells": [
  {
   "cell_type": "markdown",
   "metadata": {},
   "source": [
    "# F2PY: TOMS680 code for w(z)"
   ]
  },
  {
   "cell_type": "markdown",
   "metadata": {},
   "source": []
  },
  {
   "cell_type": "markdown",
   "metadata": {},
   "source": [
    "A fortran implementation of the $w(z)$ function can be found here\n",
    "\n",
    " https://calgo.acm.org/\n",
    "    \n",
    "    file: 680.gz\n",
    "    gams: C8a\n",
    "    for: complex error function\n",
    "    by: G.P.M. Poppe and C.M.J. Wijers\n",
    "    ref: ACM TOMS 16 (1990) 47      "
   ]
  },
  {
   "cell_type": "markdown",
   "metadata": {},
   "source": [
    "We could try to write a python translation by hand, but that would be tedious and error-prone.\n",
    "\n",
    "What about using the `f2py` framework that is included with numpy?\n",
    "\n",
    "  https://docs.scipy.org/doc/numpy/f2py\n",
    "  \n",
    "  https://www.numpy.org/devdocs/f2py/usage.html"
   ]
  },
  {
   "cell_type": "code",
   "execution_count": 24,
   "metadata": {
    "scrolled": true
   },
   "outputs": [
    {
     "name": "stdout",
     "output_type": "stream",
     "text": [
      "/home/bjackel/Dropbox/teach/physx81/sphinx/phys581/werf/toms680\n"
     ]
    }
   ],
   "source": [
    "%cd /home/bjackel/Dropbox/teach/physx81/sphinx/phys581/werf/toms680\n",
    "# wget https://calgo.acm.org/680.gz\n",
    "# gunzip, rename to toms680.f"
   ]
  },
  {
   "cell_type": "markdown",
   "metadata": {},
   "source": [
    "## First try\n",
    "\n",
    "Compile the fortran source code to produce a module that can be called from python.  Apparently sucessful..."
   ]
  },
  {
   "cell_type": "code",
   "execution_count": 28,
   "metadata": {},
   "outputs": [
    {
     "name": "stdout",
     "output_type": "stream",
     "text": [
      "/home/bjackel/anaconda3/bin/f2py -c toms680.f -m toms680\n"
     ]
    },
    {
     "data": {
      "text/plain": [
       "CompletedProcess(args='/home/bjackel/anaconda3/bin/f2py -c toms680.f -m toms680', returncode=0)"
      ]
     },
     "execution_count": 28,
     "metadata": {},
     "output_type": "execute_result"
    }
   ],
   "source": [
    "import subprocess\n",
    "cmnd = r'/home/bjackel/anaconda3/bin/f2py'\n",
    "cmnd += ' -c toms680.f'\n",
    "cmnd += ' -m toms680'\n",
    "\n",
    "print(cmnd)\n",
    "subprocess.run( cmnd, shell=True, check=True)\n",
    "#%sx 'f2py-c toms680.f -m toms680'"
   ]
  },
  {
   "cell_type": "markdown",
   "metadata": {},
   "source": [
    "The module loads without error, revealing a docstring and a single function with the expected calling convention."
   ]
  },
  {
   "cell_type": "code",
   "execution_count": 41,
   "metadata": {},
   "outputs": [
    {
     "name": "stdout",
     "output_type": "stream",
     "text": [
      "dir:  ['__doc__', '__file__', '__loader__', '__name__', '__package__', '__spec__', '__version__', 'wofz']\n",
      "\n",
      " __doc__: This module 'toms680' is auto-generated with f2py (version:2).\n",
      "Functions:\n",
      "  wofz(xi,yi,u,v,flag)\n",
      ".\n"
     ]
    }
   ],
   "source": [
    "import toms680\n",
    "print('dir: ', dir(toms680) )\n",
    "print('\\n __doc__:', toms680.__doc__ )"
   ]
  },
  {
   "cell_type": "code",
   "execution_count": 43,
   "metadata": {},
   "outputs": [
    {
     "name": "stdout",
     "output_type": "stream",
     "text": [
      "Help on fortran object:\n",
      "\n",
      "class fortran(object)\n",
      " |  Methods defined here:\n",
      " |  \n",
      " |  __call__(self, /, *args, **kwargs)\n",
      " |      Call self as a function.\n",
      " |  \n",
      " |  __repr__(self, /)\n",
      " |      Return repr(self).\n",
      "\n",
      "\n",
      " __doc__:  wofz(xi,yi,u,v,flag)\n",
      "\n",
      "Wrapper for ``wofz``.\n",
      "\n",
      "Parameters\n",
      "----------\n",
      "xi : input float\n",
      "yi : input float\n",
      "u : input float\n",
      "v : input float\n",
      "flag : input int\n",
      "\n"
     ]
    }
   ],
   "source": [
    "help(toms680.wofz)\n",
    "print('\\n __doc__: ', toms680.wofz.__doc__)"
   ]
  },
  {
   "cell_type": "markdown",
   "metadata": {},
   "source": [
    "### Fail\n",
    "\n",
    "For any input x,y the output u,v are always zero.  Maybe I should have read the documentation more carefully."
   ]
  },
  {
   "cell_type": "code",
   "execution_count": 46,
   "metadata": {},
   "outputs": [
    {
     "name": "stdout",
     "output_type": "stream",
     "text": [
      "False 1.0 2.0 0.0 0.0\n"
     ]
    }
   ],
   "source": [
    "x, y = 1.0, 2.0\n",
    "u, v = 0.0, 0.0\n",
    "flag = False\n",
    "toms680.wofz(x, y, u, v, flag)\n",
    "print(flag, x, y, u, v)"
   ]
  },
  {
   "cell_type": "markdown",
   "metadata": {},
   "source": [
    "We could make a signature file (.pyf) and edit to get the desired behavior."
   ]
  },
  {
   "cell_type": "code",
   "execution_count": 48,
   "metadata": {},
   "outputs": [
    {
     "name": "stdout",
     "output_type": "stream",
     "text": [
      "/home/bjackel/anaconda3/bin/f2py toms680.f -h toms680.pyf -m toms680\n"
     ]
    },
    {
     "data": {
      "text/plain": [
       "CompletedProcess(args='/home/bjackel/anaconda3/bin/f2py toms680.f -h toms680.pyf -m toms680', returncode=0)"
      ]
     },
     "execution_count": 48,
     "metadata": {},
     "output_type": "execute_result"
    }
   ],
   "source": [
    "import subprocess\n",
    "cmnd = r'/home/bjackel/anaconda3/bin/f2py'\n",
    "cmnd += ' toms680.f'\n",
    "cmnd += ' -h toms680.pyf'\n",
    "cmnd += ' -m toms680'\n",
    "print(cmnd)\n",
    "subprocess.run( cmnd, shell=True, check=True)"
   ]
  },
  {
   "cell_type": "raw",
   "metadata": {},
   "source": [
    "Or copy the source file and edit directly."
   ]
  },
  {
   "cell_type": "code",
   "execution_count": null,
   "metadata": {},
   "outputs": [],
   "source": [
    "%edit toms680_f2py.f"
   ]
  },
  {
   "cell_type": "code",
   "execution_count": 49,
   "metadata": {},
   "outputs": [
    {
     "name": "stdout",
     "output_type": "stream",
     "text": [
      "/home/bjackel/anaconda3/bin/f2py -c toms680_f2py.f -m toms680_f2py\n"
     ]
    },
    {
     "data": {
      "text/plain": [
       "CompletedProcess(args='/home/bjackel/anaconda3/bin/f2py -c toms680_f2py.f -m toms680_f2py', returncode=0)"
      ]
     },
     "execution_count": 49,
     "metadata": {},
     "output_type": "execute_result"
    }
   ],
   "source": [
    "import subprocess\n",
    "cmnd = r'/home/bjackel/anaconda3/bin/f2py'\n",
    "cmnd += ' -c toms680_f2py.f'\n",
    "cmnd += ' -m toms680_f2py'\n",
    "#cmnd = ' '.join(cmnd)\n",
    "print(cmnd)\n",
    "subprocess.run( cmnd, shell=True, check=True)"
   ]
  },
  {
   "cell_type": "code",
   "execution_count": 50,
   "metadata": {},
   "outputs": [
    {
     "ename": "TypeError",
     "evalue": "toms680_f2py.wofz() takes at most 2 arguments (5 given)",
     "output_type": "error",
     "traceback": [
      "\u001b[0;31m---------------------------------------------------------------------------\u001b[0m",
      "\u001b[0;31mTypeError\u001b[0m                                 Traceback (most recent call last)",
      "\u001b[0;32m<ipython-input-50-367c6975f14e>\u001b[0m in \u001b[0;36m<module>\u001b[0;34m()\u001b[0m\n\u001b[1;32m      3\u001b[0m \u001b[0mu\u001b[0m\u001b[0;34m,\u001b[0m \u001b[0mv\u001b[0m \u001b[0;34m=\u001b[0m \u001b[0;36m0.0\u001b[0m\u001b[0;34m,\u001b[0m \u001b[0;36m0.0\u001b[0m\u001b[0;34m\u001b[0m\u001b[0m\n\u001b[1;32m      4\u001b[0m \u001b[0mflag\u001b[0m \u001b[0;34m=\u001b[0m \u001b[0;32mFalse\u001b[0m\u001b[0;34m\u001b[0m\u001b[0m\n\u001b[0;32m----> 5\u001b[0;31m \u001b[0mtoms680\u001b[0m\u001b[0;34m.\u001b[0m\u001b[0mwofz\u001b[0m\u001b[0;34m(\u001b[0m\u001b[0mx\u001b[0m\u001b[0;34m,\u001b[0m \u001b[0my\u001b[0m\u001b[0;34m,\u001b[0m \u001b[0mu\u001b[0m\u001b[0;34m,\u001b[0m \u001b[0mv\u001b[0m\u001b[0;34m,\u001b[0m \u001b[0mflag\u001b[0m\u001b[0;34m)\u001b[0m\u001b[0;34m\u001b[0m\u001b[0m\n\u001b[0m\u001b[1;32m      6\u001b[0m \u001b[0mprint\u001b[0m\u001b[0;34m(\u001b[0m\u001b[0mflag\u001b[0m\u001b[0;34m,\u001b[0m \u001b[0mx\u001b[0m\u001b[0;34m,\u001b[0m \u001b[0my\u001b[0m\u001b[0;34m,\u001b[0m \u001b[0mu\u001b[0m\u001b[0;34m,\u001b[0m \u001b[0mv\u001b[0m\u001b[0;34m)\u001b[0m\u001b[0;34m\u001b[0m\u001b[0m\n",
      "\u001b[0;31mTypeError\u001b[0m: toms680_f2py.wofz() takes at most 2 arguments (5 given)"
     ]
    }
   ],
   "source": [
    "import toms680_f2py as toms680\n",
    "x, y = 1.0, 2.0\n",
    "u, v = 0.0, 0.0\n",
    "flag = False\n",
    "toms680.wofz(x, y, u, v, flag)\n",
    "print(flag, x, y, u, v)"
   ]
  },
  {
   "cell_type": "code",
   "execution_count": 52,
   "metadata": {},
   "outputs": [
    {
     "name": "stdout",
     "output_type": "stream",
     "text": [
      "\n",
      " __doc__:  u,v,flag = wofz(xi,yi)\n",
      "\n",
      "Wrapper for ``wofz``.\n",
      "\n",
      "Parameters\n",
      "----------\n",
      "xi : input float\n",
      "yi : input float\n",
      "\n",
      "Returns\n",
      "-------\n",
      "u : float\n",
      "v : float\n",
      "flag : int\n",
      "\n"
     ]
    }
   ],
   "source": [
    "print('\\n __doc__: ', toms680.wofz.__doc__)"
   ]
  },
  {
   "cell_type": "code",
   "execution_count": 53,
   "metadata": {},
   "outputs": [
    {
     "name": "stdout",
     "output_type": "stream",
     "text": [
      "0 1.0 2.0 0.21849261527489075 0.0929978093926019\n"
     ]
    }
   ],
   "source": [
    "x, y = 1.0, 2.0\n",
    "u, v = 0.0, 0.0\n",
    "flag = False\n",
    "u, v, flag = toms680.wofz(x, y)\n",
    "print(flag, x, y, u, v)"
   ]
  },
  {
   "cell_type": "code",
   "execution_count": 58,
   "metadata": {},
   "outputs": [
    {
     "name": "stdout",
     "output_type": "stream",
     "text": [
      "(0.21849261527489067+0.09299780939260188j)\n",
      "(-8.326672684688674e-17-1.3877787807814457e-17j)\n"
     ]
    }
   ],
   "source": [
    "import numpy as np\n",
    "import scipy.special\n",
    "print( scipy.special.wofz(np.complex(x,y)) )\n",
    "print( scipy.special.wofz(np.complex(x,y)) - np.complex(u,v) )"
   ]
  },
  {
   "cell_type": "markdown",
   "metadata": {},
   "source": [
    "### Victory!\n",
    "\n",
    "Accuracy is comparable to \"official\" function and twice the speed !?"
   ]
  },
  {
   "cell_type": "code",
   "execution_count": 59,
   "metadata": {},
   "outputs": [
    {
     "name": "stdout",
     "output_type": "stream",
     "text": [
      "483 ns ± 10.6 ns per loop (mean ± std. dev. of 7 runs, 1000000 loops each)\n",
      "884 ns ± 5.61 ns per loop (mean ± std. dev. of 7 runs, 1000000 loops each)\n"
     ]
    }
   ],
   "source": [
    "%timeit u, v, flag = toms680.wofz(x, y)\n",
    "%timeit scipy.special.wofz(np.complex(x,y))"
   ]
  },
  {
   "cell_type": "markdown",
   "metadata": {},
   "source": [
    "## Under the hood"
   ]
  },
  {
   "cell_type": "code",
   "execution_count": 64,
   "metadata": {},
   "outputs": [
    {
     "name": "stdout",
     "output_type": "stream",
     "text": [
      "/home/bjackel/anaconda3/bin/f2py --debug-capi -c toms680_f2py.f -m toms680_f2py_debug\n"
     ]
    },
    {
     "data": {
      "text/plain": [
       "CompletedProcess(args='/home/bjackel/anaconda3/bin/f2py --debug-capi -c toms680_f2py.f -m toms680_f2py_debug', returncode=0)"
      ]
     },
     "execution_count": 64,
     "metadata": {},
     "output_type": "execute_result"
    }
   ],
   "source": [
    "import subprocess\n",
    "cmnd = r'/home/bjackel/anaconda3/bin/f2py'\n",
    "cmnd += ' --debug-capi'\n",
    "cmnd += ' -c toms680_f2py.f'\n",
    "cmnd += ' -m toms680_f2py_debug'\n",
    "print(cmnd)\n",
    "subprocess.run( cmnd, shell=True, check=True)"
   ]
  },
  {
   "cell_type": "code",
   "execution_count": 66,
   "metadata": {},
   "outputs": [
    {
     "name": "stdout",
     "output_type": "stream",
     "text": [
      "00000000000032b0 T array_from_pyobj\t/tmp/tmp3p6zprfn/src.linux-x86_64-3.6/fortranobject.c:654\r\n",
      "0000000000207790 B __bss_start\r\n",
      "0000000000207280 d capi_kwlist.14946\r\n",
      "0000000000002780 t check_and_fix_dimensions\t/tmp/tmp3p6zprfn/src.linux-x86_64-3.6/fortranobject.c:859\r\n",
      "00000000002077a0 b completed.7696\r\n",
      "0000000000004070 T copy_ND_array\t/tmp/tmp3p6zprfn/src.linux-x86_64-3.6/fortranobject.c:1025\r\n",
      "                 U cos@@GLIBC_2.2.5\r\n",
      "                 w __cxa_finalize@@GLIBC_2.2.5\r\n",
      "0000000000001c70 t deregister_tm_clones\r\n",
      "00000000002071e0 d doc_f2py_rout_toms680_f2py_debug_wofz\t/tmp/tmp3p6zprfn/src.linux-x86_64-3.6/toms680_f2py_debugmodule.c:149\r\n",
      "0000000000001d00 t __do_global_dtors_aux\r\n",
      "0000000000206d90 t __do_global_dtors_aux_fini_array_entry\r\n",
      "0000000000001d50 t double_from_pyobj.part.0\t/tmp/tmp3p6zprfn/src.linux-x86_64-3.6/toms680_f2py_debugmodule.c:90\r\n",
      "00000000002071c0 d __dso_handle\r\n",
      "0000000000206d98 d _DYNAMIC\r\n",
      "0000000000207790 D _edata\r\n",
      "00000000002077f8 B _end\r\n",
      "                 U exp@@GLIBC_2.2.5\r\n",
      "00000000000048b0 T F2PyCapsule_AsVoidPtr\t/tmp/tmp3p6zprfn/src.linux-x86_64-3.6/fortranobject.c:1048\r\n",
      "00000000000048e0 T F2PyCapsule_Check\t/tmp/tmp3p6zprfn/src.linux-x86_64-3.6/fortranobject.c:1058\r\n",
      "0000000000004090 T F2PyCapsule_FromVoidPtr\t/tmp/tmp3p6zprfn/src.linux-x86_64-3.6/fortranobject.c:1038\r\n",
      "0000000000003050 T F2PyDict_SetItemString\t/tmp/tmp3p6zprfn/src.linux-x86_64-3.6/fortranobject.c:20\r\n",
      "00000000002077c0 b f2py_module_methods\t/tmp/tmp3p6zprfn/src.linux-x86_64-3.6/toms680_f2py_debugmodule.c:275\r\n",
      "0000000000207320 d f2py_routine_defs\t/tmp/tmp3p6zprfn/src.linux-x86_64-3.6/toms680_f2py_debugmodule.c:268\r\n",
      "0000000000001ea0 t f2py_rout_toms680_f2py_debug_wofz\t/tmp/tmp3p6zprfn/src.linux-x86_64-3.6/toms680_f2py_debugmodule.c:159\r\n",
      "000000000000556c T _fini\r\n",
      "0000000000002fe0 t fortran_call\r\n",
      "0000000000002750 t fortran_dealloc\t/tmp/tmp3p6zprfn/src.linux-x86_64-3.6/fortranobject.c:92\r\n",
      "00000000000040d0 t fortran_getattr\r\n",
      "00000000000026c0 t fortran_repr\t/tmp/tmp3p6zprfn/src.linux-x86_64-3.6/fortranobject.c:412\r\n",
      "0000000000003cc0 t fortran_setattr\t/tmp/tmp3p6zprfn/src.linux-x86_64-3.6/fortranobject.c:327\r\n",
      "                 U __fprintf_chk@@GLIBC_2.3.4\r\n",
      "0000000000001d40 t frame_dummy\r\n",
      "0000000000206d88 t __frame_dummy_init_array_entry\r\n",
      "0000000000006780 r __FRAME_END__\r\n",
      "                 U fwrite@@GLIBC_2.2.5\r\n",
      "0000000000207000 d _GLOBAL_OFFSET_TABLE_\r\n",
      "                 w __gmon_start__\r\n",
      "0000000000006204 r __GNU_EH_FRAME_HDR\r\n",
      "00000000000018e0 T _init\r\n",
      "                 w _ITM_deregisterTMCloneTable\r\n",
      "                 w _ITM_registerTMCloneTable\r\n",
      "                 U lround@@GLIBC_2.2.5\r\n",
      "                 U memcpy@@GLIBC_2.14\r\n",
      "                 U memset@@GLIBC_2.2.5\r\n",
      "00000000002072a0 d moduledef\t/tmp/tmp3p6zprfn/src.linux-x86_64-3.6/toms680_f2py_debugmodule.c:281\r\n",
      "00000000002077f0 B _npy_f2py_ARRAY_API\t/home/bjackel/anaconda3/lib/python3.6/site-packages/numpy/core/include/numpy/__multiarray_api.h:632\r\n",
      "                 U __powidf2@@GCC_4.0.0\r\n",
      "                 U PyArg_ParseTupleAndKeywords\r\n",
      "                 U Py_BuildValue\r\n",
      "                 U PyBytes_FromString\r\n",
      "                 U PyCapsule_GetPointer\r\n",
      "                 U PyCapsule_New\r\n",
      "                 U PyCapsule_Type\r\n",
      "                 U PyComplex_Type\r\n",
      "                 U PyDict_DelItemString\r\n",
      "                 U PyDict_GetItemString\r\n",
      "                 U PyDict_New\r\n",
      "                 U PyDict_SetItemString\r\n",
      "                 U PyErr_Clear\r\n",
      "                 U PyErr_Format\r\n",
      "                 U PyErr_NewException\r\n",
      "                 U PyErr_NoMemory\r\n",
      "                 U PyErr_Occurred\r\n",
      "                 U PyErr_Print\r\n",
      "                 U PyErr_SetString\r\n",
      "                 U PyExc_AttributeError\r\n",
      "                 U PyExc_ImportError\r\n",
      "                 U PyExc_RuntimeError\r\n",
      "                 U PyExc_TypeError\r\n",
      "                 U PyExc_ValueError\r\n",
      "                 U PyFloat_Type\r\n",
      "0000000000003100 T PyFortranObject_New\t/tmp/tmp3p6zprfn/src.linux-x86_64-3.6/fortranobject.c:38\r\n",
      "00000000000030b0 T PyFortranObject_NewAsAttr\t/tmp/tmp3p6zprfn/src.linux-x86_64-3.6/fortranobject.c:79\r\n",
      "0000000000207600 D PyFortran_Type\r\n",
      "                 U PyImport_ImportModule\r\n",
      "0000000000002390 T PyInit_toms680_f2py_debug\t/tmp/tmp3p6zprfn/src.linux-x86_64-3.6/toms680_f2py_debugmodule.c:296\r\n",
      "                 U PyMem_Free\r\n",
      "                 U PyMem_Malloc\r\n",
      "                 U PyModule_Create2\r\n",
      "                 U PyModule_GetDict\r\n",
      "                 U _Py_NoneStruct\r\n",
      "                 U PyNumber_Float\r\n",
      "                 U PyObject_GenericGetAttr\r\n",
      "                 U PyObject_GetAttrString\r\n",
      "                 U _PyObject_New\r\n",
      "                 U PyOS_snprintf\r\n",
      "                 U PySequence_Check\r\n",
      "                 U PySequence_GetItem\r\n",
      "                 U PyType_IsSubtype\r\n",
      "                 U PyType_Type\r\n",
      "                 U PyUnicode_Concat\r\n",
      "                 U PyUnicode_FromFormat\r\n",
      "                 U PyUnicode_FromString\r\n",
      "                 U PyUnicode_FromStringAndSize\r\n",
      "0000000000001cb0 t register_tm_clones\r\n",
      "00000000002077e8 b save_def\t/tmp/tmp3p6zprfn/src.linux-x86_64-3.6/fortranobject.c:242\r\n",
      "00000000000026a0 t set_data\t/tmp/tmp3p6zprfn/src.linux-x86_64-3.6/fortranobject.c:243\r\n",
      "                 U sincos@@GLIBC_2.2.5\r\n",
      "                 U sin@@GLIBC_2.2.5\r\n",
      "                 U __snprintf_chk@@GLIBC_2.3.4\r\n",
      "                 U snprintf@@GLIBC_2.2.5\r\n",
      "                 U __sprintf_chk@@GLIBC_2.3.4\r\n",
      "                 U __stack_chk_fail@@GLIBC_2.4\r\n",
      "                 U stderr@@GLIBC_2.2.5\r\n",
      "                 U __strcat_chk@@GLIBC_2.3.4\r\n",
      "                 U strcmp@@GLIBC_2.2.5\r\n",
      "                 U strlen@@GLIBC_2.2.5\r\n",
      "0000000000207790 d __TMC_END__\r\n",
      "00000000002077e0 b toms680_f2py_debug_error\t/tmp/tmp3p6zprfn/src.linux-x86_64-3.6/toms680_f2py_debugmodule.c:19\r\n",
      "0000000000004900 T wofz_\t/home/bjackel/Dropbox/teach/physx81/sphinx/phys581/werf/toms680/toms680_f2py.f:4\r\n"
     ]
    }
   ],
   "source": [
    "!nm -C -l toms680_f2py_debug.cpython-36m-x86_64-linux-gnu.so"
   ]
  },
  {
   "cell_type": "code",
   "execution_count": 2,
   "metadata": {},
   "outputs": [
    {
     "data": {
      "text/plain": [
       "['680_2py.f',\n",
       " '680.f',\n",
       " 'Untitled.ipynb',\n",
       " 'werf680.cpython-36m-x86_64-linux-gnu.so',\n",
       " 'werf680_example.py',\n",
       " 'werf680_smart.cpython-36m-x86_64-linux-gnu.so']"
      ]
     },
     "execution_count": 2,
     "metadata": {},
     "output_type": "execute_result"
    }
   ],
   "source": [
    "%sx ls"
   ]
  },
  {
   "cell_type": "code",
   "execution_count": 10,
   "metadata": {},
   "outputs": [
    {
     "data": {
      "text/plain": [
       "['running build',\n",
       " 'running config_cc',\n",
       " 'unifing config_cc, config, build_clib, build_ext, build commands --compiler options',\n",
       " 'running config_fc',\n",
       " 'unifing config_fc, config, build_clib, build_ext, build commands --fcompiler options',\n",
       " 'running build_src',\n",
       " 'build_src',\n",
       " 'building extension \"werf680\" sources',\n",
       " 'f2py options: []',\n",
       " 'f2py:> /tmp/tmpc5wok4v3/src.linux-x86_64-3.6/werf680module.c',\n",
       " 'creating /tmp/tmpc5wok4v3/src.linux-x86_64-3.6',\n",
       " 'Reading fortran codes...',\n",
       " \"\\tReading file '680.f' (format:fix,strict)\",\n",
       " 'Post-processing...',\n",
       " '\\tBlock: werf680',\n",
       " '{}',\n",
       " 'In: :werf680:680.f:wofz',\n",
       " 'vars2fortran: No typespec for argument \"xi\".',\n",
       " '{}',\n",
       " 'In: :werf680:680.f:wofz',\n",
       " 'vars2fortran: No typespec for argument \"yi\".',\n",
       " '{}',\n",
       " 'In: :werf680:680.f:wofz',\n",
       " 'vars2fortran: No typespec for argument \"u\".',\n",
       " '{}',\n",
       " 'In: :werf680:680.f:wofz',\n",
       " 'vars2fortran: No typespec for argument \"v\".',\n",
       " '\\t\\t\\tBlock: wofz',\n",
       " 'Post-processing (stage 2)...',\n",
       " 'Building modules...',\n",
       " '\\tBuilding module \"werf680\"...',\n",
       " '\\t\\tConstructing wrapper function \"wofz\"...',\n",
       " '\\t\\t  wofz(xi,yi,u,v,flag)',\n",
       " '\\tWrote C/API module \"werf680\" to file \"/tmp/tmpc5wok4v3/src.linux-x86_64-3.6/werf680module.c\"',\n",
       " \"  adding '/tmp/tmpc5wok4v3/src.linux-x86_64-3.6/fortranobject.c' to sources.\",\n",
       " \"  adding '/tmp/tmpc5wok4v3/src.linux-x86_64-3.6' to include_dirs.\",\n",
       " 'copying /home/bjackel/anaconda3/lib/python3.6/site-packages/numpy/f2py/src/fortranobject.c -> /tmp/tmpc5wok4v3/src.linux-x86_64-3.6',\n",
       " 'copying /home/bjackel/anaconda3/lib/python3.6/site-packages/numpy/f2py/src/fortranobject.h -> /tmp/tmpc5wok4v3/src.linux-x86_64-3.6',\n",
       " 'build_src: building npy-pkg config files',\n",
       " 'running build_ext',\n",
       " 'customize UnixCCompiler',\n",
       " 'customize UnixCCompiler using build_ext',\n",
       " \"get_default_fcompiler: matching types: '['gnu95', 'intel', 'lahey', 'pg', 'absoft', 'nag', 'vast', 'compaq', 'intele', 'intelem', 'gnu', 'g95', 'pathf95', 'nagfor']'\",\n",
       " 'customize Gnu95FCompiler',\n",
       " 'Found executable /usr/bin/gfortran',\n",
       " 'customize Gnu95FCompiler',\n",
       " 'customize Gnu95FCompiler using build_ext',\n",
       " \"building 'werf680' extension\",\n",
       " 'compiling C sources',\n",
       " 'C compiler: gcc -pthread -B /home/bjackel/anaconda3/compiler_compat -Wl,--sysroot=/ -Wsign-compare -DNDEBUG -g -fwrapv -O3 -Wall -Wstrict-prototypes -fPIC',\n",
       " '',\n",
       " 'creating /tmp/tmpc5wok4v3/tmp',\n",
       " 'creating /tmp/tmpc5wok4v3/tmp/tmpc5wok4v3',\n",
       " 'creating /tmp/tmpc5wok4v3/tmp/tmpc5wok4v3/src.linux-x86_64-3.6',\n",
       " \"compile options: '-I/tmp/tmpc5wok4v3/src.linux-x86_64-3.6 -I/home/bjackel/anaconda3/lib/python3.6/site-packages/numpy/core/include -I/home/bjackel/anaconda3/include/python3.6m -c'\",\n",
       " 'gcc: /tmp/tmpc5wok4v3/src.linux-x86_64-3.6/fortranobject.c',\n",
       " 'gcc: /tmp/tmpc5wok4v3/src.linux-x86_64-3.6/werf680module.c',\n",
       " 'In file included from /home/bjackel/anaconda3/lib/python3.6/site-packages/numpy/core/include/numpy/ndarraytypes.h:1823:0,',\n",
       " '                 from /home/bjackel/anaconda3/lib/python3.6/site-packages/numpy/core/include/numpy/ndarrayobject.h:18,',\n",
       " '                 from /home/bjackel/anaconda3/lib/python3.6/site-packages/numpy/core/include/numpy/arrayobject.h:4,',\n",
       " '                 from /tmp/tmpc5wok4v3/src.linux-x86_64-3.6/fortranobject.h:13,',\n",
       " '                 from /tmp/tmpc5wok4v3/src.linux-x86_64-3.6/werf680module.c:15:',\n",
       " '/home/bjackel/anaconda3/lib/python3.6/site-packages/numpy/core/include/numpy/npy_1_7_deprecated_api.h:15:2: warning: #warning \"Using deprecated NumPy API, disable it by \" \"#defining NPY_NO_DEPRECATED_API NPY_1_7_API_VERSION\" [-Wcpp]',\n",
       " ' #warning \"Using deprecated NumPy API, disable it by \" \\\\',\n",
       " '  ^~~~~~~',\n",
       " 'In file included from /home/bjackel/anaconda3/lib/python3.6/site-packages/numpy/core/include/numpy/ndarraytypes.h:1823:0,',\n",
       " '                 from /home/bjackel/anaconda3/lib/python3.6/site-packages/numpy/core/include/numpy/ndarrayobject.h:18,',\n",
       " '                 from /home/bjackel/anaconda3/lib/python3.6/site-packages/numpy/core/include/numpy/arrayobject.h:4,',\n",
       " '                 from /tmp/tmpc5wok4v3/src.linux-x86_64-3.6/fortranobject.h:13,',\n",
       " '                 from /tmp/tmpc5wok4v3/src.linux-x86_64-3.6/fortranobject.c:2:',\n",
       " '/home/bjackel/anaconda3/lib/python3.6/site-packages/numpy/core/include/numpy/npy_1_7_deprecated_api.h:15:2: warning: #warning \"Using deprecated NumPy API, disable it by \" \"#defining NPY_NO_DEPRECATED_API NPY_1_7_API_VERSION\" [-Wcpp]',\n",
       " ' #warning \"Using deprecated NumPy API, disable it by \" \\\\',\n",
       " '  ^~~~~~~',\n",
       " '/tmp/tmpc5wok4v3/src.linux-x86_64-3.6/fortranobject.c: In function ‘format_def’:',\n",
       " '/tmp/tmpc5wok4v3/src.linux-x86_64-3.6/fortranobject.c:138:18: warning: comparison between signed and unsigned integer expressions [-Wsign-compare]',\n",
       " '         if (size < sizeof(notalloc)) {',\n",
       " '                  ^',\n",
       " 'compiling Fortran sources',\n",
       " 'Fortran f77 compiler: /usr/bin/gfortran -Wall -g -ffixed-form -fno-second-underscore -fPIC -O3 -funroll-loops',\n",
       " 'Fortran f90 compiler: /usr/bin/gfortran -Wall -g -fno-second-underscore -fPIC -O3 -funroll-loops',\n",
       " 'Fortran fix compiler: /usr/bin/gfortran -Wall -g -ffixed-form -fno-second-underscore -Wall -g -fno-second-underscore -fPIC -O3 -funroll-loops',\n",
       " \"compile options: '-I/tmp/tmpc5wok4v3/src.linux-x86_64-3.6 -I/home/bjackel/anaconda3/lib/python3.6/site-packages/numpy/core/include -I/home/bjackel/anaconda3/include/python3.6m -c'\",\n",
       " 'gfortran:f77: 680.f',\n",
       " '680.f:161:0:',\n",
       " '',\n",
       " '             QLAMBDA = QLAMBDA/H2',\n",
       " ' ',\n",
       " 'Warning: ‘h2’ may be used uninitialized in this function [-Wmaybe-uninitialized]',\n",
       " '680.f:161:0: Warning: ‘qlambda’ may be used uninitialized in this function [-Wmaybe-uninitialized]',\n",
       " '/usr/bin/gfortran -Wall -g -Wall -g -shared /tmp/tmpc5wok4v3/tmp/tmpc5wok4v3/src.linux-x86_64-3.6/werf680module.o /tmp/tmpc5wok4v3/tmp/tmpc5wok4v3/src.linux-x86_64-3.6/fortranobject.o /tmp/tmpc5wok4v3/680.o -L/usr/lib/gcc/x86_64-linux-gnu/7 -L/usr/lib/gcc/x86_64-linux-gnu/7 -lgfortran -o ./werf680.cpython-36m-x86_64-linux-gnu.so',\n",
       " 'Removing build directory /tmp/tmpc5wok4v3']"
      ]
     },
     "execution_count": 10,
     "metadata": {},
     "output_type": "execute_result"
    }
   ],
   "source": [
    "%sx /home/bjackel/anaconda3/bin/f2py -c 680.f -m werf680"
   ]
  },
  {
   "cell_type": "code",
   "execution_count": null,
   "metadata": {},
   "outputs": [],
   "source": []
  }
 ],
 "metadata": {
  "kernelspec": {
   "display_name": "Python 3",
   "language": "python",
   "name": "python3"
  },
  "language_info": {
   "codemirror_mode": {
    "name": "ipython",
    "version": 3
   },
   "file_extension": ".py",
   "mimetype": "text/x-python",
   "name": "python",
   "nbconvert_exporter": "python",
   "pygments_lexer": "ipython3",
   "version": "3.7.1"
  }
 },
 "nbformat": 4,
 "nbformat_minor": 2
}
