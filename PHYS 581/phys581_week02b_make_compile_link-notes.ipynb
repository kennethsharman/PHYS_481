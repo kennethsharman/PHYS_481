{
 "cells": [
  {
   "cell_type": "markdown",
   "metadata": {},
   "source": [
    "# phys581_week02b_make_compile_link-notes\n",
    "\n",
    "https://www.lynxbee.com/understanding-very-minimal-c-program-and-its-execution-in-ubuntu-linux/\n",
    "\n",
    "https://www.lynxbee.com/understanding-execution-of-very-minimal-c-program-in-linux-ubuntu/"
   ]
  },
  {
   "cell_type": "code",
   "execution_count": 2,
   "metadata": {},
   "outputs": [
    {
     "name": "stdout",
     "output_type": "stream",
     "text": [
      "/home/bjackel/Dropbox/teach/physx81/sphinx/phys581/make_compile_link\n"
     ]
    }
   ],
   "source": [
    "%cd /home/bjackel/Dropbox/teach/physx81/sphinx/phys581/make_compile_link"
   ]
  },
  {
   "cell_type": "code",
   "execution_count": 3,
   "metadata": {},
   "outputs": [
    {
     "data": {
      "text/plain": [
       "'/home/bjackel/Dropbox/teach/physx81/sphinx/phys581/make_compile_link'"
      ]
     },
     "execution_count": 3,
     "metadata": {},
     "output_type": "execute_result"
    }
   ],
   "source": [
    "%pwd"
   ]
  },
  {
   "cell_type": "code",
   "execution_count": 14,
   "metadata": {
    "scrolled": true
   },
   "outputs": [
    {
     "name": "stdout",
     "output_type": "stream",
     "text": [
      "int main(void) {\r\n",
      "  return 0;\r\n",
      "}\r\n"
     ]
    }
   ],
   "source": [
    "# simplest possible \"c\" program\n",
    "#\n",
    "!cat minimal0.c"
   ]
  },
  {
   "cell_type": "markdown",
   "metadata": {},
   "source": [
    "## gcc\n",
    "https://gcc.gnu.org/\n",
    "\n",
    "The GNU Compiler Collection includes front ends for C, C++, Objective-C, Fortran, Ada, Go, and D, as well as libraries for these languages (libstdc++,...). GCC was originally written as the compiler for the GNU operating system. The GNU system was developed to be 100% free software, free in the sense that it respects the user's freedom."
   ]
  },
  {
   "cell_type": "code",
   "execution_count": 5,
   "metadata": {},
   "outputs": [
    {
     "data": {
      "text/plain": [
       "['Using built-in specs.',\n",
       " 'COLLECT_GCC=gcc',\n",
       " 'OFFLOAD_TARGET_NAMES=nvptx-none',\n",
       " 'OFFLOAD_TARGET_DEFAULT=1',\n",
       " 'Target: x86_64-linux-gnu',\n",
       " \"Configured with: ../src/configure -v --with-pkgversion='Ubuntu 7.3.0-27ubuntu1~18.04' --with-bugurl=file:///usr/share/doc/gcc-7/README.Bugs --enable-languages=c,ada,c++,go,brig,d,fortran,objc,obj-c++ --prefix=/usr --with-gcc-major-version-only --program-suffix=-7 --program-prefix=x86_64-linux-gnu- --enable-shared --enable-linker-build-id --libexecdir=/usr/lib --without-included-gettext --enable-threads=posix --libdir=/usr/lib --enable-nls --with-sysroot=/ --enable-clocale=gnu --enable-libstdcxx-debug --enable-libstdcxx-time=yes --with-default-libstdcxx-abi=new --enable-gnu-unique-object --disable-vtable-verify --enable-libmpx --enable-plugin --enable-default-pie --with-system-zlib --with-target-system-zlib --enable-objc-gc=auto --enable-multiarch --disable-werror --with-arch-32=i686 --with-abi=m64 --with-multilib-list=m32,m64,mx32 --enable-multilib --with-tune=generic --enable-offload-targets=nvptx-none --without-cuda-driver --enable-checking=release --build=x86_64-linux-gnu --host=x86_64-linux-gnu --target=x86_64-linux-gnu\",\n",
       " 'Thread model: posix',\n",
       " 'gcc version 7.3.0 (Ubuntu 7.3.0-27ubuntu1~18.04) ',\n",
       " \"COLLECT_GCC_OPTIONS='-v' '-c' '-o' 'minimal0.o' '-mtune=generic' '-march=x86-64'\",\n",
       " ' /usr/lib/gcc/x86_64-linux-gnu/7/cc1 -quiet -v -imultiarch x86_64-linux-gnu minimal0.c -quiet -dumpbase minimal0.c -mtune=generic -march=x86-64 -auxbase-strip minimal0.o -version -fstack-protector-strong -Wformat -Wformat-security -o /tmp/cc9TOiG3.s',\n",
       " 'GNU C11 (Ubuntu 7.3.0-27ubuntu1~18.04) version 7.3.0 (x86_64-linux-gnu)',\n",
       " '\\tcompiled by GNU C version 7.3.0, GMP version 6.1.2, MPFR version 4.0.1, MPC version 1.1.0, isl version isl-0.19-GMP',\n",
       " '',\n",
       " 'GGC heuristics: --param ggc-min-expand=100 --param ggc-min-heapsize=131072',\n",
       " 'ignoring nonexistent directory \"/usr/local/include/x86_64-linux-gnu\"',\n",
       " 'ignoring nonexistent directory \"/usr/lib/gcc/x86_64-linux-gnu/7/../../../../x86_64-linux-gnu/include\"',\n",
       " '#include \"...\" search starts here:',\n",
       " '#include <...> search starts here:',\n",
       " ' /usr/lib/gcc/x86_64-linux-gnu/7/include',\n",
       " ' /usr/local/include',\n",
       " ' /usr/lib/gcc/x86_64-linux-gnu/7/include-fixed',\n",
       " ' /usr/include/x86_64-linux-gnu',\n",
       " ' /usr/include',\n",
       " 'End of search list.',\n",
       " 'GNU C11 (Ubuntu 7.3.0-27ubuntu1~18.04) version 7.3.0 (x86_64-linux-gnu)',\n",
       " '\\tcompiled by GNU C version 7.3.0, GMP version 6.1.2, MPFR version 4.0.1, MPC version 1.1.0, isl version isl-0.19-GMP',\n",
       " '',\n",
       " 'GGC heuristics: --param ggc-min-expand=100 --param ggc-min-heapsize=131072',\n",
       " 'Compiler executable checksum: c8081a99abb72bbfd9129549110a350c',\n",
       " \"COLLECT_GCC_OPTIONS='-v' '-c' '-o' 'minimal0.o' '-mtune=generic' '-march=x86-64'\",\n",
       " ' as -v --64 -o minimal0.o /tmp/cc9TOiG3.s',\n",
       " 'GNU assembler version 2.30 (x86_64-linux-gnu) using BFD version (GNU Binutils for Ubuntu) 2.30',\n",
       " 'COMPILER_PATH=/usr/lib/gcc/x86_64-linux-gnu/7/:/usr/lib/gcc/x86_64-linux-gnu/7/:/usr/lib/gcc/x86_64-linux-gnu/:/usr/lib/gcc/x86_64-linux-gnu/7/:/usr/lib/gcc/x86_64-linux-gnu/',\n",
       " 'LIBRARY_PATH=/usr/lib/gcc/x86_64-linux-gnu/7/:/usr/lib/gcc/x86_64-linux-gnu/7/../../../x86_64-linux-gnu/:/usr/lib/gcc/x86_64-linux-gnu/7/../../../../lib/:/lib/x86_64-linux-gnu/:/lib/../lib/:/usr/lib/x86_64-linux-gnu/:/usr/lib/../lib/:/usr/lib/gcc/x86_64-linux-gnu/7/../../../:/lib/:/usr/lib/',\n",
       " \"COLLECT_GCC_OPTIONS='-v' '-c' '-o' 'minimal0.o' '-mtune=generic' '-march=x86-64'\"]"
      ]
     },
     "execution_count": 5,
     "metadata": {},
     "output_type": "execute_result"
    }
   ],
   "source": [
    "# Look at what is involved in compiling \n",
    "# the simplest possible program\n",
    "#\n",
    "# -c -> don't run the linker\n",
    "!! gcc --verbose -c minimal0.c -o minimal0.o"
   ]
  },
  {
   "cell_type": "code",
   "execution_count": 6,
   "metadata": {},
   "outputs": [
    {
     "data": {
      "text/plain": [
       "['-rw-r--r-- 1 bjackel bjackel   31 Jan 23 19:44 minimal0.c',\n",
       " '-rw-r--r-- 1 bjackel bjackel 1232 Jan 24 10:00 minimal0.o']"
      ]
     },
     "execution_count": 6,
     "metadata": {},
     "output_type": "execute_result"
    }
   ],
   "source": [
    "# a 31 byte source file results in \n",
    "# a 1232 byte object file\n",
    "#\n",
    "!! ls -al minimal0*"
   ]
  },
  {
   "cell_type": "code",
   "execution_count": 9,
   "metadata": {},
   "outputs": [
    {
     "data": {
      "text/plain": [
       "['-rwxr-xr-x 1 bjackel bjackel 8168 Jan 24 10:03 a.out']"
      ]
     },
     "execution_count": 9,
     "metadata": {},
     "output_type": "execute_result"
    }
   ],
   "source": [
    "# Compiling and linking produces a 8168 byte file\n",
    "#\n",
    "!! gcc minimal0.c\n",
    "!! ls -al minimal0.*\n",
    "!! ls -al a.out"
   ]
  },
  {
   "cell_type": "code",
   "execution_count": 20,
   "metadata": {},
   "outputs": [
    {
     "data": {
      "text/plain": [
       "['0000000000201010 B __bss_start',\n",
       " '0000000000201010 b completed.7696',\n",
       " '                 w __cxa_finalize@@GLIBC_2.2.5',\n",
       " '0000000000201000 D __data_start',\n",
       " '0000000000201000 W data_start',\n",
       " '0000000000000520 t deregister_tm_clones',\n",
       " '00000000000005b0 t __do_global_dtors_aux',\n",
       " '0000000000200df8 t __do_global_dtors_aux_fini_array_entry',\n",
       " '0000000000201008 D __dso_handle',\n",
       " '0000000000200e00 d _DYNAMIC',\n",
       " '0000000000201010 D _edata',\n",
       " '0000000000201018 B _end',\n",
       " '0000000000000684 T _fini',\n",
       " '00000000000005f0 t frame_dummy',\n",
       " '0000000000200df0 t __frame_dummy_init_array_entry',\n",
       " '00000000000007d4 r __FRAME_END__',\n",
       " '0000000000200fc0 d _GLOBAL_OFFSET_TABLE_',\n",
       " '                 w __gmon_start__',\n",
       " '0000000000000694 r __GNU_EH_FRAME_HDR',\n",
       " '00000000000004b8 T _init',\n",
       " '0000000000200df8 t __init_array_end',\n",
       " '0000000000200df0 t __init_array_start',\n",
       " '0000000000000690 R _IO_stdin_used',\n",
       " '                 w _ITM_deregisterTMCloneTable',\n",
       " '                 w _ITM_registerTMCloneTable',\n",
       " '0000000000000680 T __libc_csu_fini',\n",
       " '0000000000000610 T __libc_csu_init',\n",
       " '                 U __libc_start_main@@GLIBC_2.2.5',\n",
       " '00000000000005fa T main',\n",
       " '0000000000000560 t register_tm_clones',\n",
       " '00000000000004f0 T _start',\n",
       " '0000000000201010 D __TMC_END__']"
      ]
     },
     "execution_count": 20,
     "metadata": {},
     "output_type": "execute_result"
    }
   ],
   "source": [
    "!! nm --line-numbers a.out"
   ]
  },
  {
   "cell_type": "markdown",
   "metadata": {},
   "source": [
    "https://www.lynxbee.com/understanding-very-minimal-c-program-and-its-execution-in-ubuntu-linux/\n",
    "https://www.lynxbee.com/understanding-execution-of-very-minimal-c-program-in-linux-ubuntu/\n",
    "https://arvid.io/2016/04/04/minimal-makefile/\n"
   ]
  },
  {
   "cell_type": "code",
   "execution_count": 25,
   "metadata": {},
   "outputs": [
    {
     "data": {
      "text/plain": [
       "['',\n",
       " 'minimal0.o:     file format elf64-x86-64',\n",
       " 'minimal0.o',\n",
       " 'architecture: i386:x86-64, flags 0x00000011:',\n",
       " 'HAS_RELOC, HAS_SYMS',\n",
       " 'start address 0x0000000000000000',\n",
       " '',\n",
       " 'Sections:',\n",
       " 'Idx Name          Size      VMA               LMA               File off  Algn',\n",
       " '  0 .text         0000000b  0000000000000000  0000000000000000  00000040  2**0',\n",
       " '                  CONTENTS, ALLOC, LOAD, READONLY, CODE',\n",
       " '  1 .data         00000000  0000000000000000  0000000000000000  0000004b  2**0',\n",
       " '                  CONTENTS, ALLOC, LOAD, DATA',\n",
       " '  2 .bss          00000000  0000000000000000  0000000000000000  0000004b  2**0',\n",
       " '                  ALLOC',\n",
       " '  3 .comment      0000002b  0000000000000000  0000000000000000  0000004b  2**0',\n",
       " '                  CONTENTS, READONLY',\n",
       " '  4 .note.GNU-stack 00000000  0000000000000000  0000000000000000  00000076  2**0',\n",
       " '                  CONTENTS, READONLY',\n",
       " '  5 .eh_frame     00000038  0000000000000000  0000000000000000  00000078  2**3',\n",
       " '                  CONTENTS, ALLOC, LOAD, RELOC, READONLY, DATA',\n",
       " 'SYMBOL TABLE:',\n",
       " '0000000000000000 l    df *ABS*\\t0000000000000000 minimal0.c',\n",
       " '0000000000000000 l    d  .text\\t0000000000000000 .text',\n",
       " '0000000000000000 l    d  .data\\t0000000000000000 .data',\n",
       " '0000000000000000 l    d  .bss\\t0000000000000000 .bss',\n",
       " '0000000000000000 l    d  .note.GNU-stack\\t0000000000000000 .note.GNU-stack',\n",
       " '0000000000000000 l    d  .eh_frame\\t0000000000000000 .eh_frame',\n",
       " '0000000000000000 l    d  .comment\\t0000000000000000 .comment',\n",
       " '0000000000000000 g     F .text\\t000000000000000b main',\n",
       " '',\n",
       " '',\n",
       " 'RELOCATION RECORDS FOR [.eh_frame]:',\n",
       " 'OFFSET           TYPE              VALUE ',\n",
       " '0000000000000020 R_X86_64_PC32     .text',\n",
       " '',\n",
       " '',\n",
       " 'Contents of section .text:',\n",
       " ' 0000 554889e5 b8000000 005dc3             UH.......].     ',\n",
       " 'Contents of section .comment:',\n",
       " ' 0000 00474343 3a202855 62756e74 7520372e  .GCC: (Ubuntu 7.',\n",
       " ' 0010 332e302d 32377562 756e7475 317e3138  3.0-27ubuntu1~18',\n",
       " ' 0020 2e303429 20372e33 2e3000             .04) 7.3.0.     ',\n",
       " 'Contents of section .eh_frame:',\n",
       " ' 0000 14000000 00000000 017a5200 01781001  .........zR..x..',\n",
       " ' 0010 1b0c0708 90010000 1c000000 1c000000  ................',\n",
       " ' 0020 00000000 0b000000 00410e10 8602430d  .........A....C.',\n",
       " ' 0030 06460c07 08000000                    .F......        ']"
      ]
     },
     "execution_count": 25,
     "metadata": {},
     "output_type": "execute_result"
    }
   ],
   "source": [
    "!! objdump -sx minimal0.o"
   ]
  },
  {
   "cell_type": "code",
   "execution_count": 26,
   "metadata": {},
   "outputs": [
    {
     "data": {
      "text/plain": [
       "['',\n",
       " 'a.out:     file format elf64-x86-64',\n",
       " 'a.out',\n",
       " 'architecture: i386:x86-64, flags 0x00000150:',\n",
       " 'HAS_SYMS, DYNAMIC, D_PAGED',\n",
       " 'start address 0x00000000000004f0',\n",
       " '',\n",
       " 'Program Header:',\n",
       " '    PHDR off    0x0000000000000040 vaddr 0x0000000000000040 paddr 0x0000000000000040 align 2**3',\n",
       " '         filesz 0x00000000000001f8 memsz 0x00000000000001f8 flags r--',\n",
       " '  INTERP off    0x0000000000000238 vaddr 0x0000000000000238 paddr 0x0000000000000238 align 2**0',\n",
       " '         filesz 0x000000000000001c memsz 0x000000000000001c flags r--',\n",
       " '    LOAD off    0x0000000000000000 vaddr 0x0000000000000000 paddr 0x0000000000000000 align 2**21',\n",
       " '         filesz 0x00000000000007d8 memsz 0x00000000000007d8 flags r-x',\n",
       " '    LOAD off    0x0000000000000df0 vaddr 0x0000000000200df0 paddr 0x0000000000200df0 align 2**21',\n",
       " '         filesz 0x0000000000000220 memsz 0x0000000000000228 flags rw-',\n",
       " ' DYNAMIC off    0x0000000000000e00 vaddr 0x0000000000200e00 paddr 0x0000000000200e00 align 2**3',\n",
       " '         filesz 0x00000000000001c0 memsz 0x00000000000001c0 flags rw-',\n",
       " '    NOTE off    0x0000000000000254 vaddr 0x0000000000000254 paddr 0x0000000000000254 align 2**2',\n",
       " '         filesz 0x0000000000000044 memsz 0x0000000000000044 flags r--',\n",
       " 'EH_FRAME off    0x0000000000000694 vaddr 0x0000000000000694 paddr 0x0000000000000694 align 2**2',\n",
       " '         filesz 0x000000000000003c memsz 0x000000000000003c flags r--',\n",
       " '   STACK off    0x0000000000000000 vaddr 0x0000000000000000 paddr 0x0000000000000000 align 2**4',\n",
       " '         filesz 0x0000000000000000 memsz 0x0000000000000000 flags rw-',\n",
       " '   RELRO off    0x0000000000000df0 vaddr 0x0000000000200df0 paddr 0x0000000000200df0 align 2**0',\n",
       " '         filesz 0x0000000000000210 memsz 0x0000000000000210 flags r--',\n",
       " '',\n",
       " 'Dynamic Section:',\n",
       " '  NEEDED               libc.so.6',\n",
       " '  INIT                 0x00000000000004b8',\n",
       " '  FINI                 0x0000000000000684',\n",
       " '  INIT_ARRAY           0x0000000000200df0',\n",
       " '  INIT_ARRAYSZ         0x0000000000000008',\n",
       " '  FINI_ARRAY           0x0000000000200df8',\n",
       " '  FINI_ARRAYSZ         0x0000000000000008',\n",
       " '  GNU_HASH             0x0000000000000298',\n",
       " '  STRTAB               0x0000000000000348',\n",
       " '  SYMTAB               0x00000000000002b8',\n",
       " '  STRSZ                0x000000000000007d',\n",
       " '  SYMENT               0x0000000000000018',\n",
       " '  DEBUG                0x0000000000000000',\n",
       " '  PLTGOT               0x0000000000200fc0',\n",
       " '  RELA                 0x00000000000003f8',\n",
       " '  RELASZ               0x00000000000000c0',\n",
       " '  RELAENT              0x0000000000000018',\n",
       " '  FLAGS                0x0000000000000008',\n",
       " '  FLAGS_1              0x0000000008000001',\n",
       " '  VERNEED              0x00000000000003d8',\n",
       " '  VERNEEDNUM           0x0000000000000001',\n",
       " '  VERSYM               0x00000000000003c6',\n",
       " '  RELACOUNT            0x0000000000000003',\n",
       " '',\n",
       " 'Version References:',\n",
       " '  required from libc.so.6:',\n",
       " '    0x09691a75 0x00 02 GLIBC_2.2.5',\n",
       " '',\n",
       " 'Sections:',\n",
       " 'Idx Name          Size      VMA               LMA               File off  Algn',\n",
       " '  0 .interp       0000001c  0000000000000238  0000000000000238  00000238  2**0',\n",
       " '                  CONTENTS, ALLOC, LOAD, READONLY, DATA',\n",
       " '  1 .note.ABI-tag 00000020  0000000000000254  0000000000000254  00000254  2**2',\n",
       " '                  CONTENTS, ALLOC, LOAD, READONLY, DATA',\n",
       " '  2 .note.gnu.build-id 00000024  0000000000000274  0000000000000274  00000274  2**2',\n",
       " '                  CONTENTS, ALLOC, LOAD, READONLY, DATA',\n",
       " '  3 .gnu.hash     0000001c  0000000000000298  0000000000000298  00000298  2**3',\n",
       " '                  CONTENTS, ALLOC, LOAD, READONLY, DATA',\n",
       " '  4 .dynsym       00000090  00000000000002b8  00000000000002b8  000002b8  2**3',\n",
       " '                  CONTENTS, ALLOC, LOAD, READONLY, DATA',\n",
       " '  5 .dynstr       0000007d  0000000000000348  0000000000000348  00000348  2**0',\n",
       " '                  CONTENTS, ALLOC, LOAD, READONLY, DATA',\n",
       " '  6 .gnu.version  0000000c  00000000000003c6  00000000000003c6  000003c6  2**1',\n",
       " '                  CONTENTS, ALLOC, LOAD, READONLY, DATA',\n",
       " '  7 .gnu.version_r 00000020  00000000000003d8  00000000000003d8  000003d8  2**3',\n",
       " '                  CONTENTS, ALLOC, LOAD, READONLY, DATA',\n",
       " '  8 .rela.dyn     000000c0  00000000000003f8  00000000000003f8  000003f8  2**3',\n",
       " '                  CONTENTS, ALLOC, LOAD, READONLY, DATA',\n",
       " '  9 .init         00000017  00000000000004b8  00000000000004b8  000004b8  2**2',\n",
       " '                  CONTENTS, ALLOC, LOAD, READONLY, CODE',\n",
       " ' 10 .plt          00000010  00000000000004d0  00000000000004d0  000004d0  2**4',\n",
       " '                  CONTENTS, ALLOC, LOAD, READONLY, CODE',\n",
       " ' 11 .plt.got      00000008  00000000000004e0  00000000000004e0  000004e0  2**3',\n",
       " '                  CONTENTS, ALLOC, LOAD, READONLY, CODE',\n",
       " ' 12 .text         00000192  00000000000004f0  00000000000004f0  000004f0  2**4',\n",
       " '                  CONTENTS, ALLOC, LOAD, READONLY, CODE',\n",
       " ' 13 .fini         00000009  0000000000000684  0000000000000684  00000684  2**2',\n",
       " '                  CONTENTS, ALLOC, LOAD, READONLY, CODE',\n",
       " ' 14 .rodata       00000004  0000000000000690  0000000000000690  00000690  2**2',\n",
       " '                  CONTENTS, ALLOC, LOAD, READONLY, DATA',\n",
       " ' 15 .eh_frame_hdr 0000003c  0000000000000694  0000000000000694  00000694  2**2',\n",
       " '                  CONTENTS, ALLOC, LOAD, READONLY, DATA',\n",
       " ' 16 .eh_frame     00000108  00000000000006d0  00000000000006d0  000006d0  2**3',\n",
       " '                  CONTENTS, ALLOC, LOAD, READONLY, DATA',\n",
       " ' 17 .init_array   00000008  0000000000200df0  0000000000200df0  00000df0  2**3',\n",
       " '                  CONTENTS, ALLOC, LOAD, DATA',\n",
       " ' 18 .fini_array   00000008  0000000000200df8  0000000000200df8  00000df8  2**3',\n",
       " '                  CONTENTS, ALLOC, LOAD, DATA',\n",
       " ' 19 .dynamic      000001c0  0000000000200e00  0000000000200e00  00000e00  2**3',\n",
       " '                  CONTENTS, ALLOC, LOAD, DATA',\n",
       " ' 20 .got          00000040  0000000000200fc0  0000000000200fc0  00000fc0  2**3',\n",
       " '                  CONTENTS, ALLOC, LOAD, DATA',\n",
       " ' 21 .data         00000010  0000000000201000  0000000000201000  00001000  2**3',\n",
       " '                  CONTENTS, ALLOC, LOAD, DATA',\n",
       " ' 22 .bss          00000008  0000000000201010  0000000000201010  00001010  2**0',\n",
       " '                  ALLOC',\n",
       " ' 23 .comment      0000002a  0000000000000000  0000000000000000  00001010  2**0',\n",
       " '                  CONTENTS, READONLY',\n",
       " 'SYMBOL TABLE:',\n",
       " '0000000000000238 l    d  .interp\\t0000000000000000              .interp',\n",
       " '0000000000000254 l    d  .note.ABI-tag\\t0000000000000000              .note.ABI-tag',\n",
       " '0000000000000274 l    d  .note.gnu.build-id\\t0000000000000000              .note.gnu.build-id',\n",
       " '0000000000000298 l    d  .gnu.hash\\t0000000000000000              .gnu.hash',\n",
       " '00000000000002b8 l    d  .dynsym\\t0000000000000000              .dynsym',\n",
       " '0000000000000348 l    d  .dynstr\\t0000000000000000              .dynstr',\n",
       " '00000000000003c6 l    d  .gnu.version\\t0000000000000000              .gnu.version',\n",
       " '00000000000003d8 l    d  .gnu.version_r\\t0000000000000000              .gnu.version_r',\n",
       " '00000000000003f8 l    d  .rela.dyn\\t0000000000000000              .rela.dyn',\n",
       " '00000000000004b8 l    d  .init\\t0000000000000000              .init',\n",
       " '00000000000004d0 l    d  .plt\\t0000000000000000              .plt',\n",
       " '00000000000004e0 l    d  .plt.got\\t0000000000000000              .plt.got',\n",
       " '00000000000004f0 l    d  .text\\t0000000000000000              .text',\n",
       " '0000000000000684 l    d  .fini\\t0000000000000000              .fini',\n",
       " '0000000000000690 l    d  .rodata\\t0000000000000000              .rodata',\n",
       " '0000000000000694 l    d  .eh_frame_hdr\\t0000000000000000              .eh_frame_hdr',\n",
       " '00000000000006d0 l    d  .eh_frame\\t0000000000000000              .eh_frame',\n",
       " '0000000000200df0 l    d  .init_array\\t0000000000000000              .init_array',\n",
       " '0000000000200df8 l    d  .fini_array\\t0000000000000000              .fini_array',\n",
       " '0000000000200e00 l    d  .dynamic\\t0000000000000000              .dynamic',\n",
       " '0000000000200fc0 l    d  .got\\t0000000000000000              .got',\n",
       " '0000000000201000 l    d  .data\\t0000000000000000              .data',\n",
       " '0000000000201010 l    d  .bss\\t0000000000000000              .bss',\n",
       " '0000000000000000 l    d  .comment\\t0000000000000000              .comment',\n",
       " '0000000000000000 l    df *ABS*\\t0000000000000000              crtstuff.c',\n",
       " '0000000000000520 l     F .text\\t0000000000000000              deregister_tm_clones',\n",
       " '0000000000000560 l     F .text\\t0000000000000000              register_tm_clones',\n",
       " '00000000000005b0 l     F .text\\t0000000000000000              __do_global_dtors_aux',\n",
       " '0000000000201010 l     O .bss\\t0000000000000001              completed.7696',\n",
       " '0000000000200df8 l     O .fini_array\\t0000000000000000              __do_global_dtors_aux_fini_array_entry',\n",
       " '00000000000005f0 l     F .text\\t0000000000000000              frame_dummy',\n",
       " '0000000000200df0 l     O .init_array\\t0000000000000000              __frame_dummy_init_array_entry',\n",
       " '0000000000000000 l    df *ABS*\\t0000000000000000              minimal0.c',\n",
       " '0000000000000000 l    df *ABS*\\t0000000000000000              crtstuff.c',\n",
       " '00000000000007d4 l     O .eh_frame\\t0000000000000000              __FRAME_END__',\n",
       " '0000000000000000 l    df *ABS*\\t0000000000000000              ',\n",
       " '0000000000200df8 l       .init_array\\t0000000000000000              __init_array_end',\n",
       " '0000000000200e00 l     O .dynamic\\t0000000000000000              _DYNAMIC',\n",
       " '0000000000200df0 l       .init_array\\t0000000000000000              __init_array_start',\n",
       " '0000000000000694 l       .eh_frame_hdr\\t0000000000000000              __GNU_EH_FRAME_HDR',\n",
       " '0000000000200fc0 l     O .got\\t0000000000000000              _GLOBAL_OFFSET_TABLE_',\n",
       " '0000000000000680 g     F .text\\t0000000000000002              __libc_csu_fini',\n",
       " '0000000000000000  w      *UND*\\t0000000000000000              _ITM_deregisterTMCloneTable',\n",
       " '0000000000201000  w      .data\\t0000000000000000              data_start',\n",
       " '0000000000201010 g       .data\\t0000000000000000              _edata',\n",
       " '0000000000000684 g     F .fini\\t0000000000000000              _fini',\n",
       " '0000000000000000       F *UND*\\t0000000000000000              __libc_start_main@@GLIBC_2.2.5',\n",
       " '0000000000201000 g       .data\\t0000000000000000              __data_start',\n",
       " '0000000000000000  w      *UND*\\t0000000000000000              __gmon_start__',\n",
       " '0000000000201008 g     O .data\\t0000000000000000              .hidden __dso_handle',\n",
       " '0000000000000690 g     O .rodata\\t0000000000000004              _IO_stdin_used',\n",
       " '0000000000000610 g     F .text\\t0000000000000065              __libc_csu_init',\n",
       " '0000000000201018 g       .bss\\t0000000000000000              _end',\n",
       " '00000000000004f0 g     F .text\\t000000000000002b              _start',\n",
       " '0000000000201010 g       .bss\\t0000000000000000              __bss_start',\n",
       " '00000000000005fa g     F .text\\t000000000000000b              main',\n",
       " '0000000000201010 g     O .data\\t0000000000000000              .hidden __TMC_END__',\n",
       " '0000000000000000  w      *UND*\\t0000000000000000              _ITM_registerTMCloneTable',\n",
       " '0000000000000000  w    F *UND*\\t0000000000000000              __cxa_finalize@@GLIBC_2.2.5',\n",
       " '00000000000004b8 g     F .init\\t0000000000000000              _init',\n",
       " '',\n",
       " '',\n",
       " 'Contents of section .interp:',\n",
       " ' 0238 2f6c6962 36342f6c 642d6c69 6e75782d  /lib64/ld-linux-',\n",
       " ' 0248 7838362d 36342e73 6f2e3200           x86-64.so.2.    ',\n",
       " 'Contents of section .note.ABI-tag:',\n",
       " ' 0254 04000000 10000000 01000000 474e5500  ............GNU.',\n",
       " ' 0264 00000000 03000000 02000000 00000000  ................',\n",
       " 'Contents of section .note.gnu.build-id:',\n",
       " ' 0274 04000000 14000000 03000000 474e5500  ............GNU.',\n",
       " ' 0284 7e513627 2ff292b5 03c5f739 d8fc9e22  ~Q6\\'/......9...\"',\n",
       " ' 0294 4af73b52                             J.;R            ',\n",
       " 'Contents of section .gnu.hash:',\n",
       " ' 0298 01000000 01000000 01000000 00000000  ................',\n",
       " ' 02a8 00000000 00000000 00000000           ............    ',\n",
       " 'Contents of section .dynsym:',\n",
       " ' 02b8 00000000 00000000 00000000 00000000  ................',\n",
       " ' 02c8 00000000 00000000 38000000 20000000  ........8... ...',\n",
       " ' 02d8 00000000 00000000 00000000 00000000  ................',\n",
       " ' 02e8 1a000000 12000000 00000000 00000000  ................',\n",
       " ' 02f8 00000000 00000000 54000000 20000000  ........T... ...',\n",
       " ' 0308 00000000 00000000 00000000 00000000  ................',\n",
       " ' 0318 63000000 20000000 00000000 00000000  c... ...........',\n",
       " ' 0328 00000000 00000000 0b000000 22000000  ............\"...',\n",
       " ' 0338 00000000 00000000 00000000 00000000  ................',\n",
       " 'Contents of section .dynstr:',\n",
       " ' 0348 006c6962 632e736f 2e36005f 5f637861  .libc.so.6.__cxa',\n",
       " ' 0358 5f66696e 616c697a 65005f5f 6c696263  _finalize.__libc',\n",
       " ' 0368 5f737461 72745f6d 61696e00 474c4942  _start_main.GLIB',\n",
       " ' 0378 435f322e 322e3500 5f49544d 5f646572  C_2.2.5._ITM_der',\n",
       " ' 0388 65676973 74657254 4d436c6f 6e655461  egisterTMCloneTa',\n",
       " ' 0398 626c6500 5f5f676d 6f6e5f73 74617274  ble.__gmon_start',\n",
       " ' 03a8 5f5f005f 49544d5f 72656769 73746572  __._ITM_register',\n",
       " ' 03b8 544d436c 6f6e6554 61626c65 00        TMCloneTable.   ',\n",
       " 'Contents of section .gnu.version:',\n",
       " ' 03c6 00000000 02000000 00000200           ............    ',\n",
       " 'Contents of section .gnu.version_r:',\n",
       " ' 03d8 01000100 01000000 10000000 00000000  ................',\n",
       " ' 03e8 751a6909 00000200 2c000000 00000000  u.i.....,.......',\n",
       " 'Contents of section .rela.dyn:',\n",
       " ' 03f8 f00d2000 00000000 08000000 00000000  .. .............',\n",
       " ' 0408 f0050000 00000000 f80d2000 00000000  .......... .....',\n",
       " ' 0418 08000000 00000000 b0050000 00000000  ................',\n",
       " ' 0428 08102000 00000000 08000000 00000000  .. .............',\n",
       " ' 0438 08102000 00000000 d80f2000 00000000  .. ....... .....',\n",
       " ' 0448 06000000 01000000 00000000 00000000  ................',\n",
       " ' 0458 e00f2000 00000000 06000000 02000000  .. .............',\n",
       " ' 0468 00000000 00000000 e80f2000 00000000  .......... .....',\n",
       " ' 0478 06000000 03000000 00000000 00000000  ................',\n",
       " ' 0488 f00f2000 00000000 06000000 04000000  .. .............',\n",
       " ' 0498 00000000 00000000 f80f2000 00000000  .......... .....',\n",
       " ' 04a8 06000000 05000000 00000000 00000000  ................',\n",
       " 'Contents of section .init:',\n",
       " ' 04b8 4883ec08 488b0525 0b200048 85c07402  H...H..%. .H..t.',\n",
       " ' 04c8 ffd04883 c408c3                      ..H....         ',\n",
       " 'Contents of section .plt:',\n",
       " ' 04d0 ff35f20a 2000ff25 f40a2000 0f1f4000  .5.. ..%.. ...@.',\n",
       " 'Contents of section .plt.got:',\n",
       " ' 04e0 ff25120b 20006690                    .%.. .f.        ',\n",
       " 'Contents of section .text:',\n",
       " ' 04f0 31ed4989 d15e4889 e24883e4 f050544c  1.I..^H..H...PTL',\n",
       " ' 0500 8d057a01 0000488d 0d030100 00488d3d  ..z...H......H.=',\n",
       " ' 0510 e6000000 ff15c60a 2000f40f 1f440000  ........ ....D..',\n",
       " ' 0520 488d3de9 0a200055 488d05e1 0a200048  H.=.. .UH.... .H',\n",
       " ' 0530 39f84889 e5741948 8b059a0a 20004885  9.H..t.H.... .H.',\n",
       " ' 0540 c0740d5d ffe0662e 0f1f8400 00000000  .t.]..f.........',\n",
       " ' 0550 5dc30f1f 4000662e 0f1f8400 00000000  ]...@.f.........',\n",
       " ' 0560 488d3da9 0a200048 8d35a20a 20005548  H.=.. .H.5.. .UH',\n",
       " ' 0570 29fe4889 e548c1fe 034889f0 48c1e83f  ).H..H...H..H..?',\n",
       " ' 0580 4801c648 d1fe7418 488b0561 0a200048  H..H..t.H..a. .H',\n",
       " ' 0590 85c0740c 5dffe066 0f1f8400 00000000  ..t.]..f........',\n",
       " ' 05a0 5dc30f1f 4000662e 0f1f8400 00000000  ]...@.f.........',\n",
       " ' 05b0 803d590a 20000075 2f48833d 370a2000  .=Y. ..u/H.=7. .',\n",
       " ' 05c0 00554889 e5740c48 8b3d3a0a 2000e80d  .UH..t.H.=:. ...',\n",
       " ' 05d0 ffffffe8 48ffffff c605310a 2000015d  ....H.....1. ..]',\n",
       " ' 05e0 c30f1f80 00000000 f3c3660f 1f440000  ..........f..D..',\n",
       " ' 05f0 554889e5 5de966ff ffff5548 89e5b800  UH..].f...UH....',\n",
       " ' 0600 0000005d c3662e0f 1f840000 00000090  ...].f..........',\n",
       " ' 0610 41574156 4989d741 5541544c 8d25ce07  AWAVI..AUATL.%..',\n",
       " ' 0620 20005548 8d2dce07 20005341 89fd4989   .UH.-.. .SA..I.',\n",
       " ' 0630 f64c29e5 4883ec08 48c1fd03 e877feff  .L).H...H....w..',\n",
       " ' 0640 ff4885ed 742031db 0f1f8400 00000000  .H..t 1.........',\n",
       " ' 0650 4c89fa4c 89f64489 ef41ff14 dc4883c3  L..L..D..A...H..',\n",
       " ' 0660 014839dd 75ea4883 c4085b5d 415c415d  .H9.u.H...[]A\\\\A]',\n",
       " ' 0670 415e415f c390662e 0f1f8400 00000000  A^A_..f.........',\n",
       " ' 0680 f3c3                                 ..              ',\n",
       " 'Contents of section .fini:',\n",
       " ' 0684 4883ec08 4883c408 c3                 H...H....       ',\n",
       " 'Contents of section .rodata:',\n",
       " ' 0690 01000200                             ....            ',\n",
       " 'Contents of section .eh_frame_hdr:',\n",
       " ' 0694 011b033b 38000000 06000000 3cfeffff  ...;8.......<...',\n",
       " ' 06a4 84000000 4cfeffff ac000000 5cfeffff  ....L.......\\\\...',\n",
       " ' 06b4 54000000 66ffffff c4000000 7cffffff  T...f.......|...',\n",
       " ' 06c4 e4000000 ecffffff 2c010000           ........,...    ',\n",
       " 'Contents of section .eh_frame:',\n",
       " ' 06d0 14000000 00000000 017a5200 01781001  .........zR..x..',\n",
       " ' 06e0 1b0c0708 90010710 14000000 1c000000  ................',\n",
       " ' 06f0 00feffff 2b000000 00000000 00000000  ....+...........',\n",
       " ' 0700 14000000 00000000 017a5200 01781001  .........zR..x..',\n",
       " ' 0710 1b0c0708 90010000 24000000 1c000000  ........$.......',\n",
       " ' 0720 b0fdffff 10000000 000e1046 0e184a0f  ...........F..J.',\n",
       " ' 0730 0b770880 003f1a3b 2a332422 00000000  .w...?.;*3$\"....',\n",
       " ' 0740 14000000 44000000 98fdffff 08000000  ....D...........',\n",
       " ' 0750 00000000 00000000 1c000000 5c000000  ............\\\\...',\n",
       " ' 0760 9afeffff 0b000000 00410e10 8602430d  .........A....C.',\n",
       " ' 0770 06460c07 08000000 44000000 7c000000  .F......D...|...',\n",
       " ' 0780 90feffff 65000000 00420e10 8f02420e  ....e....B....B.',\n",
       " ' 0790 188e0345 0e208d04 420e288c 05480e30  ...E. ..B.(..H.0',\n",
       " ' 07a0 8606480e 3883074d 0e40720e 38410e30  ..H.8..M.@r.8A.0',\n",
       " ' 07b0 410e2842 0e20420e 18420e10 420e0800  A.(B. B..B..B...',\n",
       " ' 07c0 10000000 c4000000 b8feffff 02000000  ................',\n",
       " ' 07d0 00000000 00000000                    ........        ',\n",
       " 'Contents of section .init_array:',\n",
       " ' 200df0 f0050000 00000000                    ........        ',\n",
       " 'Contents of section .fini_array:',\n",
       " ' 200df8 b0050000 00000000                    ........        ',\n",
       " 'Contents of section .dynamic:',\n",
       " ' 200e00 01000000 00000000 01000000 00000000  ................',\n",
       " ' 200e10 0c000000 00000000 b8040000 00000000  ................',\n",
       " ' 200e20 0d000000 00000000 84060000 00000000  ................',\n",
       " ' 200e30 19000000 00000000 f00d2000 00000000  .......... .....',\n",
       " ' 200e40 1b000000 00000000 08000000 00000000  ................',\n",
       " ' 200e50 1a000000 00000000 f80d2000 00000000  .......... .....',\n",
       " ' 200e60 1c000000 00000000 08000000 00000000  ................',\n",
       " ' 200e70 f5feff6f 00000000 98020000 00000000  ...o............',\n",
       " ' 200e80 05000000 00000000 48030000 00000000  ........H.......',\n",
       " ' 200e90 06000000 00000000 b8020000 00000000  ................',\n",
       " ' 200ea0 0a000000 00000000 7d000000 00000000  ........}.......',\n",
       " ' 200eb0 0b000000 00000000 18000000 00000000  ................',\n",
       " ' 200ec0 15000000 00000000 00000000 00000000  ................',\n",
       " ' 200ed0 03000000 00000000 c00f2000 00000000  .......... .....',\n",
       " ' 200ee0 07000000 00000000 f8030000 00000000  ................',\n",
       " ' 200ef0 08000000 00000000 c0000000 00000000  ................',\n",
       " ' 200f00 09000000 00000000 18000000 00000000  ................',\n",
       " ' 200f10 1e000000 00000000 08000000 00000000  ................',\n",
       " ' 200f20 fbffff6f 00000000 01000008 00000000  ...o............',\n",
       " ' 200f30 feffff6f 00000000 d8030000 00000000  ...o............',\n",
       " ' 200f40 ffffff6f 00000000 01000000 00000000  ...o............',\n",
       " ' 200f50 f0ffff6f 00000000 c6030000 00000000  ...o............',\n",
       " ' 200f60 f9ffff6f 00000000 03000000 00000000  ...o............',\n",
       " ' 200f70 00000000 00000000 00000000 00000000  ................',\n",
       " ' 200f80 00000000 00000000 00000000 00000000  ................',\n",
       " ' 200f90 00000000 00000000 00000000 00000000  ................',\n",
       " ' 200fa0 00000000 00000000 00000000 00000000  ................',\n",
       " ' 200fb0 00000000 00000000 00000000 00000000  ................',\n",
       " 'Contents of section .got:',\n",
       " ' 200fc0 000e2000 00000000 00000000 00000000  .. .............',\n",
       " ' 200fd0 00000000 00000000 00000000 00000000  ................',\n",
       " ' 200fe0 00000000 00000000 00000000 00000000  ................',\n",
       " ' 200ff0 00000000 00000000 00000000 00000000  ................',\n",
       " 'Contents of section .data:',\n",
       " ' 201000 00000000 00000000 08102000 00000000  .......... .....',\n",
       " 'Contents of section .comment:',\n",
       " ' 0000 4743433a 20285562 756e7475 20372e33  GCC: (Ubuntu 7.3',\n",
       " ' 0010 2e302d32 37756275 6e747531 7e31382e  .0-27ubuntu1~18.',\n",
       " ' 0020 30342920 372e332e 3000               04) 7.3.0.      ']"
      ]
     },
     "execution_count": 26,
     "metadata": {},
     "output_type": "execute_result"
    }
   ],
   "source": [
    "!! objdump -sx a.out"
   ]
  },
  {
   "cell_type": "code",
   "execution_count": 31,
   "metadata": {},
   "outputs": [
    {
     "data": {
      "text/plain": [
       "['0000000000000000 b .bss',\n",
       " '0000000000000000 n .comment',\n",
       " '0000000000000000 d .data',\n",
       " '0000000000000000 r .eh_frame',\n",
       " '0000000000000000 T main',\n",
       " '0000000000000000 n .note.GNU-stack',\n",
       " '000000000000000b T plus1',\n",
       " '0000000000000000 a plus1.c',\n",
       " '0000000000000000 t .text']"
      ]
     },
     "execution_count": 31,
     "metadata": {},
     "output_type": "execute_result"
    }
   ],
   "source": [
    "!! nm --debug-syms --line-numbers plus1.o"
   ]
  },
  {
   "cell_type": "markdown",
   "metadata": {},
   "source": [
    "## ctypes\n",
    "https://docs.python.org/3/library/ctypes.html\n",
    "    \n",
    "ctypes is a foreign function library for Python. It provides C compatible data types, and allows calling functions in DLLs or shared libraries. It can be used to wrap these libraries in pure Python.\n",
    "\n",
    "### Fortran\n",
    "https://foreign-fortran.readthedocs.io/en/latest/python/ctypes.html"
   ]
  },
  {
   "cell_type": "code",
   "execution_count": 43,
   "metadata": {},
   "outputs": [
    {
     "data": {
      "text/plain": [
       "[]"
      ]
     },
     "execution_count": 43,
     "metadata": {},
     "output_type": "execute_result"
    }
   ],
   "source": [
    "#!! gcc --shared -c plus1.c -o plus1.so\n",
    "!! gcc --shared -o plus1.so -fPIC plus1.c"
   ]
  },
  {
   "cell_type": "code",
   "execution_count": 51,
   "metadata": {},
   "outputs": [],
   "source": [
    "import ctypes\n",
    "testlib = ctypes.CDLL('/home/bjackel/Dropbox/teach/physx81/sphinx/phys581/compile_link_fail/plus1.so')"
   ]
  },
  {
   "cell_type": "code",
   "execution_count": 52,
   "metadata": {},
   "outputs": [
    {
     "data": {
      "text/plain": [
       "2"
      ]
     },
     "execution_count": 52,
     "metadata": {},
     "output_type": "execute_result"
    }
   ],
   "source": [
    "testlib.plus1(1)"
   ]
  },
  {
   "cell_type": "code",
   "execution_count": 53,
   "metadata": {
    "scrolled": true
   },
   "outputs": [
    {
     "ename": "ArgumentError",
     "evalue": "argument 1: <class 'TypeError'>: Don't know how to convert parameter 1",
     "output_type": "error",
     "traceback": [
      "\u001b[0;31m---------------------------------------------------------------------------\u001b[0m",
      "\u001b[0;31mArgumentError\u001b[0m                             Traceback (most recent call last)",
      "\u001b[0;32m<ipython-input-53-3ea9f791dc9d>\u001b[0m in \u001b[0;36m<module>\u001b[0;34m()\u001b[0m\n\u001b[0;32m----> 1\u001b[0;31m \u001b[0mtestlib\u001b[0m\u001b[0;34m.\u001b[0m\u001b[0mplus1\u001b[0m\u001b[0;34m(\u001b[0m\u001b[0;36m1.0\u001b[0m\u001b[0;34m)\u001b[0m\u001b[0;34m\u001b[0m\u001b[0m\n\u001b[0m",
      "\u001b[0;31mArgumentError\u001b[0m: argument 1: <class 'TypeError'>: Don't know how to convert parameter 1"
     ]
    }
   ],
   "source": [
    "testlib.plus1(1.0)"
   ]
  },
  {
   "cell_type": "code",
   "execution_count": 54,
   "metadata": {},
   "outputs": [],
   "source": [
    "testlib.plus1.argtypes = [ctypes.c_int]"
   ]
  },
  {
   "cell_type": "code",
   "execution_count": 55,
   "metadata": {},
   "outputs": [
    {
     "ename": "ArgumentError",
     "evalue": "argument 1: <class 'TypeError'>: wrong type",
     "output_type": "error",
     "traceback": [
      "\u001b[0;31m---------------------------------------------------------------------------\u001b[0m",
      "\u001b[0;31mArgumentError\u001b[0m                             Traceback (most recent call last)",
      "\u001b[0;32m<ipython-input-55-3ea9f791dc9d>\u001b[0m in \u001b[0;36m<module>\u001b[0;34m()\u001b[0m\n\u001b[0;32m----> 1\u001b[0;31m \u001b[0mtestlib\u001b[0m\u001b[0;34m.\u001b[0m\u001b[0mplus1\u001b[0m\u001b[0;34m(\u001b[0m\u001b[0;36m1.0\u001b[0m\u001b[0;34m)\u001b[0m\u001b[0;34m\u001b[0m\u001b[0m\n\u001b[0m",
      "\u001b[0;31mArgumentError\u001b[0m: argument 1: <class 'TypeError'>: wrong type"
     ]
    }
   ],
   "source": [
    "testlib.plus1(1.0)"
   ]
  },
  {
   "cell_type": "markdown",
   "metadata": {},
   "source": [
    "## make file\n",
    "https://bost.ocks.org/mike/make/\n",
    "https://kbroman.org/minimal_make/ \n"
   ]
  }
 ],
 "metadata": {
  "kernelspec": {
   "display_name": "Python 3",
   "language": "python",
   "name": "python3"
  },
  "language_info": {
   "codemirror_mode": {
    "name": "ipython",
    "version": 3
   },
   "file_extension": ".py",
   "mimetype": "text/x-python",
   "name": "python",
   "nbconvert_exporter": "python",
   "pygments_lexer": "ipython3",
   "version": "3.7.1"
  }
 },
 "nbformat": 4,
 "nbformat_minor": 2
}
