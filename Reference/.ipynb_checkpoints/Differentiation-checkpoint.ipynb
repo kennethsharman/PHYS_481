{
 "cells": [
  {
   "cell_type": "markdown",
   "metadata": {},
   "source": [
    "## Symbolic Differentiation\n",
    "\n",
    "https://anaconda.org/anaconda/sympy\n",
    "\n",
    "http://docs.sympy.org/0.7.1/tutorial.html\n",
    "\n",
    "\n",
    "\\begin{equation} \\label{eq1}\n",
    "y = v_0 * t - \\frac{1}{2}g*t^2\n",
    "\\end{equation}\n",
    "\n",
    "\\begin{equation}\n",
    "\\frac{dy}{dt} = v_0 - g*t\n",
    "\\end{equation}"
   ]
  },
  {
   "cell_type": "code",
   "execution_count": 1,
   "metadata": {},
   "outputs": [
    {
     "name": "stdout",
     "output_type": "stream",
     "text": [
      "-g*t + v0\n"
     ]
    }
   ],
   "source": [
    "from sympy import (\n",
    "    symbols, # define symbols for symbolic math\n",
    "    diff, # differentiate expressions\n",
    "    integrate, # integrate expressions\n",
    "    Rational, # define rational numbers\n",
    "    lambdify, # turn symbolic functions into Python functions\n",
    ")\n",
    "t, v0, g = symbols('t v0 g')\n",
    "y = v0*t - Rational(1,2)*g*t**2\n",
    "dydt = diff(y, t)\n",
    "print(dydt)"
   ]
  },
  {
   "cell_type": "markdown",
   "metadata": {},
   "source": [
    "\\begin{equation}\n",
    "y = x^3\n",
    "\\end{equation}\n",
    "\n",
    "\\begin{equation}\n",
    "\\frac{dy}{dt} = 3 x^2 \n",
    "\\end{equation}"
   ]
  },
  {
   "cell_type": "code",
   "execution_count": 2,
   "metadata": {},
   "outputs": [
    {
     "name": "stdout",
     "output_type": "stream",
     "text": [
      "3*x**2\n"
     ]
    }
   ],
   "source": [
    "x = symbols('x')\n",
    "y1 = x**3\n",
    "print(diff(y1, x))"
   ]
  },
  {
   "cell_type": "markdown",
   "metadata": {},
   "source": [
    "\\begin{equation}\n",
    "\\int x^4 dx = \\frac{x^5}{5}\n",
    "\\end{equation}"
   ]
  },
  {
   "cell_type": "code",
   "execution_count": 3,
   "metadata": {},
   "outputs": [
    {
     "name": "stdout",
     "output_type": "stream",
     "text": [
      "x**5/5\n"
     ]
    }
   ],
   "source": [
    "y2 = integrate(x**4, x)\n",
    "print(y2)"
   ]
  },
  {
   "cell_type": "code",
   "execution_count": 4,
   "metadata": {},
   "outputs": [
    {
     "name": "stdout",
     "output_type": "stream",
     "text": [
      "v = -9.81(0) + 5.0 = 5.0\n"
     ]
    }
   ],
   "source": [
    "# Lambdify transforms symbolic expressions to Python functions\n",
    "# From above dydt = -g*t + v0\n",
    "v = lambdify([t, v0, g],\n",
    "            dydt)\n",
    "print( 'v = -9.81(0) + 5.0 =' , v(0.0, 5.0, 9.81))"
   ]
  },
  {
   "cell_type": "markdown",
   "metadata": {},
   "source": [
    "### Equation Solving"
   ]
  },
  {
   "cell_type": "code",
   "execution_count": 5,
   "metadata": {},
   "outputs": [
    {
     "name": "stdout",
     "output_type": "stream",
     "text": [
      "Roots of -g*t**2/2 + t*v0 are [0, 2*v0/g]\n"
     ]
    }
   ],
   "source": [
    "from sympy import solve\n",
    "\n",
    "# Find roots of y = v0*t - 0.5*g*t**2\n",
    "roots = solve(y,t)\n",
    "print('Roots of', y, 'are', roots)"
   ]
  },
  {
   "cell_type": "code",
   "execution_count": 6,
   "metadata": {},
   "outputs": [
    {
     "data": {
      "text/plain": [
       "0"
      ]
     },
     "execution_count": 6,
     "metadata": {},
     "output_type": "execute_result"
    }
   ],
   "source": [
    "# Verify that these are the roots\n",
    "y.subs(t, roots[0])"
   ]
  },
  {
   "cell_type": "code",
   "execution_count": 7,
   "metadata": {},
   "outputs": [
    {
     "data": {
      "text/plain": [
       "0"
      ]
     },
     "execution_count": 7,
     "metadata": {},
     "output_type": "execute_result"
    }
   ],
   "source": [
    "y.subs(t, roots[1])"
   ]
  },
  {
   "cell_type": "markdown",
   "metadata": {},
   "source": [
    "### Taylor Series\n",
    "\n",
    "A Taylor polynomial of order $n$ for an expressions $e$ in a variable $t$ around the point $t_0$ is computed by $e.series(t, t_0, n)$"
   ]
  },
  {
   "cell_type": "code",
   "execution_count": 8,
   "metadata": {},
   "outputs": [
    {
     "name": "stdout",
     "output_type": "stream",
     "text": [
      "1 + t + t**2/2 + O(t**3)\n"
     ]
    }
   ],
   "source": [
    "# Taylor series of e**t\n",
    "\n",
    "from sympy import exp, sin, cos\n",
    "\n",
    "f = exp(t)\n",
    "print(f.series(t, 0, 3))"
   ]
  },
  {
   "cell_type": "code",
   "execution_count": 9,
   "metadata": {},
   "outputs": [
    {
     "name": "stdout",
     "output_type": "stream",
     "text": [
      "1 + t + t**2/2 - t**4/8 - t**5/15 - t**6/240 + t**7/90 + O(t**8)\n"
     ]
    }
   ],
   "source": [
    "# Taylor series of e**sin(t)\n",
    "f = exp(sin(t))\n",
    "print(f.series(t, 0, 8))"
   ]
  },
  {
   "cell_type": "markdown",
   "metadata": {},
   "source": [
    "## Forward Difference Differentiation"
   ]
  },
  {
   "cell_type": "code",
   "execution_count": 10,
   "metadata": {},
   "outputs": [],
   "source": [
    "class Derivative(object):\n",
    "    '''\n",
    "    Sourced from A Primer on Scientific Programming with Python, 5e. Hans Petter Langtangen\n",
    "    '''\n",
    "    \n",
    "    def __init__(self, f, h=1E-5):\n",
    "        self.f = f\n",
    "        self.h = float(h) # avoid potential integer division\n",
    "        \n",
    "    def __call__(self, x):\n",
    "        f, h = self.f, self.h # make short forms\n",
    "        return (f(x+h) - f(x))/h"
   ]
  },
  {
   "cell_type": "code",
   "execution_count": 11,
   "metadata": {},
   "outputs": [
    {
     "name": "stdout",
     "output_type": "stream",
     "text": [
      "Calculated derivative of sin(pi) = -0.9999999999898844\n",
      "Compare to exact value of cos(pi) = -1.0 \n",
      "\n",
      "Calculated derivative of t^3 with t=1: 3.000030000110953\n",
      "Exact value of 3(1)^2 = 3\n"
     ]
    }
   ],
   "source": [
    "from math import sin, cos, pi\n",
    "df = Derivative(sin)\n",
    "x = pi\n",
    "print('Calculated derivative of sin(pi) =', df(x))\n",
    "print('Compare to exact value of cos(pi) =', cos(x), '\\n')\n",
    "\n",
    "def g(t):\n",
    "    return t**3\n",
    "dg = Derivative(g)\n",
    "t = 1\n",
    "print('Calculated derivative of t^3 with t=1:', dg(t))\n",
    "print('Exact value of 3(1)^2 = 3')"
   ]
  },
  {
   "cell_type": "code",
   "execution_count": 12,
   "metadata": {},
   "outputs": [],
   "source": [
    "def test_Derivative():\n",
    "    '''\n",
    "    Test is based on the fact that the forward difference algorithm is exact for linear functions\n",
    "    '''\n",
    "    f = lambda x: a*x + b\n",
    "    a = 3.5; b = 8\n",
    "    dfdx = Derivative(f, h=0.5)\n",
    "    diff = abs(dfdx(4.5) - a)\n",
    "    assert diff < 1E-14, 'bug in class Derivative, diff=%s' % diff\n",
    "    \n",
    "test_Derivative()"
   ]
  },
  {
   "cell_type": "markdown",
   "metadata": {},
   "source": [
    "### Central Difference Differentiation (Scipy)"
   ]
  },
  {
   "cell_type": "code",
   "execution_count": 13,
   "metadata": {},
   "outputs": [
    {
     "data": {
      "text/plain": [
       "4.999999999418563"
      ]
     },
     "execution_count": 13,
     "metadata": {},
     "output_type": "execute_result"
    }
   ],
   "source": [
    "from scipy.misc import derivative\n",
    "\n",
    "# scipy.misc.derivative(func, x0, dx=1.0, n=1, args=(), order=3)\n",
    "# x0 : float. The point at which n-th derivative is found.\n",
    "# n : int, optional. Order of the derivative. Default is 1.\n",
    "\n",
    "def function(x):\n",
    "    return x**3 + x**2\n",
    "\n",
    "derivative(function, 1.0, dx=1e-6, order=17)"
   ]
  },
  {
   "cell_type": "code",
   "execution_count": 15,
   "metadata": {},
   "outputs": [
    {
     "data": {
      "image/png": "[encoded data removed]",
      "text/plain": [
       "<matplotlib.figure.Figure at 0x2ccd3de7c18>"
      ]
     },
     "metadata": {},
     "output_type": "display_data"
    }
   ],
   "source": [
    "from matplotlib import pyplot as plt\n",
    "import numpy as np\n",
    "\n",
    "def my_func(x):\n",
    "    return x**3\n",
    "\n",
    "x_vals = np.linspace(-10, 10, 10**4)\n",
    "y_vals = function(x_vals)\n",
    "#calc_y_prime = lambda x: derivative(my_func, x, dx=1e-6, order=17)\n",
    "#y_prime = calc_y_prime(x_vals)\n",
    "y_prime = derivative(my_func, x_vals, dx=1e-6, order=17)  \n",
    "\n",
    "fig = plt.figure(figsize=(15,6))\n",
    "ax = plt.subplot()\n",
    "\n",
    "ax.grid(linestyle='dashed')\n",
    "\n",
    "plt.xlabel('X Values')\n",
    "plt.ylabel('Y Values')\n",
    "plt.title('f(x) = $x^3$ and f\\'(x) = $3x^2$')\n",
    "\n",
    "ax.set_xticks([-6, -4, -2, 0, 2, 4, 6])\n",
    "ax.set_xticklabels(['$-6$', '$-4$', '$-2$', '$0$', '$+2$', '$+4$', '$+6$'])\n",
    "\n",
    "plt.plot(x_vals, y_vals, label='f(x) = $x^3$')\n",
    "plt.plot(x_vals, y_prime, label='f\\'(x) = $3x^2$')\n",
    "plt.xlim(-6.2, 6.2)\n",
    "plt.ylim(-10, 50)\n",
    "\n",
    "# Add x and y-axis to the plot\n",
    "plt.axhline(y=0, color='k')\n",
    "plt.axvline(x=0, color='k')\n",
    "    \n",
    "legend = plt.legend(loc=5, fontsize='x-large', shadow=(True), borderaxespad=3)\n",
    "frame = legend.get_frame()\n",
    "frame.set_facecolor('#f9f9f9')\n",
    "frame.set_alpha(0.6)\n",
    "\n",
    "plt.show()"
   ]
  },
  {
   "cell_type": "markdown",
   "metadata": {},
   "source": [
    "### References\n",
    "\n",
    "A Primer on Scientific Programming with Python,\n",
    "5e. \n",
    "Hans Petter Langtangen"
   ]
  }
 ],
 "metadata": {
  "kernelspec": {
   "display_name": "Python 3",
   "language": "python",
   "name": "python3"
  },
  "language_info": {
   "codemirror_mode": {
    "name": "ipython",
    "version": 3
   },
   "file_extension": ".py",
   "mimetype": "text/x-python",
   "name": "python",
   "nbconvert_exporter": "python",
   "pygments_lexer": "ipython3",
   "version": "3.6.3"
  }
 },
 "nbformat": 4,
 "nbformat_minor": 2
}
