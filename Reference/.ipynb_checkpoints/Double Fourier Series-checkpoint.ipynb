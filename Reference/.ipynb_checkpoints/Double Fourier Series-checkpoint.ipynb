{
 "cells": [
  {
   "cell_type": "code",
   "execution_count": 1,
   "metadata": {},
   "outputs": [],
   "source": [
    "import numpy as np\n",
    "from matplotlib import pyplot as plt\n",
    "from scipy.integrate import quad\n",
    "\n",
    "# DO WITH QUAD NEXT !!!! quad(func, a, b, args=())"
   ]
  },
  {
   "cell_type": "markdown",
   "metadata": {},
   "source": [
    " $$ \\int_{x=a}^{x=b} \\int_{g(x)}^{h(x)} f(y) dydx = \\int_{0}^{1} \\int_{0}^{x} x*y dydx = 1/8 = 0.125 $$"
   ]
  },
  {
   "cell_type": "code",
   "execution_count": 8,
   "metadata": {},
   "outputs": [
    {
     "data": {
      "text/plain": [
       "0.125"
      ]
     },
     "execution_count": 8,
     "metadata": {},
     "output_type": "execute_result"
    }
   ],
   "source": [
    "import scipy.integrate as integrate\n",
    "\n",
    "\n",
    "def f(y, x): # y comes 1st bc it is integrated first\n",
    "    '''Integrand function'''\n",
    "    return x * y\n",
    "\n",
    "def g(x):\n",
    "    '''Function representing the lower bound on y'''\n",
    "    return 0.0\n",
    "\n",
    "def h(x):\n",
    "    '''Function representing the upper bound on y'''\n",
    "    return x\n",
    "\n",
    "def doubleIntegral(integrand, xLo, xHi, yLo, yHi, tol = 1e-6, divmax = 100, isShow = False):\n",
    "    '''\n",
    "    Computes the value of a double integral using scipy's romberg\n",
    "    Parameters:\n",
    "        integrand: function that is integrated \n",
    "        xLo: constant lower bound for x\n",
    "        xHi: constant upper bound for x\n",
    "        yLo: f(x) lower bound for y\n",
    "        yHi: f(x) upper bound for y\n",
    "        tol: Integration tolerances for both integrations, as fed into the scipy.integrate.romberg function.\n",
    "        divmax: divmax tolerances for both integrations, as fed into the scipy.integrate.romberg function.\n",
    "        isShow: Show the triangular integration matrix for the romberg function, for both integrals.\n",
    "    Returns the value of the double integral\n",
    "    '''\n",
    "    \n",
    "    def inner(x):\n",
    "        low, high = yLo(x), yHi(x)\n",
    "        return integrate.romberg(integrand, yLo(x), yHi(x), args=(x,), tol = tol, divmax = divmax, show = isShow)\n",
    "    return integrate.romberg(inner, xLo, xHi, tol = tol, divmax = divmax, show = isShow)\n",
    "\n",
    "doubleIntegral(f, 0.0, 1.0, g, h)"
   ]
  },
  {
   "cell_type": "code",
   "execution_count": null,
   "metadata": {},
   "outputs": [],
   "source": []
  }
 ],
 "metadata": {
  "kernelspec": {
   "display_name": "Python 3",
   "language": "python",
   "name": "python3"
  },
  "language_info": {
   "codemirror_mode": {
    "name": "ipython",
    "version": 3
   },
   "file_extension": ".py",
   "mimetype": "text/x-python",
   "name": "python",
   "nbconvert_exporter": "python",
   "pygments_lexer": "ipython3",
   "version": "3.6.3"
  }
 },
 "nbformat": 4,
 "nbformat_minor": 2
}
