{
 "cells": [
  {
   "cell_type": "markdown",
   "metadata": {},
   "source": [
    "## Integration\n",
    "\n",
    "### Trapezoidal Rule"
   ]
  },
  {
   "cell_type": "code",
   "execution_count": 1,
   "metadata": {},
   "outputs": [],
   "source": [
    "class Integral(object):\n",
    "    '''\n",
    "    Based on code from 'A Primer on Scientific Programming with Python', 5e. Hans Petter Langtangen\n",
    "    Uses the trapezoidal rule\n",
    "    '''\n",
    "    \n",
    "    def __init__(self, f, n=500):\n",
    "        self.f, self.n = f, n\n",
    "    def __call__(self, a, b):\n",
    "        h = (b-a)/float(self.n)\n",
    "        I = 0.5*self.f(a)\n",
    "        for i in range(1, self.n):\n",
    "            I += self.f(a + i*h)\n",
    "        I += 0.5*self.f(b)\n",
    "        I *= h\n",
    "        return I"
   ]
  },
  {
   "cell_type": "code",
   "execution_count": 2,
   "metadata": {},
   "outputs": [
    {
     "name": "stdout",
     "output_type": "stream",
     "text": [
      "82.68356984760848\n"
     ]
    }
   ],
   "source": [
    "from math import pi\n",
    "\n",
    "def function(x):\n",
    "    return x**2\n",
    "\n",
    "G = Integral(function)\n",
    "value = G(0, 2*pi)\n",
    "\n",
    "print(value)"
   ]
  },
  {
   "cell_type": "markdown",
   "metadata": {},
   "source": [
    "### Verification via Symbolic Computing\n",
    "\n",
    "Note: This was sourced directly from 'A Primer on Scientific Programming with Python', 5e. Hans Petter Langtangen. Wanted to have it as a reference in case I want to do something like this in the future. \n",
    "\n",
    "Note: Integral class is inefficient if used for plotting. Calculations are repeated for consecutive values of x. Optimize if planning to use for plotting."
   ]
  },
  {
   "cell_type": "code",
   "execution_count": 3,
   "metadata": {},
   "outputs": [
    {
     "name": "stdout",
     "output_type": "stream",
     "text": [
      "5*x + cos(x)\n"
     ]
    }
   ],
   "source": [
    "import sympy as sp\n",
    "from math import cos\n",
    "\n",
    "x = sp.Symbol('x')\n",
    "f_expr = sp.cos(x) + 5*x\n",
    "print(f_expr)"
   ]
  },
  {
   "cell_type": "code",
   "execution_count": 4,
   "metadata": {},
   "outputs": [
    {
     "name": "stdout",
     "output_type": "stream",
     "text": [
      "5*x**2/2 + sin(x)\n"
     ]
    }
   ],
   "source": [
    "F_expr = sp.integrate(f_expr, x)\n",
    "print(F_expr)"
   ]
  },
  {
   "cell_type": "code",
   "execution_count": 5,
   "metadata": {},
   "outputs": [
    {
     "name": "stdout",
     "output_type": "stream",
     "text": [
      "(5/2)(1)^2 + sin(1) = 3.3414709848078967\n"
     ]
    }
   ],
   "source": [
    "F = sp.lambdify([x], F_expr) # turn F_expr to F(x) function\n",
    "print('(5/2)(1)^2 + sin(1) =', F(1))"
   ]
  },
  {
   "cell_type": "code",
   "execution_count": 6,
   "metadata": {},
   "outputs": [],
   "source": [
    "# Using such functionality to do exact integration, we can write our test function as:\n",
    "def test_Integral():\n",
    "    # The Trapezoidal rule is exact for linear functions\n",
    "    import sympy as sp\n",
    "    x = sp.Symbol('x')\n",
    "    f_expr = 2*x + 5\n",
    "    # Turn sympy expression into plain Python function f(x)\n",
    "    f = sp.lambdify([x], f_expr)\n",
    "    # Find integral of f_expr and turn into plain Python function F\n",
    "    F_expr = sp.integrate(f_expr, x)\n",
    "    F = sp.lambdify([x], F_expr)\n",
    "    \n",
    "    a = 2\n",
    "    x = 6\n",
    "    exact = F(x) - F(a)\n",
    "    computed_F = Integral(f)\n",
    "    computed = computed_F(2, 6)\n",
    "    diff = abs(exact - computed)\n",
    "    tol = 1E-13\n",
    "    assert diff < tol, 'bug in class Integral, diff=%s' % diff\n",
    "\n",
    "test_Integral()"
   ]
  },
  {
   "cell_type": "markdown",
   "metadata": {},
   "source": [
    "## Numerical Integration (Scipy)\n",
    "\n",
    "### Romberg\n",
    "\n",
    "We will evaluate the following integral and compare with known value.\n",
    "\n",
    "$$ \\int_{x=a}^{x=b} \\int_{g(x)}^{h(x)} f(y) \\; dy \\, dx = \\int_{0}^{1} \\int_{0}^{x} xy \\; dy \\, dx = 1/8 = 0.125 $$"
   ]
  },
  {
   "cell_type": "code",
   "execution_count": 7,
   "metadata": {},
   "outputs": [
    {
     "name": "stdout",
     "output_type": "stream",
     "text": [
      "Result: 0.125\n"
     ]
    }
   ],
   "source": [
    "import numpy as np\n",
    "import scipy.integrate as integrate\n",
    "\n",
    "def f(y, x): # y comes 1st bc it is integrated first ie; dy dx\n",
    "    '''Integrand function'''\n",
    "    return x * y\n",
    "\n",
    "def g(x):\n",
    "    '''Function representing the lower bound on y'''\n",
    "    return 0.0\n",
    "\n",
    "def h(x):\n",
    "    '''Function representing the upper bound on y'''\n",
    "    return x\n",
    "\n",
    "def doubleIntegral(integrand, xLo, xHi, yLo, yHi, tol = 1e-6, divmax = 100, isShow = False):\n",
    "    '''\n",
    "    Computes the value of a double integral using scipy's romberg\n",
    "    Parameters:\n",
    "        integrand: function that is integrated \n",
    "        xLo, xHi: lower and upper bounds for x (constants)\n",
    "        yLo, yHi: f(x) lower and upper bounds for y (constant or f(x))\n",
    "        tol: Integration tolerances for x and y integration\n",
    "        divmax: divmax tolerances for both integrations\n",
    "        isShow: Show the triangular integration matrix for x and y integrals\n",
    "    Returns value of the double integral\n",
    "    '''\n",
    "    \n",
    "    def inner(x):\n",
    "        low, high = yLo(x), yHi(x)\n",
    "        return integrate.romberg(integrand, yLo(x), yHi(x), args=(x,), tol = tol, divmax = divmax, show = isShow)\n",
    "    return integrate.romberg(inner, xLo, xHi, tol = tol, divmax = divmax, show = isShow)\n",
    "\n",
    "integration_result = doubleIntegral(f, 0.0, 1.0, g, h)\n",
    "exact = 0.125\n",
    "diff = exact - integration_result\n",
    "assert diff < 1E-14, 'bug in class Derivative, diff=%s' % diff\n",
    "print('Result:', integration_result)"
   ]
  },
  {
   "cell_type": "markdown",
   "metadata": {},
   "source": [
    "### Quad"
   ]
  },
  {
   "cell_type": "code",
   "execution_count": 8,
   "metadata": {},
   "outputs": [
    {
     "name": "stdout",
     "output_type": "stream",
     "text": [
      "Integral of x^2 from 0 to 2*pi:  82.6834044807995\n",
      "Error in quad function:          9E-13\n"
     ]
    }
   ],
   "source": [
    "from scipy.integrate import quad\n",
    "\n",
    "def f(x):\n",
    "    return x**2\n",
    "\n",
    "integral, error = quad(f, 0, 2*pi)\n",
    "\n",
    "print('Integral of x^2 from 0 to 2*pi: % 1.13f'% integral)\n",
    "print('Error in quad function: %14.E'% error)"
   ]
  },
  {
   "cell_type": "code",
   "execution_count": 9,
   "metadata": {},
   "outputs": [
    {
     "name": "stdout",
     "output_type": "stream",
     "text": [
      "Result: -0.9879664387665512\n",
      "Exact: -0.9879664387667768\n"
     ]
    }
   ],
   "source": [
    "import numpy as np\n",
    "\n",
    "# Oscillatory integrands may cause quad to fail to converge using default settings\n",
    "# We can subdivide the integration range sufficiently\n",
    "# quad(np.cos, 0, 5000) <-- won't converge.\n",
    "result = quad(np.cos, 0, 5000, limit=1000)\n",
    "print('Result:', result[0])\n",
    "print('Exact:', np.sin(5000))"
   ]
  },
  {
   "cell_type": "code",
   "execution_count": 10,
   "metadata": {},
   "outputs": [
    {
     "data": {
      "text/plain": [
       "<matplotlib.figure.Figure at 0x21e972aad68>"
      ]
     },
     "metadata": {},
     "output_type": "display_data"
    }
   ],
   "source": [
    "from matplotlib import pyplot as plt\n",
    "from scipy.integrate import quad\n",
    "\n",
    "def func(x):\n",
    "    return 3*x**2\n",
    "\n",
    "x_max = np.linspace(-10, 10, 10**4)\n",
    "\n",
    "function = np.zeros(x_max.size)\n",
    "integral = np.zeros(x_max.size)\n",
    "\n",
    "for i in range(x_max.size):\n",
    "    function[i] = func(x_max[i])\n",
    "    integral[i], error = quad(func, 0, x_max[i])\n",
    "    \n",
    "fig = plt.figure(figsize=(15,6))\n",
    "ax = plt.subplot()\n",
    "\n",
    "ax.grid(linestyle='dashed')\n",
    "\n",
    "plt.xlabel('X Values')\n",
    "plt.ylabel('Y Values')\n",
    "plt.title('f(x) = $x^3$ and f\\'(x) = $3x^2$')\n",
    "\n",
    "ax.set_xticks([-6, -4, -2, 0, 2, 4, 6])\n",
    "ax.set_xticklabels(['$-6$', '$-4$', '$-2$', '$0$', '$+2$', '$+4$', '$+6$'])\n",
    "\n",
    "plt.plot(x_max, function, label='f(x) = $3x^2$')    \n",
    "plt.plot(x_max, integral, label='F(x) = $x^3$')\n",
    "\n",
    "plt.xlim(-6.2, 6.2)\n",
    "plt.ylim(-10, 50)\n",
    "\n",
    "# Add x and y-axis to the plot\n",
    "plt.axhline(y=0, color='k')\n",
    "plt.axvline(x=0, color='k')\n",
    "    \n",
    "legend = plt.legend(loc=5, fontsize='x-large', shadow=(True), borderaxespad=3)\n",
    "frame = legend.get_frame()\n",
    "frame.set_facecolor('#f9f9f9')\n",
    "frame.set_alpha(0.6)\n",
    "\n",
    "plt.show()"
   ]
  },
  {
   "cell_type": "markdown",
   "metadata": {},
   "source": [
    "### References\n",
    "A Primer on Scientific Programming with Python, 5e. Hans Petter Langtangen"
   ]
  }
 ],
 "metadata": {
  "kernelspec": {
   "display_name": "Python 3",
   "language": "python",
   "name": "python3"
  },
  "language_info": {
   "codemirror_mode": {
    "name": "ipython",
    "version": 3
   },
   "file_extension": ".py",
   "mimetype": "text/x-python",
   "name": "python",
   "nbconvert_exporter": "python",
   "pygments_lexer": "ipython3",
   "version": "3.6.3"
  }
 },
 "nbformat": 4,
 "nbformat_minor": 2
}
