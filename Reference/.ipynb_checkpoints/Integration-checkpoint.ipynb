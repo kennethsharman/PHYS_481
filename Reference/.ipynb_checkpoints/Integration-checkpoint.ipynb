{
 "cells": [
  {
   "cell_type": "markdown",
   "metadata": {},
   "source": [
    "### Trapezoidal Rule"
   ]
  },
  {
   "cell_type": "code",
   "execution_count": 1,
   "metadata": {},
   "outputs": [],
   "source": [
    "class Integral(object):\n",
    "    '''\n",
    "    Based on code from 'A Primer on Scientific Programming with Python', 5e. Hans Petter Langtangen\n",
    "    Uses the trapezoidal rule\n",
    "    '''\n",
    "    \n",
    "    def __init__(self, f, n=500):\n",
    "        self.f, self.n = f, n\n",
    "    def __call__(self, a, b):\n",
    "        h = (b-a)/float(self.n)\n",
    "        I = 0.5*self.f(a)\n",
    "        for i in range(1, self.n):\n",
    "            I += self.f(a + i*h)\n",
    "        I += 0.5*self.f(b)\n",
    "        I *= h\n",
    "        return I"
   ]
  },
  {
   "cell_type": "code",
   "execution_count": 2,
   "metadata": {},
   "outputs": [
    {
     "name": "stdout",
     "output_type": "stream",
     "text": [
      "82.68356984760848\n"
     ]
    }
   ],
   "source": [
    "from math import pi\n",
    "\n",
    "def function(x):\n",
    "    return x**2\n",
    "\n",
    "G = Integral(function)\n",
    "value = G(0, 2*pi)\n",
    "\n",
    "print(value)"
   ]
  },
  {
   "cell_type": "markdown",
   "metadata": {},
   "source": [
    "### Verification via Symbolic Computing\n",
    "\n",
    "Note: This was sourced directly from 'A Primer on Scientific Programming with Python', 5e. Hans Petter Langtangen. Wanted to have it as a reference in case I want to do something like this in the future. \n",
    "\n",
    "Note: Integral class is inefficient if used for plotting. Calculations are repeated for consecutive values of x. Optimize if planning to use for plotting."
   ]
  },
  {
   "cell_type": "code",
   "execution_count": 19,
   "metadata": {},
   "outputs": [
    {
     "name": "stdout",
     "output_type": "stream",
     "text": [
      "5*x + cos(x)\n"
     ]
    }
   ],
   "source": [
    "import sympy as sp\n",
    "from math import cos\n",
    "\n",
    "x = sp.Symbol('x')\n",
    "f_expr = sp.cos(x) + 5*x\n",
    "print(f_expr)"
   ]
  },
  {
   "cell_type": "code",
   "execution_count": 20,
   "metadata": {},
   "outputs": [
    {
     "name": "stdout",
     "output_type": "stream",
     "text": [
      "5*x**2/2 + sin(x)\n"
     ]
    }
   ],
   "source": [
    "F_expr = sp.integrate(f_expr, x)\n",
    "print(F_expr)"
   ]
  },
  {
   "cell_type": "code",
   "execution_count": 21,
   "metadata": {},
   "outputs": [
    {
     "name": "stdout",
     "output_type": "stream",
     "text": [
      "(5/2)(1)^2 + sin(1) = 3.3414709848078967\n"
     ]
    }
   ],
   "source": [
    "F = sp.lambdify([x], F_expr) # turn F_expr to F(x) function\n",
    "print('(5/2)(1)^2 + sin(1) =', F(1))"
   ]
  },
  {
   "cell_type": "code",
   "execution_count": 22,
   "metadata": {},
   "outputs": [],
   "source": [
    "# Using such functionality to do exact integration, we can write our test function as:\n",
    "def test_Integral():\n",
    "    # The Trapezoidal rule is exact for linear functions\n",
    "    import sympy as sp\n",
    "    x = sp.Symbol('x')\n",
    "    f_expr = 2*x + 5\n",
    "    # Turn sympy expression into plain Python function f(x)\n",
    "    f = sp.lambdify([x], f_expr)\n",
    "    # Find integral of f_expr and turn into plain Python function F\n",
    "    F_expr = sp.integrate(f_expr, x)\n",
    "    F = sp.lambdify([x], F_expr)\n",
    "    \n",
    "    a = 2\n",
    "    x = 6\n",
    "    exact = F(x) - F(a)\n",
    "    computed_F = Integral(f)\n",
    "    computed = computed_F(2, 6)\n",
    "    diff = abs(exact - computed)\n",
    "    tol = 1E-13\n",
    "    assert diff < tol, 'bug in class Integral, diff=%s' % diff\n",
    "\n",
    "test_Integral()"
   ]
  },
  {
   "cell_type": "code",
   "execution_count": null,
   "metadata": {},
   "outputs": [],
   "source": []
  }
 ],
 "metadata": {
  "kernelspec": {
   "display_name": "Python 3",
   "language": "python",
   "name": "python3"
  },
  "language_info": {
   "codemirror_mode": {
    "name": "ipython",
    "version": 3
   },
   "file_extension": ".py",
   "mimetype": "text/x-python",
   "name": "python",
   "nbconvert_exporter": "python",
   "pygments_lexer": "ipython3",
   "version": "3.6.3"
  }
 },
 "nbformat": 4,
 "nbformat_minor": 2
}
