{
 "cells": [
  {
   "cell_type": "code",
   "execution_count": 2,
   "metadata": {},
   "outputs": [],
   "source": [
    "import numpy as np\n",
    "import scipy.integrate as integrate\n",
    "\n",
    "def doubleIntegral(integrand, outerLo, outerHi, innerLo, innerHi, tol = 1e-6, divmax = 1000, isShow = False):\n",
    "    def inner(y):\n",
    "        return integrate.romberg(integrand, innerLo, innerHi, args=(y,), tol = tol, divmax = divmax, show = isShow)\n",
    "    return integrate.romberg(inner, outerLo, outerHi, tol = tol, divmax = divmax, show = isShow)"
   ]
  },
  {
   "cell_type": "code",
   "execution_count": 15,
   "metadata": {},
   "outputs": [
    {
     "name": "stdout",
     "output_type": "stream",
     "text": [
      "r 4.0\n"
     ]
    }
   ],
   "source": [
    "def test(x, y):\n",
    "    return np.cos(12*x)**2\n",
    "r = 1.0/(np.pi**2) * doubleIntegral(test, 0.0, 2*np.pi, 0.0, 2.0*np.pi)\n",
    "print('r', r )"
   ]
  },
  {
   "cell_type": "code",
   "execution_count": 16,
   "metadata": {},
   "outputs": [],
   "source": [
    "def test2(x):\n",
    "    return 1.0/(np.pi**2) * np.cos(12*x)**2"
   ]
  },
  {
   "cell_type": "code",
   "execution_count": 19,
   "metadata": {},
   "outputs": [
    {
     "name": "stdout",
     "output_type": "stream",
     "text": [
      "0.31830988618379036\n"
     ]
    }
   ],
   "source": [
    "from scipy.integrate import quad\n",
    "res = quad(test2, 0, 2.0*np.pi)\n",
    "(2.0*np.pi) * res[0]\n",
    "print(res[0])"
   ]
  },
  {
   "cell_type": "code",
   "execution_count": null,
   "metadata": {},
   "outputs": [],
   "source": []
  }
 ],
 "metadata": {
  "kernelspec": {
   "display_name": "Python 3",
   "language": "python",
   "name": "python3"
  },
  "language_info": {
   "codemirror_mode": {
    "name": "ipython",
    "version": 3
   },
   "file_extension": ".py",
   "mimetype": "text/x-python",
   "name": "python",
   "nbconvert_exporter": "python",
   "pygments_lexer": "ipython3",
   "version": "3.6.3"
  }
 },
 "nbformat": 4,
 "nbformat_minor": 2
}
