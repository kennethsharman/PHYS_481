{
 "cells": [
  {
   "cell_type": "markdown",
   "metadata": {},
   "source": [
    "## ODE\n",
    "\n",
    "$$ \\dfrac{d^2y}{dt^2} = -y + g(t) $$\n",
    "\n",
    "The odient function can only solve ODEs of the form\n",
    "\n",
    "$$ \\dfrac{dy}{dt} = F(y, t) $$\n",
    "\n",
    "Reformulate it as a system of coupled first-order equations. First, define two new variables that will be the components of he vector $y$.\n",
    "\n",
    "$$ y_1 = y $$\n",
    "\n",
    "$$ y_2 = \\dfrac{dy_1}{dt} $$\n",
    "\n",
    "Next, write the derivatives of $y_1$ and $y_2$ in terms of $y_1$, $y_2$ and $t$.\n",
    "\n",
    "$$ \\dfrac{dy_1}{dt} = \\dfrac{dy}{dt} = y_2 $$\n",
    "\n",
    "$$ \\dfrac{dy_2}{dt} = \\dfrac{d^2y}{dt^2} = -y + g = -y_1 + g $$\n",
    "\n",
    "This allows us to cast our problem, a second-order DE, in the form required by odeint. Here, $y$ is an array with two entries, and $F(y,t)$ returns an array with two entries:\n",
    "\n",
    "\\begin{equation}\n",
    "F(y,t) = \\begin{vmatrix} y_2 \\\\ -y_1 + g \\end{vmatrix}\n",
    "\\end{equation}\n",
    "\n",
    "The general function call is: $y = odient(F, y0, t)$\n",
    "\n",
    "$F$ - A function $F(y, t)$\n",
    "\n",
    "$y0$ - A one-dimensional array with the initial values of $y$\n",
    "\n",
    "$t$ - An array of t values at which $y$ is to be computed.  The first entry of this array is the time at which the initial values of $y0$ apply.\n",
    "\n",
    "$y$ - An aray of the values of $y(t)$ at the points specified in $t$."
   ]
  },
  {
   "cell_type": "code",
   "execution_count": 5,
   "metadata": {},
   "outputs": [
    {
     "data": {
      "text/plain": [
       "[<matplotlib.lines.Line2D at 0x2b99eade3c8>]"
      ]
     },
     "execution_count": 5,
     "metadata": {},
     "output_type": "execute_result"
    },
    {
     "data": {
      "image/png": "[encoded data removed]",
      "text/plain": [
       "<matplotlib.figure.Figure at 0x2b99eade240>"
      ]
     },
     "metadata": {},
     "output_type": "display_data"
    }
   ],
   "source": [
    "# Motion of an undriven harmonic oscillator \n",
    "\n",
    "def F(y, t):\n",
    "    '''\n",
    "    Return derivatives for 2nd-order ODE y''= -y\n",
    "    '''\n",
    "    \n",
    "    dy = [0, 0] # Create a list to store derivatives\n",
    "    dy[0] = y[1] # Store first derivative of y(t)\n",
    "    dy[1] = -y[0] # Store second derivative of y(t)\n",
    "    return dy\n",
    "\n",
    "import numpy as np, matplotlib.pyplot as plt\n",
    "from scipy.integrate import odeint\n",
    "\n",
    "# Create array of time values to study:\n",
    "t_min = 0; t_max = 10; dt = 0.1\n",
    "t = np.arange(t_min, t_max+dt, dt)\n",
    "\n",
    "# Provide two sets of initial conditions:\n",
    "initial_conditions = [ (1.0, 0.0), (0.0, 1.0) ]\n",
    "\n",
    "plt.figure()\n",
    "for y0 in initial_conditions:\n",
    "    y = odeint(F, y0, t)\n",
    "    plt.plot(y, y[:, 0], linewidth=2)\n",
    "    \n",
    "skip = 5\n",
    "t_test = t[::skip] # Compare at a subset of points.\n",
    "plt.plot(t_test, np.cos(t_test), 'bo') # Exact solution for y0 = (1, 0)\n",
    "plt.plot(t_test, np.sin(t_test), 'go') # Exact solution for y0 = (0, 1)"
   ]
  },
  {
   "cell_type": "code",
   "execution_count": null,
   "metadata": {},
   "outputs": [],
   "source": []
  }
 ],
 "metadata": {
  "kernelspec": {
   "display_name": "Python 3",
   "language": "python",
   "name": "python3"
  },
  "language_info": {
   "codemirror_mode": {
    "name": "ipython",
    "version": 3
   },
   "file_extension": ".py",
   "mimetype": "text/x-python",
   "name": "python",
   "nbconvert_exporter": "python",
   "pygments_lexer": "ipython3",
   "version": "3.6.3"
  }
 },
 "nbformat": 4,
 "nbformat_minor": 2
}
