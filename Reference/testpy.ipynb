{
 "cells": [
  {
   "cell_type": "code",
   "execution_count": 2,
   "metadata": {},
   "outputs": [],
   "source": [
    "import numpy as np\n",
    "import scipy.integrate as integrate\n",
    "\n",
    "def doubleIntegral(integrand, outerLo, outerHi, innerLo, innerHi, tol = 1e-6, divmax = 1000, isShow = False):\n",
    "    def inner(y):\n",
    "        return integrate.romberg(integrand, innerLo, innerHi, args=(y,), tol = tol, divmax = divmax, show = isShow)\n",
    "    return integrate.romberg(inner, outerLo, outerHi, tol = tol, divmax = divmax, show = isShow)"
   ]
  },
  {
   "cell_type": "code",
   "execution_count": 63,
   "metadata": {},
   "outputs": [
    {
     "name": "stdout",
     "output_type": "stream",
     "text": [
      "r 2.0\n"
     ]
    }
   ],
   "source": [
    "def test(x, y):\n",
    "    return np.cos(12*x)*np.cos(12*y)\n",
    "r = 1/(np.pi**2) * doubleIntegral(test, 0.0, 2*np.pi, 0.0, np.pi)\n",
    "print('r', r )"
   ]
  },
  {
   "cell_type": "code",
   "execution_count": 53,
   "metadata": {},
   "outputs": [
    {
     "name": "stdout",
     "output_type": "stream",
     "text": [
      "cos(12*x)**2\n"
     ]
    }
   ],
   "source": [
    "import sympy as sp\n",
    "from math import cos\n",
    "\n",
    "x = sp.Symbol('x')\n",
    "f_expr = sp.cos(12*x)**2\n",
    "print(f_expr)"
   ]
  },
  {
   "cell_type": "code",
   "execution_count": 54,
   "metadata": {},
   "outputs": [
    {
     "name": "stdout",
     "output_type": "stream",
     "text": [
      "x/2 + sin(12*x)*cos(12*x)/24\n"
     ]
    }
   ],
   "source": [
    "F_expr = sp.integrate(f_expr, x)\n",
    "print(F_expr)"
   ]
  },
  {
   "cell_type": "code",
   "execution_count": 57,
   "metadata": {},
   "outputs": [
    {
     "data": {
      "text/plain": [
       "-sin(12*x)**2/2 + cos(12*x)**2/2 + 1/2"
      ]
     },
     "execution_count": 57,
     "metadata": {},
     "output_type": "execute_result"
    }
   ],
   "source": [
    "g_expr = (x/2) + sp.sin(12*x)*sp.cos(12*x)\n",
    "sp.diff(F_expr, x)"
   ]
  },
  {
   "cell_type": "code",
   "execution_count": 52,
   "metadata": {},
   "outputs": [
    {
     "name": "stdout",
     "output_type": "stream",
     "text": [
      "-2.449293598294706e-16\n",
      "0.0\n"
     ]
    }
   ],
   "source": [
    "F = sp.lambdify([x], F_expr) # turn F_expr to F(x) function\n",
    "print(F(2*np.pi))\n",
    "print(2.0*np.pi/(np.pi**2)*F(0))"
   ]
  },
  {
   "cell_type": "code",
   "execution_count": 48,
   "metadata": {},
   "outputs": [
    {
     "name": "stdout",
     "output_type": "stream",
     "text": [
      "3.14159265358979\n"
     ]
    }
   ],
   "source": [
    "from scipy.integrate import quad\n",
    "res = quad(test, 0, 2.0*np.pi, limit=1000)\n",
    "(2.0*np.pi)/(np.pi**2) * res[0]\n",
    "print(res[0])"
   ]
  },
  {
   "cell_type": "code",
   "execution_count": 74,
   "metadata": {},
   "outputs": [
    {
     "name": "stdout",
     "output_type": "stream",
     "text": [
      "res1 2.467401100272337\n",
      "res2 9.869604401089358\n"
     ]
    }
   ],
   "source": [
    "def h(x):\n",
    "    return np.cos(12*x)**2\n",
    "\n",
    "res1 = quad(h, 0, np.pi , limit=1000)\n",
    "\n",
    "def l(x, y):\n",
    "    return np.cos(12*x) * np.cos(12*y)\n",
    "\n",
    "res2 = doubleIntegral(l, 0.0, np.pi, 0.0, np.pi)\n",
    "\n",
    "print('res1', res1[0]**2)\n",
    "print('res2', res2)"
   ]
  },
  {
   "cell_type": "code",
   "execution_count": null,
   "metadata": {},
   "outputs": [],
   "source": []
  },
  {
   "cell_type": "code",
   "execution_count": null,
   "metadata": {},
   "outputs": [],
   "source": []
  }
 ],
 "metadata": {
  "kernelspec": {
   "display_name": "Python 3",
   "language": "python",
   "name": "python3"
  },
  "language_info": {
   "codemirror_mode": {
    "name": "ipython",
    "version": 3
   },
   "file_extension": ".py",
   "mimetype": "text/x-python",
   "name": "python",
   "nbconvert_exporter": "python",
   "pygments_lexer": "ipython3",
   "version": "3.6.3"
  }
 },
 "nbformat": 4,
 "nbformat_minor": 2
}
